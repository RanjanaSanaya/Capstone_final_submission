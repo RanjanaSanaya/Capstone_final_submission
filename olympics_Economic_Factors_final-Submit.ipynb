{
 "cells": [
  {
   "cell_type": "markdown",
   "metadata": {},
   "source": [
    "THIS NOTEBOOK IS TO PREDICT IF COUNTRY'S ECONIMICAL FACTOR HELP COUNTRIES TO WIN LOW,MEDIUM OR HIGH NUMBER OF MEDALS."
   ]
  },
  {
   "cell_type": "code",
   "execution_count": 1,
   "metadata": {},
   "outputs": [
    {
     "name": "stdout",
     "output_type": "stream",
     "text": [
      "Collecting xgboost\n",
      "  Using cached xgboost-1.4.2-py3-none-manylinux2010_x86_64.whl (166.7 MB)\n",
      "Requirement already satisfied: scipy in /opt/conda/lib/python3.7/site-packages (from xgboost) (1.4.1)\n",
      "Requirement already satisfied: numpy in /opt/conda/lib/python3.7/site-packages (from xgboost) (1.18.4)\n",
      "Installing collected packages: xgboost\n",
      "Successfully installed xgboost-1.4.2\n",
      "Collecting imblearn\n",
      "  Using cached imblearn-0.0-py2.py3-none-any.whl (1.9 kB)\n",
      "Collecting imbalanced-learn\n",
      "  Using cached imbalanced_learn-0.8.0-py3-none-any.whl (206 kB)\n",
      "Requirement already satisfied: scipy>=0.19.1 in /opt/conda/lib/python3.7/site-packages (from imbalanced-learn->imblearn) (1.4.1)\n",
      "Collecting scikit-learn>=0.24\n",
      "  Using cached scikit_learn-0.24.2-cp37-cp37m-manylinux2010_x86_64.whl (22.3 MB)\n",
      "Requirement already satisfied: joblib>=0.11 in /opt/conda/lib/python3.7/site-packages (from imbalanced-learn->imblearn) (0.15.1)\n",
      "Requirement already satisfied: numpy>=1.13.3 in /opt/conda/lib/python3.7/site-packages (from imbalanced-learn->imblearn) (1.18.4)\n",
      "Collecting threadpoolctl>=2.0.0\n",
      "  Using cached threadpoolctl-2.2.0-py3-none-any.whl (12 kB)\n",
      "Installing collected packages: threadpoolctl, scikit-learn, imbalanced-learn, imblearn\n",
      "  Attempting uninstall: scikit-learn\n",
      "    Found existing installation: scikit-learn 0.22.2.post1\n",
      "    Uninstalling scikit-learn-0.22.2.post1:\n",
      "      Successfully uninstalled scikit-learn-0.22.2.post1\n",
      "Successfully installed imbalanced-learn-0.8.0 imblearn-0.0 scikit-learn-0.24.2 threadpoolctl-2.2.0\n"
     ]
    }
   ],
   "source": [
    "!pip install xgboost\n",
    "!pip install imblearn\n",
    "import pandas as pd\n",
    "import seaborn as sns\n",
    "import numpy as np\n",
    "import matplotlib.pyplot as plt\n",
    "%matplotlib inline\n",
    "from sklearn.feature_selection import SelectKBest\n",
    "from sklearn.feature_selection import chi2\n",
    "import sklearn.ensemble\n",
    "from sklearn.feature_selection import SelectFromModel\n",
    "from sklearn.metrics import accuracy_score\n",
    "from sklearn.linear_model import LinearRegression\n",
    "from sklearn.model_selection import cross_val_score\n",
    "from scipy import stats\n",
    "from scipy.stats import norm\n",
    "from scipy.stats import shapiro\n",
    "from sklearn.metrics import mean_absolute_error\n",
    "from sklearn.metrics import mean_squared_error\n",
    "from math import sqrt\n",
    "from sklearn.model_selection import TimeSeriesSplit\n",
    "pd.options.mode.chained_assignment = None  # default='warn'\n",
    "from sklearn.ensemble import RandomForestClassifier\n",
    "from sklearn.tree import DecisionTreeClassifier\n",
    "#from sklearn.ensemble import OrdinalClassifier\n",
    "from sklearn.feature_selection import SelectFromModel\n",
    "from sklearn.preprocessing import MinMaxScaler\n",
    "from sklearn.feature_selection import RFE\n",
    "from sklearn import metrics\n",
    "from sklearn.metrics import classification_report\n",
    "from sklearn.metrics import accuracy_score, confusion_matrix, classification_report,roc_auc_score, roc_curve, classification_report, precision_recall_curve\n",
    "import xgboost\n",
    "from xgboost import XGBClassifier\n",
    "import time\n",
    "from sklearn.model_selection import GridSearchCV\n",
    "from sklearn import preprocessing\n",
    "from sklearn.preprocessing import LabelEncoder\n",
    "from imblearn.over_sampling import SMOTE\n",
    "import imblearn\n",
    "import collections\n",
    "from sklearn.metrics import matthews_corrcoef\n",
    "import statsmodels.api as sm\n",
    "import pylab as py"
   ]
  },
  {
   "cell_type": "markdown",
   "metadata": {},
   "source": [
    "Reading  Events and regions file and merging them"
   ]
  },
  {
   "cell_type": "code",
   "execution_count": 2,
   "metadata": {},
   "outputs": [
    {
     "name": "stdout",
     "output_type": "stream",
     "text": [
      "   ID                      Name Sex   Age  Height  Weight            Team  \\\n",
      "0   1                 A Dijiang   M  24.0   180.0    80.0           China   \n",
      "1   2                  A Lamusi   M  23.0   170.0    60.0           China   \n",
      "2   3       Gunnar Nielsen Aaby   M  24.0     NaN     NaN         Denmark   \n",
      "3   4      Edgar Lindenau Aabye   M  34.0     NaN     NaN  Denmark/Sweden   \n",
      "4   5  Christine Jacoba Aaftink   F  21.0   185.0    82.0     Netherlands   \n",
      "\n",
      "   NOC        Games  Year  Season       City          Sport  \\\n",
      "0  CHN  1992 Summer  1992  Summer  Barcelona     Basketball   \n",
      "1  CHN  2012 Summer  2012  Summer     London           Judo   \n",
      "2  DEN  1920 Summer  1920  Summer  Antwerpen       Football   \n",
      "3  DEN  1900 Summer  1900  Summer      Paris     Tug-Of-War   \n",
      "4  NED  1988 Winter  1988  Winter    Calgary  Speed Skating   \n",
      "\n",
      "                              Event Medal       region notes  \n",
      "0       Basketball Men's Basketball   NaN        China   NaN  \n",
      "1      Judo Men's Extra-Lightweight   NaN        China   NaN  \n",
      "2           Football Men's Football   NaN      Denmark   NaN  \n",
      "3       Tug-Of-War Men's Tug-Of-War  Gold      Denmark   NaN  \n",
      "4  Speed Skating Women's 500 metres   NaN  Netherlands   NaN   (271116, 17)\n"
     ]
    }
   ],
   "source": [
    "events=pd.read_csv(\"/home/jovyan/athlete_events.csv\") \n",
    "regions=pd.read_csv(\"/home/jovyan/noc_regions.csv\")\n",
    "olympics = pd.merge(events, regions, on=\"NOC\", how=\"left\") \n",
    "print(olympics.head(),olympics.shape)"
   ]
  },
  {
   "cell_type": "markdown",
   "metadata": {},
   "source": [
    "Filtering the Dataset to include only Summer data"
   ]
  },
  {
   "cell_type": "code",
   "execution_count": 3,
   "metadata": {},
   "outputs": [],
   "source": [
    "Summer_olympics=olympics[(olympics.Season=='Summer') & (olympics.Year!=1906)]"
   ]
  },
  {
   "cell_type": "markdown",
   "metadata": {},
   "source": [
    "Now preparing the Dataset to merge with GDP and Population data "
   ]
  },
  {
   "cell_type": "code",
   "execution_count": 4,
   "metadata": {},
   "outputs": [
    {
     "name": "stdout",
     "output_type": "stream",
     "text": [
      "<class 'pandas.core.frame.DataFrame'>\n",
      "Int64Index: 220819 entries, 0 to 271110\n",
      "Data columns (total 17 columns):\n",
      " #   Column  Non-Null Count   Dtype  \n",
      "---  ------  --------------   -----  \n",
      " 0   ID      220819 non-null  int64  \n",
      " 1   Name    220819 non-null  object \n",
      " 2   Sex     220819 non-null  object \n",
      " 3   Age     212373 non-null  float64\n",
      " 4   Height  170438 non-null  float64\n",
      " 5   Weight  168493 non-null  float64\n",
      " 6   Team    220819 non-null  object \n",
      " 7   NOC     220819 non-null  object \n",
      " 8   Games   220819 non-null  object \n",
      " 9   Year    220819 non-null  int64  \n",
      " 10  Season  220819 non-null  object \n",
      " 11  City    220819 non-null  object \n",
      " 12  Sport   220819 non-null  object \n",
      " 13  Event   220819 non-null  object \n",
      " 14  Medal   33630 non-null   object \n",
      " 15  region  220819 non-null  object \n",
      " 16  notes   4361 non-null    object \n",
      "dtypes: float64(3), int64(2), object(12)\n",
      "memory usage: 30.3+ MB\n"
     ]
    }
   ],
   "source": [
    "## filling the NaN values of column 'Region' by taking the values from 'Team' \n",
    "Summer_olympics[\"region\"].fillna(Summer_olympics[\"Team\"], inplace=True)\n",
    "Summer_olympics.info()\n"
   ]
  },
  {
   "cell_type": "markdown",
   "metadata": {},
   "source": [
    "Just selecting the required columns now"
   ]
  },
  {
   "cell_type": "code",
   "execution_count": 5,
   "metadata": {},
   "outputs": [
    {
     "name": "stdout",
     "output_type": "stream",
     "text": [
      "<class 'pandas.core.frame.DataFrame'>\n",
      "Int64Index: 220819 entries, 0 to 271110\n",
      "Data columns (total 6 columns):\n",
      " #   Column  Non-Null Count   Dtype \n",
      "---  ------  --------------   ----- \n",
      " 0   NOC     220819 non-null  object\n",
      " 1   Sex     220819 non-null  object\n",
      " 2   Year    220819 non-null  int64 \n",
      " 3   City    220819 non-null  object\n",
      " 4   Medal   33630 non-null   object\n",
      " 5   region  220819 non-null  object\n",
      "dtypes: int64(1), object(5)\n",
      "memory usage: 11.8+ MB\n"
     ]
    }
   ],
   "source": [
    "Summer_olympics = Summer_olympics[[\"NOC\",\"Sex\",\"Year\", \"City\", \"Medal\",\"region\"]]\n",
    "Summer_olympics.info()\n"
   ]
  },
  {
   "cell_type": "code",
   "execution_count": 6,
   "metadata": {},
   "outputs": [
    {
     "data": {
      "text/html": [
       "<div>\n",
       "<style scoped>\n",
       "    .dataframe tbody tr th:only-of-type {\n",
       "        vertical-align: middle;\n",
       "    }\n",
       "\n",
       "    .dataframe tbody tr th {\n",
       "        vertical-align: top;\n",
       "    }\n",
       "\n",
       "    .dataframe thead th {\n",
       "        text-align: right;\n",
       "    }\n",
       "</style>\n",
       "<table border=\"1\" class=\"dataframe\">\n",
       "  <thead>\n",
       "    <tr style=\"text-align: right;\">\n",
       "      <th></th>\n",
       "      <th>NOC</th>\n",
       "      <th>Sex</th>\n",
       "      <th>Year</th>\n",
       "      <th>City</th>\n",
       "      <th>Medal</th>\n",
       "      <th>region</th>\n",
       "    </tr>\n",
       "  </thead>\n",
       "  <tbody>\n",
       "    <tr>\n",
       "      <th>0</th>\n",
       "      <td>AUS</td>\n",
       "      <td>M</td>\n",
       "      <td>1896</td>\n",
       "      <td>Athina</td>\n",
       "      <td>NaN</td>\n",
       "      <td>Australia</td>\n",
       "    </tr>\n",
       "    <tr>\n",
       "      <th>1</th>\n",
       "      <td>AUS</td>\n",
       "      <td>M</td>\n",
       "      <td>1896</td>\n",
       "      <td>Athina</td>\n",
       "      <td>Bronze</td>\n",
       "      <td>Australia</td>\n",
       "    </tr>\n",
       "    <tr>\n",
       "      <th>2</th>\n",
       "      <td>AUS</td>\n",
       "      <td>M</td>\n",
       "      <td>1896</td>\n",
       "      <td>Athina</td>\n",
       "      <td>Gold</td>\n",
       "      <td>Australia</td>\n",
       "    </tr>\n",
       "    <tr>\n",
       "      <th>3</th>\n",
       "      <td>AUS</td>\n",
       "      <td>M</td>\n",
       "      <td>1896</td>\n",
       "      <td>Athina</td>\n",
       "      <td>Gold</td>\n",
       "      <td>Australia</td>\n",
       "    </tr>\n",
       "    <tr>\n",
       "      <th>4</th>\n",
       "      <td>AUS</td>\n",
       "      <td>M</td>\n",
       "      <td>1896</td>\n",
       "      <td>Athina</td>\n",
       "      <td>NaN</td>\n",
       "      <td>Australia</td>\n",
       "    </tr>\n",
       "  </tbody>\n",
       "</table>\n",
       "</div>"
      ],
      "text/plain": [
       "   NOC Sex  Year    City   Medal     region\n",
       "0  AUS   M  1896  Athina     NaN  Australia\n",
       "1  AUS   M  1896  Athina  Bronze  Australia\n",
       "2  AUS   M  1896  Athina    Gold  Australia\n",
       "3  AUS   M  1896  Athina    Gold  Australia\n",
       "4  AUS   M  1896  Athina     NaN  Australia"
      ]
     },
     "execution_count": 6,
     "metadata": {},
     "output_type": "execute_result"
    }
   ],
   "source": [
    "#change faulty country code values.\n",
    "faulty_codes_dict = {\"MAS\": \"MAL\", \"NBO\": \"MAL\",\n",
    "                    \"TCH\": \"CZE\",\n",
    "                    \"YUG\": \"SRB\", \"SCG\": \"SRB\",\n",
    "                    \"TTO\": \"TRI\", \"WIF\": \"TRI\",\n",
    "                    \"SAA\": \"GER\", \"GDR\": \"GER\",\n",
    "                    \"URS\": \"RUS\", \"EUN\": \"RUS\",\n",
    "                    \"VNM\": \"VIE\",\n",
    "                    \"RHO\": \"ZIM\",\n",
    "                    \"UAR\": \"SYR\",\n",
    "                    \"YAR\": \"YEM\", \"YMD\": \"YEM\",\n",
    "                    \"SSD\": \"SUD\"}\n",
    "\n",
    "Summer_olympics = Summer_olympics.replace(to_replace = faulty_codes_dict)\n",
    "\n",
    "#sort by year and country\n",
    "Summer_olympics = Summer_olympics.sort_values(by = [\"Year\", \"NOC\"])\n",
    "Summer_olympics = Summer_olympics.reset_index(drop = True)\n",
    "Summer_olympics.head()"
   ]
  },
  {
   "cell_type": "markdown",
   "metadata": {},
   "source": [
    "Check if there are any null values in the columns"
   ]
  },
  {
   "cell_type": "code",
   "execution_count": 7,
   "metadata": {},
   "outputs": [
    {
     "data": {
      "text/plain": [
       "NOC       False\n",
       "Sex       False\n",
       "Year      False\n",
       "City      False\n",
       "Medal      True\n",
       "region    False\n",
       "dtype: bool"
      ]
     },
     "execution_count": 7,
     "metadata": {},
     "output_type": "execute_result"
    }
   ],
   "source": [
    "Summer_olympics.isnull().any()"
   ]
  },
  {
   "cell_type": "markdown",
   "metadata": {},
   "source": [
    "Medal column has null values. We will be replacing it with the value 0"
   ]
  },
  {
   "cell_type": "code",
   "execution_count": 8,
   "metadata": {},
   "outputs": [
    {
     "data": {
      "text/html": [
       "<div>\n",
       "<style scoped>\n",
       "    .dataframe tbody tr th:only-of-type {\n",
       "        vertical-align: middle;\n",
       "    }\n",
       "\n",
       "    .dataframe tbody tr th {\n",
       "        vertical-align: top;\n",
       "    }\n",
       "\n",
       "    .dataframe thead th {\n",
       "        text-align: right;\n",
       "    }\n",
       "</style>\n",
       "<table border=\"1\" class=\"dataframe\">\n",
       "  <thead>\n",
       "    <tr style=\"text-align: right;\">\n",
       "      <th></th>\n",
       "      <th>NOC</th>\n",
       "      <th>Sex</th>\n",
       "      <th>Year</th>\n",
       "      <th>City</th>\n",
       "      <th>Medal</th>\n",
       "      <th>region</th>\n",
       "    </tr>\n",
       "  </thead>\n",
       "  <tbody>\n",
       "    <tr>\n",
       "      <th>0</th>\n",
       "      <td>AUS</td>\n",
       "      <td>M</td>\n",
       "      <td>1896</td>\n",
       "      <td>Athina</td>\n",
       "      <td>0</td>\n",
       "      <td>Australia</td>\n",
       "    </tr>\n",
       "    <tr>\n",
       "      <th>1</th>\n",
       "      <td>AUS</td>\n",
       "      <td>M</td>\n",
       "      <td>1896</td>\n",
       "      <td>Athina</td>\n",
       "      <td>Bronze</td>\n",
       "      <td>Australia</td>\n",
       "    </tr>\n",
       "    <tr>\n",
       "      <th>2</th>\n",
       "      <td>AUS</td>\n",
       "      <td>M</td>\n",
       "      <td>1896</td>\n",
       "      <td>Athina</td>\n",
       "      <td>Gold</td>\n",
       "      <td>Australia</td>\n",
       "    </tr>\n",
       "    <tr>\n",
       "      <th>3</th>\n",
       "      <td>AUS</td>\n",
       "      <td>M</td>\n",
       "      <td>1896</td>\n",
       "      <td>Athina</td>\n",
       "      <td>Gold</td>\n",
       "      <td>Australia</td>\n",
       "    </tr>\n",
       "    <tr>\n",
       "      <th>4</th>\n",
       "      <td>AUS</td>\n",
       "      <td>M</td>\n",
       "      <td>1896</td>\n",
       "      <td>Athina</td>\n",
       "      <td>0</td>\n",
       "      <td>Australia</td>\n",
       "    </tr>\n",
       "  </tbody>\n",
       "</table>\n",
       "</div>"
      ],
      "text/plain": [
       "   NOC Sex  Year    City   Medal     region\n",
       "0  AUS   M  1896  Athina       0  Australia\n",
       "1  AUS   M  1896  Athina  Bronze  Australia\n",
       "2  AUS   M  1896  Athina    Gold  Australia\n",
       "3  AUS   M  1896  Athina    Gold  Australia\n",
       "4  AUS   M  1896  Athina       0  Australia"
      ]
     },
     "execution_count": 8,
     "metadata": {},
     "output_type": "execute_result"
    }
   ],
   "source": [
    "Summer_olympics[\"Medal\"].fillna(value = 0, inplace = True)\n",
    "Summer_olympics.head()"
   ]
  },
  {
   "cell_type": "markdown",
   "metadata": {},
   "source": [
    "Sorting the dataset by Year and then NOC"
   ]
  },
  {
   "cell_type": "code",
   "execution_count": 9,
   "metadata": {},
   "outputs": [
    {
     "data": {
      "text/html": [
       "<div>\n",
       "<style scoped>\n",
       "    .dataframe tbody tr th:only-of-type {\n",
       "        vertical-align: middle;\n",
       "    }\n",
       "\n",
       "    .dataframe tbody tr th {\n",
       "        vertical-align: top;\n",
       "    }\n",
       "\n",
       "    .dataframe thead th {\n",
       "        text-align: right;\n",
       "    }\n",
       "</style>\n",
       "<table border=\"1\" class=\"dataframe\">\n",
       "  <thead>\n",
       "    <tr style=\"text-align: right;\">\n",
       "      <th></th>\n",
       "      <th>NOC</th>\n",
       "      <th>Sex</th>\n",
       "      <th>Year</th>\n",
       "      <th>City</th>\n",
       "      <th>Medal</th>\n",
       "      <th>region</th>\n",
       "    </tr>\n",
       "  </thead>\n",
       "  <tbody>\n",
       "    <tr>\n",
       "      <th>0</th>\n",
       "      <td>AUS</td>\n",
       "      <td>M</td>\n",
       "      <td>1896</td>\n",
       "      <td>Athina</td>\n",
       "      <td>0</td>\n",
       "      <td>Australia</td>\n",
       "    </tr>\n",
       "    <tr>\n",
       "      <th>1</th>\n",
       "      <td>AUS</td>\n",
       "      <td>M</td>\n",
       "      <td>1896</td>\n",
       "      <td>Athina</td>\n",
       "      <td>Bronze</td>\n",
       "      <td>Australia</td>\n",
       "    </tr>\n",
       "    <tr>\n",
       "      <th>2</th>\n",
       "      <td>AUS</td>\n",
       "      <td>M</td>\n",
       "      <td>1896</td>\n",
       "      <td>Athina</td>\n",
       "      <td>Gold</td>\n",
       "      <td>Australia</td>\n",
       "    </tr>\n",
       "    <tr>\n",
       "      <th>3</th>\n",
       "      <td>AUS</td>\n",
       "      <td>M</td>\n",
       "      <td>1896</td>\n",
       "      <td>Athina</td>\n",
       "      <td>Gold</td>\n",
       "      <td>Australia</td>\n",
       "    </tr>\n",
       "    <tr>\n",
       "      <th>4</th>\n",
       "      <td>AUS</td>\n",
       "      <td>M</td>\n",
       "      <td>1896</td>\n",
       "      <td>Athina</td>\n",
       "      <td>0</td>\n",
       "      <td>Australia</td>\n",
       "    </tr>\n",
       "  </tbody>\n",
       "</table>\n",
       "</div>"
      ],
      "text/plain": [
       "   NOC Sex  Year    City   Medal     region\n",
       "0  AUS   M  1896  Athina       0  Australia\n",
       "1  AUS   M  1896  Athina  Bronze  Australia\n",
       "2  AUS   M  1896  Athina    Gold  Australia\n",
       "3  AUS   M  1896  Athina    Gold  Australia\n",
       "4  AUS   M  1896  Athina       0  Australia"
      ]
     },
     "execution_count": 9,
     "metadata": {},
     "output_type": "execute_result"
    }
   ],
   "source": [
    "#sort by year and country\n",
    "Summer_olympics = Summer_olympics.sort_values(by = [\"Year\", \"NOC\"])\n",
    "Summer_olympics = Summer_olympics.reset_index(drop = True)\n",
    "Summer_olympics.head()"
   ]
  },
  {
   "cell_type": "markdown",
   "metadata": {},
   "source": [
    "Creating a new column for total participation "
   ]
  },
  {
   "cell_type": "code",
   "execution_count": 10,
   "metadata": {},
   "outputs": [
    {
     "data": {
      "text/html": [
       "<div>\n",
       "<style scoped>\n",
       "    .dataframe tbody tr th:only-of-type {\n",
       "        vertical-align: middle;\n",
       "    }\n",
       "\n",
       "    .dataframe tbody tr th {\n",
       "        vertical-align: top;\n",
       "    }\n",
       "\n",
       "    .dataframe thead th {\n",
       "        text-align: right;\n",
       "    }\n",
       "</style>\n",
       "<table border=\"1\" class=\"dataframe\">\n",
       "  <thead>\n",
       "    <tr style=\"text-align: right;\">\n",
       "      <th></th>\n",
       "      <th>NOC</th>\n",
       "      <th>Sex</th>\n",
       "      <th>Year</th>\n",
       "      <th>City</th>\n",
       "      <th>Medal</th>\n",
       "      <th>region</th>\n",
       "      <th>Total Participants</th>\n",
       "    </tr>\n",
       "  </thead>\n",
       "  <tbody>\n",
       "    <tr>\n",
       "      <th>0</th>\n",
       "      <td>AUS</td>\n",
       "      <td>M</td>\n",
       "      <td>1896</td>\n",
       "      <td>Athina</td>\n",
       "      <td>0</td>\n",
       "      <td>Australia</td>\n",
       "      <td>5</td>\n",
       "    </tr>\n",
       "    <tr>\n",
       "      <th>1</th>\n",
       "      <td>AUS</td>\n",
       "      <td>M</td>\n",
       "      <td>1896</td>\n",
       "      <td>Athina</td>\n",
       "      <td>Bronze</td>\n",
       "      <td>Australia</td>\n",
       "      <td>5</td>\n",
       "    </tr>\n",
       "    <tr>\n",
       "      <th>2</th>\n",
       "      <td>AUS</td>\n",
       "      <td>M</td>\n",
       "      <td>1896</td>\n",
       "      <td>Athina</td>\n",
       "      <td>Gold</td>\n",
       "      <td>Australia</td>\n",
       "      <td>5</td>\n",
       "    </tr>\n",
       "    <tr>\n",
       "      <th>3</th>\n",
       "      <td>AUS</td>\n",
       "      <td>M</td>\n",
       "      <td>1896</td>\n",
       "      <td>Athina</td>\n",
       "      <td>Gold</td>\n",
       "      <td>Australia</td>\n",
       "      <td>5</td>\n",
       "    </tr>\n",
       "    <tr>\n",
       "      <th>4</th>\n",
       "      <td>AUS</td>\n",
       "      <td>M</td>\n",
       "      <td>1896</td>\n",
       "      <td>Athina</td>\n",
       "      <td>0</td>\n",
       "      <td>Australia</td>\n",
       "      <td>5</td>\n",
       "    </tr>\n",
       "    <tr>\n",
       "      <th>5</th>\n",
       "      <td>AUT</td>\n",
       "      <td>M</td>\n",
       "      <td>1896</td>\n",
       "      <td>Athina</td>\n",
       "      <td>Silver</td>\n",
       "      <td>Austria</td>\n",
       "      <td>8</td>\n",
       "    </tr>\n",
       "    <tr>\n",
       "      <th>6</th>\n",
       "      <td>AUT</td>\n",
       "      <td>M</td>\n",
       "      <td>1896</td>\n",
       "      <td>Athina</td>\n",
       "      <td>Gold</td>\n",
       "      <td>Austria</td>\n",
       "      <td>8</td>\n",
       "    </tr>\n",
       "    <tr>\n",
       "      <th>7</th>\n",
       "      <td>AUT</td>\n",
       "      <td>M</td>\n",
       "      <td>1896</td>\n",
       "      <td>Athina</td>\n",
       "      <td>0</td>\n",
       "      <td>Austria</td>\n",
       "      <td>8</td>\n",
       "    </tr>\n",
       "    <tr>\n",
       "      <th>8</th>\n",
       "      <td>AUT</td>\n",
       "      <td>M</td>\n",
       "      <td>1896</td>\n",
       "      <td>Athina</td>\n",
       "      <td>Bronze</td>\n",
       "      <td>Austria</td>\n",
       "      <td>8</td>\n",
       "    </tr>\n",
       "    <tr>\n",
       "      <th>9</th>\n",
       "      <td>AUT</td>\n",
       "      <td>M</td>\n",
       "      <td>1896</td>\n",
       "      <td>Athina</td>\n",
       "      <td>0</td>\n",
       "      <td>Austria</td>\n",
       "      <td>8</td>\n",
       "    </tr>\n",
       "  </tbody>\n",
       "</table>\n",
       "</div>"
      ],
      "text/plain": [
       "   NOC Sex  Year    City   Medal     region  Total Participants\n",
       "0  AUS   M  1896  Athina       0  Australia                   5\n",
       "1  AUS   M  1896  Athina  Bronze  Australia                   5\n",
       "2  AUS   M  1896  Athina    Gold  Australia                   5\n",
       "3  AUS   M  1896  Athina    Gold  Australia                   5\n",
       "4  AUS   M  1896  Athina       0  Australia                   5\n",
       "5  AUT   M  1896  Athina  Silver    Austria                   8\n",
       "6  AUT   M  1896  Athina    Gold    Austria                   8\n",
       "7  AUT   M  1896  Athina       0    Austria                   8\n",
       "8  AUT   M  1896  Athina  Bronze    Austria                   8\n",
       "9  AUT   M  1896  Athina       0    Austria                   8"
      ]
     },
     "execution_count": 10,
     "metadata": {},
     "output_type": "execute_result"
    }
   ],
   "source": [
    "## participation by country\n",
    "participants_count=Summer_olympics.groupby(['Year','NOC'])[\"NOC\"].count().reset_index(name=\"Total Participants\")\n",
    "participants_count.head()\n",
    "\n",
    "\n",
    "## merging this with our main data set calledSummer_olympics\n",
    "Summer_olympics = pd.merge(Summer_olympics,participants_count,on=['NOC','Year'],how=\"left\")\n",
    "Summer_olympics.head(10)"
   ]
  },
  {
   "cell_type": "markdown",
   "metadata": {},
   "source": [
    "Medal Tally: Medal tally is the sum of all medals won."
   ]
  },
  {
   "cell_type": "code",
   "execution_count": 11,
   "metadata": {},
   "outputs": [
    {
     "data": {
      "text/html": [
       "<div>\n",
       "<style scoped>\n",
       "    .dataframe tbody tr th:only-of-type {\n",
       "        vertical-align: middle;\n",
       "    }\n",
       "\n",
       "    .dataframe tbody tr th {\n",
       "        vertical-align: top;\n",
       "    }\n",
       "\n",
       "    .dataframe thead th {\n",
       "        text-align: right;\n",
       "    }\n",
       "</style>\n",
       "<table border=\"1\" class=\"dataframe\">\n",
       "  <thead>\n",
       "    <tr style=\"text-align: right;\">\n",
       "      <th></th>\n",
       "      <th>NOC</th>\n",
       "      <th>Sex</th>\n",
       "      <th>Year</th>\n",
       "      <th>City</th>\n",
       "      <th>Medal</th>\n",
       "      <th>region</th>\n",
       "      <th>Total Participants</th>\n",
       "      <th>0</th>\n",
       "      <th>Bronze</th>\n",
       "      <th>Gold</th>\n",
       "      <th>Silver</th>\n",
       "      <th>Total Medal</th>\n",
       "    </tr>\n",
       "  </thead>\n",
       "  <tbody>\n",
       "    <tr>\n",
       "      <th>0</th>\n",
       "      <td>AUS</td>\n",
       "      <td>M</td>\n",
       "      <td>1896</td>\n",
       "      <td>Athina</td>\n",
       "      <td>0</td>\n",
       "      <td>Australia</td>\n",
       "      <td>5</td>\n",
       "      <td>2</td>\n",
       "      <td>1</td>\n",
       "      <td>2</td>\n",
       "      <td>0</td>\n",
       "      <td>3</td>\n",
       "    </tr>\n",
       "    <tr>\n",
       "      <th>1</th>\n",
       "      <td>AUS</td>\n",
       "      <td>M</td>\n",
       "      <td>1896</td>\n",
       "      <td>Athina</td>\n",
       "      <td>Bronze</td>\n",
       "      <td>Australia</td>\n",
       "      <td>5</td>\n",
       "      <td>2</td>\n",
       "      <td>1</td>\n",
       "      <td>2</td>\n",
       "      <td>0</td>\n",
       "      <td>3</td>\n",
       "    </tr>\n",
       "    <tr>\n",
       "      <th>2</th>\n",
       "      <td>AUS</td>\n",
       "      <td>M</td>\n",
       "      <td>1896</td>\n",
       "      <td>Athina</td>\n",
       "      <td>Gold</td>\n",
       "      <td>Australia</td>\n",
       "      <td>5</td>\n",
       "      <td>2</td>\n",
       "      <td>1</td>\n",
       "      <td>2</td>\n",
       "      <td>0</td>\n",
       "      <td>3</td>\n",
       "    </tr>\n",
       "    <tr>\n",
       "      <th>3</th>\n",
       "      <td>AUS</td>\n",
       "      <td>M</td>\n",
       "      <td>1896</td>\n",
       "      <td>Athina</td>\n",
       "      <td>Gold</td>\n",
       "      <td>Australia</td>\n",
       "      <td>5</td>\n",
       "      <td>2</td>\n",
       "      <td>1</td>\n",
       "      <td>2</td>\n",
       "      <td>0</td>\n",
       "      <td>3</td>\n",
       "    </tr>\n",
       "    <tr>\n",
       "      <th>4</th>\n",
       "      <td>AUS</td>\n",
       "      <td>M</td>\n",
       "      <td>1896</td>\n",
       "      <td>Athina</td>\n",
       "      <td>0</td>\n",
       "      <td>Australia</td>\n",
       "      <td>5</td>\n",
       "      <td>2</td>\n",
       "      <td>1</td>\n",
       "      <td>2</td>\n",
       "      <td>0</td>\n",
       "      <td>3</td>\n",
       "    </tr>\n",
       "  </tbody>\n",
       "</table>\n",
       "</div>"
      ],
      "text/plain": [
       "   NOC Sex  Year    City   Medal     region  Total Participants  0  Bronze  \\\n",
       "0  AUS   M  1896  Athina       0  Australia                   5  2       1   \n",
       "1  AUS   M  1896  Athina  Bronze  Australia                   5  2       1   \n",
       "2  AUS   M  1896  Athina    Gold  Australia                   5  2       1   \n",
       "3  AUS   M  1896  Athina    Gold  Australia                   5  2       1   \n",
       "4  AUS   M  1896  Athina       0  Australia                   5  2       1   \n",
       "\n",
       "   Gold  Silver  Total Medal  \n",
       "0     2       0            3  \n",
       "1     2       0            3  \n",
       "2     2       0            3  \n",
       "3     2       0            3  \n",
       "4     2       0            3  "
      ]
     },
     "execution_count": 11,
     "metadata": {},
     "output_type": "execute_result"
    }
   ],
   "source": [
    "# creating  new df medal\n",
    "medal = Summer_olympics.groupby(['Year','NOC','Medal']).size().unstack('Medal',fill_value=0)\n",
    "medal['Total Medal'] = medal['Gold'] +medal['Silver'] +medal['Bronze'] \n",
    "medal\n",
    "\n",
    "# merging this with our main data set called olympics_complete\n",
    "Summer_olympics = pd.merge(Summer_olympics,medal,on=['NOC','Year'],how=\"left\")\n",
    "Summer_olympics.head()\n",
    "\n"
   ]
  },
  {
   "cell_type": "code",
   "execution_count": 12,
   "metadata": {},
   "outputs": [],
   "source": [
    "Summer_olympics = Summer_olympics[[\"NOC\",\"Year\",\"City\",\"region\",\"Total Participants\",\"Bronze\",\"Gold\",\"Silver\",\"Total Medal\"]]"
   ]
  },
  {
   "cell_type": "code",
   "execution_count": 13,
   "metadata": {},
   "outputs": [
    {
     "name": "stdout",
     "output_type": "stream",
     "text": [
      "<class 'pandas.core.frame.DataFrame'>\n",
      "Int64Index: 220819 entries, 0 to 220818\n",
      "Data columns (total 9 columns):\n",
      " #   Column              Non-Null Count   Dtype \n",
      "---  ------              --------------   ----- \n",
      " 0   NOC                 220819 non-null  object\n",
      " 1   Year                220819 non-null  int64 \n",
      " 2   City                220819 non-null  object\n",
      " 3   region              220819 non-null  object\n",
      " 4   Total Participants  220819 non-null  int64 \n",
      " 5   Bronze              220819 non-null  int64 \n",
      " 6   Gold                220819 non-null  int64 \n",
      " 7   Silver              220819 non-null  int64 \n",
      " 8   Total Medal         220819 non-null  int64 \n",
      "dtypes: int64(6), object(3)\n",
      "memory usage: 16.8+ MB\n"
     ]
    }
   ],
   "source": [
    "Summer_olympics.info()"
   ]
  },
  {
   "cell_type": "markdown",
   "metadata": {},
   "source": [
    "Once we have the toal participation, lets remove the duplicate rows."
   ]
  },
  {
   "cell_type": "code",
   "execution_count": 14,
   "metadata": {},
   "outputs": [
    {
     "name": "stdout",
     "output_type": "stream",
     "text": [
      "<class 'pandas.core.frame.DataFrame'>\n",
      "Int64Index: 2813 entries, 0 to 220788\n",
      "Data columns (total 9 columns):\n",
      " #   Column              Non-Null Count  Dtype \n",
      "---  ------              --------------  ----- \n",
      " 0   NOC                 2813 non-null   object\n",
      " 1   Year                2813 non-null   int64 \n",
      " 2   City                2813 non-null   object\n",
      " 3   region              2813 non-null   object\n",
      " 4   Total Participants  2813 non-null   int64 \n",
      " 5   Bronze              2813 non-null   int64 \n",
      " 6   Gold                2813 non-null   int64 \n",
      " 7   Silver              2813 non-null   int64 \n",
      " 8   Total Medal         2813 non-null   int64 \n",
      "dtypes: int64(6), object(3)\n",
      "memory usage: 219.8+ KB\n"
     ]
    }
   ],
   "source": [
    "Summer_olympics= Summer_olympics.drop_duplicates()\n",
    "Summer_olympics.info()"
   ]
  },
  {
   "cell_type": "markdown",
   "metadata": {},
   "source": [
    "AS WE ARE TRYING TO SEE WHICH CATEGORY (LOW,MEDIUM or HIGH) A COUNTRY FALLS INTO, LEST ONLY CONSIDER THE COUNTRIES WHO HAVE WON MEDALS AND REMOVE THOSE WHO HAVE ZERO MEDALS."
   ]
  },
  {
   "cell_type": "code",
   "execution_count": 15,
   "metadata": {},
   "outputs": [
    {
     "name": "stdout",
     "output_type": "stream",
     "text": [
      "<class 'pandas.core.frame.DataFrame'>\n",
      "Int64Index: 1280 entries, 0 to 220746\n",
      "Data columns (total 9 columns):\n",
      " #   Column              Non-Null Count  Dtype \n",
      "---  ------              --------------  ----- \n",
      " 0   NOC                 1280 non-null   object\n",
      " 1   Year                1280 non-null   int64 \n",
      " 2   City                1280 non-null   object\n",
      " 3   region              1280 non-null   object\n",
      " 4   Total Participants  1280 non-null   int64 \n",
      " 5   Bronze              1280 non-null   int64 \n",
      " 6   Gold                1280 non-null   int64 \n",
      " 7   Silver              1280 non-null   int64 \n",
      " 8   Total Medal         1280 non-null   int64 \n",
      "dtypes: int64(6), object(3)\n",
      "memory usage: 100.0+ KB\n"
     ]
    }
   ],
   "source": [
    "# lets consider only those countries who have won the medals\n",
    "Summer_olympics = Summer_olympics[(Summer_olympics['Total Medal']!=0)]\n",
    "Summer_olympics.info()"
   ]
  },
  {
   "cell_type": "markdown",
   "metadata": {},
   "source": [
    "Lets Merge this data with population and GDP"
   ]
  },
  {
   "cell_type": "code",
   "execution_count": 16,
   "metadata": {},
   "outputs": [
    {
     "data": {
      "text/html": [
       "<div>\n",
       "<style scoped>\n",
       "    .dataframe tbody tr th:only-of-type {\n",
       "        vertical-align: middle;\n",
       "    }\n",
       "\n",
       "    .dataframe tbody tr th {\n",
       "        vertical-align: top;\n",
       "    }\n",
       "\n",
       "    .dataframe thead th {\n",
       "        text-align: right;\n",
       "    }\n",
       "</style>\n",
       "<table border=\"1\" class=\"dataframe\">\n",
       "  <thead>\n",
       "    <tr style=\"text-align: right;\">\n",
       "      <th></th>\n",
       "      <th>Country Name</th>\n",
       "      <th>Country Code</th>\n",
       "      <th>Year</th>\n",
       "      <th>GDP</th>\n",
       "    </tr>\n",
       "  </thead>\n",
       "  <tbody>\n",
       "    <tr>\n",
       "      <th>0</th>\n",
       "      <td>Afghanistan</td>\n",
       "      <td>AFG</td>\n",
       "      <td>1960</td>\n",
       "      <td>5.377778e+08</td>\n",
       "    </tr>\n",
       "    <tr>\n",
       "      <th>1</th>\n",
       "      <td>Albania</td>\n",
       "      <td>ALB</td>\n",
       "      <td>1960</td>\n",
       "      <td>NaN</td>\n",
       "    </tr>\n",
       "    <tr>\n",
       "      <th>2</th>\n",
       "      <td>Algeria</td>\n",
       "      <td>DZA</td>\n",
       "      <td>1960</td>\n",
       "      <td>2.723649e+09</td>\n",
       "    </tr>\n",
       "    <tr>\n",
       "      <th>3</th>\n",
       "      <td>American Samoa</td>\n",
       "      <td>ASM</td>\n",
       "      <td>1960</td>\n",
       "      <td>NaN</td>\n",
       "    </tr>\n",
       "    <tr>\n",
       "      <th>4</th>\n",
       "      <td>Andorra</td>\n",
       "      <td>AND</td>\n",
       "      <td>1960</td>\n",
       "      <td>NaN</td>\n",
       "    </tr>\n",
       "  </tbody>\n",
       "</table>\n",
       "</div>"
      ],
      "text/plain": [
       "     Country Name Country Code  Year           GDP\n",
       "0     Afghanistan          AFG  1960  5.377778e+08\n",
       "1         Albania          ALB  1960           NaN\n",
       "2         Algeria          DZA  1960  2.723649e+09\n",
       "3  American Samoa          ASM  1960           NaN\n",
       "4         Andorra          AND  1960           NaN"
      ]
     },
     "execution_count": 16,
     "metadata": {},
     "output_type": "execute_result"
    }
   ],
   "source": [
    "#Reading GDP data\n",
    "#The columns are the years for which the GDP has been recorded. This needs to brought into a single column for efficient merging.\n",
    "w_gdp = pd.read_csv(\"/home/jovyan/world_gdp.csv\", skiprows = 3)\n",
    "# Remove unnecessary columns\n",
    "w_gdp.drop(['Indicator Name', 'Indicator Code'], axis = 1, inplace = True)\n",
    "w_gdp = pd.melt(w_gdp, id_vars = ['Country Name', 'Country Code'], var_name = 'Year', value_name = 'GDP')\n",
    "\n",
    "# convert the year column to numeric\n",
    "w_gdp['Year'] = pd.to_numeric(w_gdp['Year'])\n",
    "\n",
    "w_gdp.head()"
   ]
  },
  {
   "cell_type": "code",
   "execution_count": 17,
   "metadata": {},
   "outputs": [
    {
     "name": "stdout",
     "output_type": "stream",
     "text": [
      "Country Name       0\n",
      "Country Code       0\n",
      "Year               0\n",
      "GDP             3225\n",
      "dtype: int64\n"
     ]
    }
   ],
   "source": [
    "print(w_gdp.isnull().sum())"
   ]
  },
  {
   "cell_type": "code",
   "execution_count": 18,
   "metadata": {},
   "outputs": [
    {
     "data": {
      "text/html": [
       "<div>\n",
       "<style scoped>\n",
       "    .dataframe tbody tr th:only-of-type {\n",
       "        vertical-align: middle;\n",
       "    }\n",
       "\n",
       "    .dataframe tbody tr th {\n",
       "        vertical-align: top;\n",
       "    }\n",
       "\n",
       "    .dataframe thead th {\n",
       "        text-align: right;\n",
       "    }\n",
       "</style>\n",
       "<table border=\"1\" class=\"dataframe\">\n",
       "  <thead>\n",
       "    <tr style=\"text-align: right;\">\n",
       "      <th></th>\n",
       "      <th>Country Name</th>\n",
       "      <th>Country Code</th>\n",
       "      <th>Year</th>\n",
       "      <th>GDP</th>\n",
       "    </tr>\n",
       "  </thead>\n",
       "  <tbody>\n",
       "    <tr>\n",
       "      <th>0</th>\n",
       "      <td>Afghanistan</td>\n",
       "      <td>AFG</td>\n",
       "      <td>1960</td>\n",
       "      <td>5.377778e+08</td>\n",
       "    </tr>\n",
       "    <tr>\n",
       "      <th>140</th>\n",
       "      <td>Netherlands</td>\n",
       "      <td>NLD</td>\n",
       "      <td>1960</td>\n",
       "      <td>1.227673e+10</td>\n",
       "    </tr>\n",
       "    <tr>\n",
       "      <th>141</th>\n",
       "      <td>New Caledonia</td>\n",
       "      <td>NCL</td>\n",
       "      <td>1960</td>\n",
       "      <td>NaN</td>\n",
       "    </tr>\n",
       "    <tr>\n",
       "      <th>142</th>\n",
       "      <td>New Zealand</td>\n",
       "      <td>NZL</td>\n",
       "      <td>1960</td>\n",
       "      <td>5.485855e+09</td>\n",
       "    </tr>\n",
       "    <tr>\n",
       "      <th>143</th>\n",
       "      <td>Nicaragua</td>\n",
       "      <td>NIC</td>\n",
       "      <td>1960</td>\n",
       "      <td>NaN</td>\n",
       "    </tr>\n",
       "    <tr>\n",
       "      <th>144</th>\n",
       "      <td>Niger</td>\n",
       "      <td>NER</td>\n",
       "      <td>1960</td>\n",
       "      <td>4.495269e+08</td>\n",
       "    </tr>\n",
       "    <tr>\n",
       "      <th>145</th>\n",
       "      <td>Nigeria</td>\n",
       "      <td>NGA</td>\n",
       "      <td>1960</td>\n",
       "      <td>4.196092e+09</td>\n",
       "    </tr>\n",
       "    <tr>\n",
       "      <th>146</th>\n",
       "      <td>Northern Mariana Islands</td>\n",
       "      <td>MNP</td>\n",
       "      <td>1960</td>\n",
       "      <td>NaN</td>\n",
       "    </tr>\n",
       "    <tr>\n",
       "      <th>147</th>\n",
       "      <td>Norway</td>\n",
       "      <td>NOR</td>\n",
       "      <td>1960</td>\n",
       "      <td>5.163272e+09</td>\n",
       "    </tr>\n",
       "    <tr>\n",
       "      <th>148</th>\n",
       "      <td>Not classified</td>\n",
       "      <td>INX</td>\n",
       "      <td>1960</td>\n",
       "      <td>NaN</td>\n",
       "    </tr>\n",
       "  </tbody>\n",
       "</table>\n",
       "</div>"
      ],
      "text/plain": [
       "                 Country Name Country Code  Year           GDP\n",
       "0                 Afghanistan          AFG  1960  5.377778e+08\n",
       "140               Netherlands          NLD  1960  1.227673e+10\n",
       "141             New Caledonia          NCL  1960           NaN\n",
       "142               New Zealand          NZL  1960  5.485855e+09\n",
       "143                 Nicaragua          NIC  1960           NaN\n",
       "144                     Niger          NER  1960  4.495269e+08\n",
       "145                   Nigeria          NGA  1960  4.196092e+09\n",
       "146  Northern Mariana Islands          MNP  1960           NaN\n",
       "147                    Norway          NOR  1960  5.163272e+09\n",
       "148            Not classified          INX  1960           NaN"
      ]
     },
     "execution_count": 18,
     "metadata": {},
     "output_type": "execute_result"
    }
   ],
   "source": [
    "sort = w_gdp.sort_values(['Year'])\n",
    "sort.head(10)"
   ]
  },
  {
   "cell_type": "code",
   "execution_count": 19,
   "metadata": {},
   "outputs": [
    {
     "data": {
      "text/html": [
       "<div>\n",
       "<style scoped>\n",
       "    .dataframe tbody tr th:only-of-type {\n",
       "        vertical-align: middle;\n",
       "    }\n",
       "\n",
       "    .dataframe tbody tr th {\n",
       "        vertical-align: top;\n",
       "    }\n",
       "\n",
       "    .dataframe thead th {\n",
       "        text-align: right;\n",
       "    }\n",
       "</style>\n",
       "<table border=\"1\" class=\"dataframe\">\n",
       "  <thead>\n",
       "    <tr style=\"text-align: right;\">\n",
       "      <th></th>\n",
       "      <th>NOC</th>\n",
       "      <th>Year</th>\n",
       "      <th>City</th>\n",
       "      <th>region</th>\n",
       "      <th>Total Participants</th>\n",
       "      <th>Bronze</th>\n",
       "      <th>Gold</th>\n",
       "      <th>Silver</th>\n",
       "      <th>Total Medal</th>\n",
       "    </tr>\n",
       "  </thead>\n",
       "  <tbody>\n",
       "    <tr>\n",
       "      <th>54573</th>\n",
       "      <td>ARG</td>\n",
       "      <td>1960</td>\n",
       "      <td>Roma</td>\n",
       "      <td>Argentina</td>\n",
       "      <td>116</td>\n",
       "      <td>1</td>\n",
       "      <td>0</td>\n",
       "      <td>3</td>\n",
       "      <td>4</td>\n",
       "    </tr>\n",
       "    <tr>\n",
       "      <th>54689</th>\n",
       "      <td>AUS</td>\n",
       "      <td>1960</td>\n",
       "      <td>Roma</td>\n",
       "      <td>Australia</td>\n",
       "      <td>280</td>\n",
       "      <td>11</td>\n",
       "      <td>11</td>\n",
       "      <td>24</td>\n",
       "      <td>46</td>\n",
       "    </tr>\n",
       "    <tr>\n",
       "      <th>54969</th>\n",
       "      <td>AUT</td>\n",
       "      <td>1960</td>\n",
       "      <td>Roma</td>\n",
       "      <td>Austria</td>\n",
       "      <td>198</td>\n",
       "      <td>0</td>\n",
       "      <td>1</td>\n",
       "      <td>2</td>\n",
       "      <td>3</td>\n",
       "    </tr>\n",
       "    <tr>\n",
       "      <th>55181</th>\n",
       "      <td>BEL</td>\n",
       "      <td>1960</td>\n",
       "      <td>Roma</td>\n",
       "      <td>Belgium</td>\n",
       "      <td>150</td>\n",
       "      <td>2</td>\n",
       "      <td>0</td>\n",
       "      <td>2</td>\n",
       "      <td>4</td>\n",
       "    </tr>\n",
       "    <tr>\n",
       "      <th>55340</th>\n",
       "      <td>BRA</td>\n",
       "      <td>1960</td>\n",
       "      <td>Roma</td>\n",
       "      <td>Brazil</td>\n",
       "      <td>86</td>\n",
       "      <td>13</td>\n",
       "      <td>0</td>\n",
       "      <td>0</td>\n",
       "      <td>13</td>\n",
       "    </tr>\n",
       "  </tbody>\n",
       "</table>\n",
       "</div>"
      ],
      "text/plain": [
       "       NOC  Year  City     region  Total Participants  Bronze  Gold  Silver  \\\n",
       "54573  ARG  1960  Roma  Argentina                 116       1     0       3   \n",
       "54689  AUS  1960  Roma  Australia                 280      11    11      24   \n",
       "54969  AUT  1960  Roma    Austria                 198       0     1       2   \n",
       "55181  BEL  1960  Roma    Belgium                 150       2     0       2   \n",
       "55340  BRA  1960  Roma     Brazil                  86      13     0       0   \n",
       "\n",
       "       Total Medal  \n",
       "54573            4  \n",
       "54689           46  \n",
       "54969            3  \n",
       "55181            4  \n",
       "55340           13  "
      ]
     },
     "execution_count": 19,
     "metadata": {},
     "output_type": "execute_result"
    }
   ],
   "source": [
    "# as the GDP data is from 1960, lets first consider only the data from 1960 for olympics\n",
    "Summer_olympics=Summer_olympics[Summer_olympics.Year >= 1960]\n",
    "Summer_olympics.head()"
   ]
  },
  {
   "cell_type": "code",
   "execution_count": 20,
   "metadata": {},
   "outputs": [
    {
     "name": "stdout",
     "output_type": "stream",
     "text": [
      "<class 'pandas.core.frame.DataFrame'>\n",
      "Int64Index: 908 entries, 54573 to 220746\n",
      "Data columns (total 9 columns):\n",
      " #   Column              Non-Null Count  Dtype \n",
      "---  ------              --------------  ----- \n",
      " 0   NOC                 908 non-null    object\n",
      " 1   Year                908 non-null    int64 \n",
      " 2   City                908 non-null    object\n",
      " 3   region              908 non-null    object\n",
      " 4   Total Participants  908 non-null    int64 \n",
      " 5   Bronze              908 non-null    int64 \n",
      " 6   Gold                908 non-null    int64 \n",
      " 7   Silver              908 non-null    int64 \n",
      " 8   Total Medal         908 non-null    int64 \n",
      "dtypes: int64(6), object(3)\n",
      "memory usage: 70.9+ KB\n"
     ]
    }
   ],
   "source": [
    "Summer_olympics.info()"
   ]
  },
  {
   "cell_type": "code",
   "execution_count": 21,
   "metadata": {},
   "outputs": [
    {
     "data": {
      "text/plain": [
       "108"
      ]
     },
     "execution_count": 21,
     "metadata": {},
     "output_type": "execute_result"
    }
   ],
   "source": [
    "#lets check if we need to merge using the column country code. All NOC in Summer Olympics data is not present in GDP data.\n",
    "len(list(set(olympics['NOC'].unique()) - set(w_gdp['Country Code'].unique())))"
   ]
  },
  {
   "cell_type": "code",
   "execution_count": 22,
   "metadata": {},
   "outputs": [
    {
     "data": {
      "text/html": [
       "<div>\n",
       "<style scoped>\n",
       "    .dataframe tbody tr th:only-of-type {\n",
       "        vertical-align: middle;\n",
       "    }\n",
       "\n",
       "    .dataframe tbody tr th {\n",
       "        vertical-align: top;\n",
       "    }\n",
       "\n",
       "    .dataframe thead th {\n",
       "        text-align: right;\n",
       "    }\n",
       "</style>\n",
       "<table border=\"1\" class=\"dataframe\">\n",
       "  <thead>\n",
       "    <tr style=\"text-align: right;\">\n",
       "      <th></th>\n",
       "      <th>NOC</th>\n",
       "      <th>Year</th>\n",
       "      <th>City</th>\n",
       "      <th>region</th>\n",
       "      <th>Total Participants</th>\n",
       "      <th>Bronze</th>\n",
       "      <th>Gold</th>\n",
       "      <th>Silver</th>\n",
       "      <th>Total Medal</th>\n",
       "      <th>Country Code</th>\n",
       "      <th>GDP</th>\n",
       "    </tr>\n",
       "  </thead>\n",
       "  <tbody>\n",
       "    <tr>\n",
       "      <th>0</th>\n",
       "      <td>ARG</td>\n",
       "      <td>1960</td>\n",
       "      <td>Roma</td>\n",
       "      <td>Argentina</td>\n",
       "      <td>116</td>\n",
       "      <td>1</td>\n",
       "      <td>0</td>\n",
       "      <td>3</td>\n",
       "      <td>4</td>\n",
       "      <td>ARG</td>\n",
       "      <td>NaN</td>\n",
       "    </tr>\n",
       "    <tr>\n",
       "      <th>1</th>\n",
       "      <td>AUS</td>\n",
       "      <td>1960</td>\n",
       "      <td>Roma</td>\n",
       "      <td>Australia</td>\n",
       "      <td>280</td>\n",
       "      <td>11</td>\n",
       "      <td>11</td>\n",
       "      <td>24</td>\n",
       "      <td>46</td>\n",
       "      <td>AUS</td>\n",
       "      <td>1.859335e+10</td>\n",
       "    </tr>\n",
       "    <tr>\n",
       "      <th>2</th>\n",
       "      <td>AUT</td>\n",
       "      <td>1960</td>\n",
       "      <td>Roma</td>\n",
       "      <td>Austria</td>\n",
       "      <td>198</td>\n",
       "      <td>0</td>\n",
       "      <td>1</td>\n",
       "      <td>2</td>\n",
       "      <td>3</td>\n",
       "      <td>AUT</td>\n",
       "      <td>6.592694e+09</td>\n",
       "    </tr>\n",
       "    <tr>\n",
       "      <th>3</th>\n",
       "      <td>BEL</td>\n",
       "      <td>1960</td>\n",
       "      <td>Roma</td>\n",
       "      <td>Belgium</td>\n",
       "      <td>150</td>\n",
       "      <td>2</td>\n",
       "      <td>0</td>\n",
       "      <td>2</td>\n",
       "      <td>4</td>\n",
       "      <td>BEL</td>\n",
       "      <td>1.165872e+10</td>\n",
       "    </tr>\n",
       "    <tr>\n",
       "      <th>4</th>\n",
       "      <td>BRA</td>\n",
       "      <td>1960</td>\n",
       "      <td>Roma</td>\n",
       "      <td>Brazil</td>\n",
       "      <td>86</td>\n",
       "      <td>13</td>\n",
       "      <td>0</td>\n",
       "      <td>0</td>\n",
       "      <td>13</td>\n",
       "      <td>BRA</td>\n",
       "      <td>1.516557e+10</td>\n",
       "    </tr>\n",
       "  </tbody>\n",
       "</table>\n",
       "</div>"
      ],
      "text/plain": [
       "   NOC  Year  City     region  Total Participants  Bronze  Gold  Silver  \\\n",
       "0  ARG  1960  Roma  Argentina                 116       1     0       3   \n",
       "1  AUS  1960  Roma  Australia                 280      11    11      24   \n",
       "2  AUT  1960  Roma    Austria                 198       0     1       2   \n",
       "3  BEL  1960  Roma    Belgium                 150       2     0       2   \n",
       "4  BRA  1960  Roma     Brazil                  86      13     0       0   \n",
       "\n",
       "   Total Medal Country Code           GDP  \n",
       "0            4          ARG           NaN  \n",
       "1           46          AUS  1.859335e+10  \n",
       "2            3          AUT  6.592694e+09  \n",
       "3            4          BEL  1.165872e+10  \n",
       "4           13          BRA  1.516557e+10  "
      ]
     },
     "execution_count": 22,
     "metadata": {},
     "output_type": "execute_result"
    }
   ],
   "source": [
    "# as All the NOC in the Summer Olympics dataset is not present in the country code in the GDP data,lets merge using region in Summer Olympics dataset\n",
    "# and country name in GDP data. \n",
    "olympics_merge_ccode = pd.merge(Summer_olympics, w_gdp[['Country Name', 'Country Code']].drop_duplicates(), left_on=['region'],right_on=['Country Name'], how=\"left\")\n",
    "\n",
    "\n",
    "olympics_merge_ccode.drop('Country Name', axis = 1, inplace = True)\n",
    "olympics_merge_ccode.head()\n",
    "\n",
    "olympics_merge_gdp = pd.merge(olympics_merge_ccode, w_gdp, on=['Country Code', 'Year'], how=\"left\")\n",
    "\n",
    "olympics_merge_gdp.drop('Country Name', axis = 1, inplace = True)\n",
    "olympics_merge_gdp.head()"
   ]
  },
  {
   "cell_type": "markdown",
   "metadata": {},
   "source": [
    "Now just lets drop the column NOC as we will be using Country Code for further processing"
   ]
  },
  {
   "cell_type": "code",
   "execution_count": 23,
   "metadata": {},
   "outputs": [],
   "source": [
    "olympics_merge_gdp= olympics_merge_gdp[[\"Year\",\"City\",\"region\",\"Total Participants\",\"Bronze\",\"Gold\",\"Silver\",\"Total Medal\",\"Country Code\",\"GDP\"]]"
   ]
  },
  {
   "cell_type": "code",
   "execution_count": 24,
   "metadata": {},
   "outputs": [
    {
     "data": {
      "text/html": [
       "<div>\n",
       "<style scoped>\n",
       "    .dataframe tbody tr th:only-of-type {\n",
       "        vertical-align: middle;\n",
       "    }\n",
       "\n",
       "    .dataframe tbody tr th {\n",
       "        vertical-align: top;\n",
       "    }\n",
       "\n",
       "    .dataframe thead th {\n",
       "        text-align: right;\n",
       "    }\n",
       "</style>\n",
       "<table border=\"1\" class=\"dataframe\">\n",
       "  <thead>\n",
       "    <tr style=\"text-align: right;\">\n",
       "      <th></th>\n",
       "      <th>Country</th>\n",
       "      <th>Country Code</th>\n",
       "      <th>Year</th>\n",
       "      <th>Population</th>\n",
       "    </tr>\n",
       "  </thead>\n",
       "  <tbody>\n",
       "    <tr>\n",
       "      <th>0</th>\n",
       "      <td>Aruba</td>\n",
       "      <td>ABW</td>\n",
       "      <td>1960</td>\n",
       "      <td>54211.0</td>\n",
       "    </tr>\n",
       "    <tr>\n",
       "      <th>1</th>\n",
       "      <td>Afghanistan</td>\n",
       "      <td>AFG</td>\n",
       "      <td>1960</td>\n",
       "      <td>8996351.0</td>\n",
       "    </tr>\n",
       "    <tr>\n",
       "      <th>2</th>\n",
       "      <td>Angola</td>\n",
       "      <td>AGO</td>\n",
       "      <td>1960</td>\n",
       "      <td>5643182.0</td>\n",
       "    </tr>\n",
       "    <tr>\n",
       "      <th>3</th>\n",
       "      <td>Albania</td>\n",
       "      <td>ALB</td>\n",
       "      <td>1960</td>\n",
       "      <td>1608800.0</td>\n",
       "    </tr>\n",
       "    <tr>\n",
       "      <th>4</th>\n",
       "      <td>Andorra</td>\n",
       "      <td>AND</td>\n",
       "      <td>1960</td>\n",
       "      <td>13411.0</td>\n",
       "    </tr>\n",
       "  </tbody>\n",
       "</table>\n",
       "</div>"
      ],
      "text/plain": [
       "       Country Country Code  Year  Population\n",
       "0        Aruba          ABW  1960     54211.0\n",
       "1  Afghanistan          AFG  1960   8996351.0\n",
       "2       Angola          AGO  1960   5643182.0\n",
       "3      Albania          ALB  1960   1608800.0\n",
       "4      Andorra          AND  1960     13411.0"
      ]
     },
     "execution_count": 24,
     "metadata": {},
     "output_type": "execute_result"
    }
   ],
   "source": [
    "#Apart from GDP, population is also of importance when looking at a countries performance as \n",
    "#Higher populations mean a bigger talent pool to choose from\n",
    "\n",
    "w_pop = pd.read_csv('/home/jovyan/world_pop.csv')\n",
    "\n",
    "w_pop.drop(['Indicator Name', 'Indicator Code'], axis = 1, inplace = True)\n",
    "\n",
    "w_pop = pd.melt(w_pop, id_vars = ['Country', 'Country Code'], var_name = 'Year', value_name = 'Population')\n",
    "\n",
    "# Change the Year to integer type\n",
    "w_pop['Year'] = pd.to_numeric(w_pop['Year'])\n",
    "\n",
    "w_pop.head()"
   ]
  },
  {
   "cell_type": "code",
   "execution_count": 25,
   "metadata": {},
   "outputs": [
    {
     "data": {
      "text/html": [
       "<div>\n",
       "<style scoped>\n",
       "    .dataframe tbody tr th:only-of-type {\n",
       "        vertical-align: middle;\n",
       "    }\n",
       "\n",
       "    .dataframe tbody tr th {\n",
       "        vertical-align: top;\n",
       "    }\n",
       "\n",
       "    .dataframe thead th {\n",
       "        text-align: right;\n",
       "    }\n",
       "</style>\n",
       "<table border=\"1\" class=\"dataframe\">\n",
       "  <thead>\n",
       "    <tr style=\"text-align: right;\">\n",
       "      <th></th>\n",
       "      <th>Year</th>\n",
       "      <th>City</th>\n",
       "      <th>region</th>\n",
       "      <th>Total Participants</th>\n",
       "      <th>Bronze</th>\n",
       "      <th>Gold</th>\n",
       "      <th>Silver</th>\n",
       "      <th>Total Medal</th>\n",
       "      <th>Country Code</th>\n",
       "      <th>GDP</th>\n",
       "      <th>Population</th>\n",
       "    </tr>\n",
       "  </thead>\n",
       "  <tbody>\n",
       "    <tr>\n",
       "      <th>0</th>\n",
       "      <td>1960</td>\n",
       "      <td>Roma</td>\n",
       "      <td>Argentina</td>\n",
       "      <td>116</td>\n",
       "      <td>1</td>\n",
       "      <td>0</td>\n",
       "      <td>3</td>\n",
       "      <td>4</td>\n",
       "      <td>ARG</td>\n",
       "      <td>NaN</td>\n",
       "      <td>20619075.0</td>\n",
       "    </tr>\n",
       "    <tr>\n",
       "      <th>1</th>\n",
       "      <td>1960</td>\n",
       "      <td>Roma</td>\n",
       "      <td>Australia</td>\n",
       "      <td>280</td>\n",
       "      <td>11</td>\n",
       "      <td>11</td>\n",
       "      <td>24</td>\n",
       "      <td>46</td>\n",
       "      <td>AUS</td>\n",
       "      <td>1.859335e+10</td>\n",
       "      <td>10276477.0</td>\n",
       "    </tr>\n",
       "    <tr>\n",
       "      <th>2</th>\n",
       "      <td>1960</td>\n",
       "      <td>Roma</td>\n",
       "      <td>Austria</td>\n",
       "      <td>198</td>\n",
       "      <td>0</td>\n",
       "      <td>1</td>\n",
       "      <td>2</td>\n",
       "      <td>3</td>\n",
       "      <td>AUT</td>\n",
       "      <td>6.592694e+09</td>\n",
       "      <td>7047539.0</td>\n",
       "    </tr>\n",
       "    <tr>\n",
       "      <th>3</th>\n",
       "      <td>1960</td>\n",
       "      <td>Roma</td>\n",
       "      <td>Belgium</td>\n",
       "      <td>150</td>\n",
       "      <td>2</td>\n",
       "      <td>0</td>\n",
       "      <td>2</td>\n",
       "      <td>4</td>\n",
       "      <td>BEL</td>\n",
       "      <td>1.165872e+10</td>\n",
       "      <td>9153489.0</td>\n",
       "    </tr>\n",
       "    <tr>\n",
       "      <th>4</th>\n",
       "      <td>1960</td>\n",
       "      <td>Roma</td>\n",
       "      <td>Brazil</td>\n",
       "      <td>86</td>\n",
       "      <td>13</td>\n",
       "      <td>0</td>\n",
       "      <td>0</td>\n",
       "      <td>13</td>\n",
       "      <td>BRA</td>\n",
       "      <td>1.516557e+10</td>\n",
       "      <td>72207554.0</td>\n",
       "    </tr>\n",
       "  </tbody>\n",
       "</table>\n",
       "</div>"
      ],
      "text/plain": [
       "   Year  City     region  Total Participants  Bronze  Gold  Silver  \\\n",
       "0  1960  Roma  Argentina                 116       1     0       3   \n",
       "1  1960  Roma  Australia                 280      11    11      24   \n",
       "2  1960  Roma    Austria                 198       0     1       2   \n",
       "3  1960  Roma    Belgium                 150       2     0       2   \n",
       "4  1960  Roma     Brazil                  86      13     0       0   \n",
       "\n",
       "   Total Medal Country Code           GDP  Population  \n",
       "0            4          ARG           NaN  20619075.0  \n",
       "1           46          AUS  1.859335e+10  10276477.0  \n",
       "2            3          AUT  6.592694e+09   7047539.0  \n",
       "3            4          BEL  1.165872e+10   9153489.0  \n",
       "4           13          BRA  1.516557e+10  72207554.0  "
      ]
     },
     "execution_count": 25,
     "metadata": {},
     "output_type": "execute_result"
    }
   ],
   "source": [
    "#merge the Population data\n",
    "olympics_complete = pd.merge(olympics_merge_gdp, w_pop, on=['Country Code', 'Year'], how=\"left\")\n",
    "olympics_complete.drop('Country', axis = 1, inplace = True)\n",
    "\n",
    "olympics_complete.head()"
   ]
  },
  {
   "cell_type": "code",
   "execution_count": 26,
   "metadata": {},
   "outputs": [
    {
     "data": {
      "text/html": [
       "<div>\n",
       "<style scoped>\n",
       "    .dataframe tbody tr th:only-of-type {\n",
       "        vertical-align: middle;\n",
       "    }\n",
       "\n",
       "    .dataframe tbody tr th {\n",
       "        vertical-align: top;\n",
       "    }\n",
       "\n",
       "    .dataframe thead th {\n",
       "        text-align: right;\n",
       "    }\n",
       "</style>\n",
       "<table border=\"1\" class=\"dataframe\">\n",
       "  <thead>\n",
       "    <tr style=\"text-align: right;\">\n",
       "      <th></th>\n",
       "      <th>Year</th>\n",
       "      <th>City</th>\n",
       "    </tr>\n",
       "  </thead>\n",
       "  <tbody>\n",
       "    <tr>\n",
       "      <th>0</th>\n",
       "      <td>1960</td>\n",
       "      <td>Roma</td>\n",
       "    </tr>\n",
       "    <tr>\n",
       "      <th>45</th>\n",
       "      <td>1964</td>\n",
       "      <td>Tokyo</td>\n",
       "    </tr>\n",
       "    <tr>\n",
       "      <th>86</th>\n",
       "      <td>1968</td>\n",
       "      <td>Mexico City</td>\n",
       "    </tr>\n",
       "    <tr>\n",
       "      <th>130</th>\n",
       "      <td>1972</td>\n",
       "      <td>Munich</td>\n",
       "    </tr>\n",
       "    <tr>\n",
       "      <th>178</th>\n",
       "      <td>1976</td>\n",
       "      <td>Montreal</td>\n",
       "    </tr>\n",
       "    <tr>\n",
       "      <th>219</th>\n",
       "      <td>1980</td>\n",
       "      <td>Moskva</td>\n",
       "    </tr>\n",
       "    <tr>\n",
       "      <th>255</th>\n",
       "      <td>1984</td>\n",
       "      <td>Los Angeles</td>\n",
       "    </tr>\n",
       "    <tr>\n",
       "      <th>302</th>\n",
       "      <td>1988</td>\n",
       "      <td>Seoul</td>\n",
       "    </tr>\n",
       "    <tr>\n",
       "      <th>354</th>\n",
       "      <td>1992</td>\n",
       "      <td>Barcelona</td>\n",
       "    </tr>\n",
       "    <tr>\n",
       "      <th>418</th>\n",
       "      <td>1996</td>\n",
       "      <td>Atlanta</td>\n",
       "    </tr>\n",
       "    <tr>\n",
       "      <th>497</th>\n",
       "      <td>2000</td>\n",
       "      <td>Sydney</td>\n",
       "    </tr>\n",
       "    <tr>\n",
       "      <th>577</th>\n",
       "      <td>2004</td>\n",
       "      <td>Athina</td>\n",
       "    </tr>\n",
       "    <tr>\n",
       "      <th>651</th>\n",
       "      <td>2008</td>\n",
       "      <td>Beijing</td>\n",
       "    </tr>\n",
       "    <tr>\n",
       "      <th>737</th>\n",
       "      <td>2012</td>\n",
       "      <td>London</td>\n",
       "    </tr>\n",
       "    <tr>\n",
       "      <th>822</th>\n",
       "      <td>2016</td>\n",
       "      <td>Rio de Janeiro</td>\n",
       "    </tr>\n",
       "  </tbody>\n",
       "</table>\n",
       "</div>"
      ],
      "text/plain": [
       "     Year            City\n",
       "0    1960            Roma\n",
       "45   1964           Tokyo\n",
       "86   1968     Mexico City\n",
       "130  1972          Munich\n",
       "178  1976        Montreal\n",
       "219  1980          Moskva\n",
       "255  1984     Los Angeles\n",
       "302  1988           Seoul\n",
       "354  1992       Barcelona\n",
       "418  1996         Atlanta\n",
       "497  2000          Sydney\n",
       "577  2004          Athina\n",
       "651  2008         Beijing\n",
       "737  2012          London\n",
       "822  2016  Rio de Janeiro"
      ]
     },
     "execution_count": 26,
     "metadata": {},
     "output_type": "execute_result"
    }
   ],
   "source": [
    "#lets look for the unique city name\n",
    "olympics_complete[['Year', 'City']].drop_duplicates().sort_values('Year')"
   ]
  },
  {
   "cell_type": "code",
   "execution_count": 27,
   "metadata": {},
   "outputs": [],
   "source": [
    "#correcting Host City's Name \n",
    "olympics_complete['City'].replace(['Athina', 'Moskva'], ['Athens', 'Moscow'], inplace = True)"
   ]
  },
  {
   "cell_type": "code",
   "execution_count": 28,
   "metadata": {},
   "outputs": [
    {
     "name": "stdout",
     "output_type": "stream",
     "text": [
      "<class 'pandas.core.frame.DataFrame'>\n",
      "Int64Index: 908 entries, 0 to 907\n",
      "Data columns (total 12 columns):\n",
      " #   Column              Non-Null Count  Dtype  \n",
      "---  ------              --------------  -----  \n",
      " 0   Year                908 non-null    int64  \n",
      " 1   City                908 non-null    object \n",
      " 2   region              908 non-null    object \n",
      " 3   Total Participants  908 non-null    int64  \n",
      " 4   Bronze              908 non-null    int64  \n",
      " 5   Gold                908 non-null    int64  \n",
      " 6   Silver              908 non-null    int64  \n",
      " 7   Total Medal         908 non-null    int64  \n",
      " 8   Country Code        895 non-null    object \n",
      " 9   GDP                 805 non-null    float64\n",
      " 10  Population          886 non-null    float64\n",
      " 11  Country_Host        908 non-null    object \n",
      "dtypes: float64(2), int64(6), object(4)\n",
      "memory usage: 92.2+ KB\n"
     ]
    }
   ],
   "source": [
    "# city to country mapping dictionary\n",
    "city_to_country = {'Roma': 'Italy',\n",
    "                   'Tokyo': 'Japan',\n",
    "                  'Mexico City': 'Mexico',\n",
    "                  'Munich': 'Germany',\n",
    "                  'Montreal': 'Canada',\n",
    "                  'Moscow': 'Russia',\n",
    "                  'Los Angeles': 'USA',\n",
    "                  'Seoul': 'South Korea',\n",
    "                  'Barcelona': 'Spain',\n",
    "                  'Atlanta': 'USA',\n",
    "                  'Sydney': 'Australia',\n",
    "                  'Athens': 'Greece',\n",
    "                  'Beijing': 'China',\n",
    "                  'London': 'UK',\n",
    "                  'Rio de Janeiro': 'Brazil'}\n",
    "\n",
    "# Creating a new column called Country_Host by mapping the cities to CountryMap cities to countries\n",
    "olympics_complete['Country_Host'] = olympics_complete['City'].map(city_to_country)\n",
    "\n",
    "#print the \n",
    "olympics_complete.loc[:, ['Year', 'Country_Host']].drop_duplicates().sort_values('Year')\n",
    "olympics_complete.info()\n",
    "\n"
   ]
  },
  {
   "cell_type": "code",
   "execution_count": 29,
   "metadata": {},
   "outputs": [
    {
     "data": {
      "text/html": [
       "<div>\n",
       "<style scoped>\n",
       "    .dataframe tbody tr th:only-of-type {\n",
       "        vertical-align: middle;\n",
       "    }\n",
       "\n",
       "    .dataframe tbody tr th {\n",
       "        vertical-align: top;\n",
       "    }\n",
       "\n",
       "    .dataframe thead th {\n",
       "        text-align: right;\n",
       "    }\n",
       "</style>\n",
       "<table border=\"1\" class=\"dataframe\">\n",
       "  <thead>\n",
       "    <tr style=\"text-align: right;\">\n",
       "      <th></th>\n",
       "      <th>Year</th>\n",
       "      <th>City</th>\n",
       "      <th>region</th>\n",
       "      <th>Total Participants</th>\n",
       "      <th>Bronze</th>\n",
       "      <th>Gold</th>\n",
       "      <th>Silver</th>\n",
       "      <th>Total Medal</th>\n",
       "      <th>Country Code</th>\n",
       "      <th>GDP</th>\n",
       "      <th>Population</th>\n",
       "      <th>Country_Host</th>\n",
       "    </tr>\n",
       "  </thead>\n",
       "  <tbody>\n",
       "    <tr>\n",
       "      <th>0</th>\n",
       "      <td>1960</td>\n",
       "      <td>Roma</td>\n",
       "      <td>Argentina</td>\n",
       "      <td>116</td>\n",
       "      <td>1</td>\n",
       "      <td>0</td>\n",
       "      <td>3</td>\n",
       "      <td>4</td>\n",
       "      <td>ARG</td>\n",
       "      <td>NaN</td>\n",
       "      <td>20619075.0</td>\n",
       "      <td>Italy</td>\n",
       "    </tr>\n",
       "    <tr>\n",
       "      <th>1</th>\n",
       "      <td>1960</td>\n",
       "      <td>Roma</td>\n",
       "      <td>Australia</td>\n",
       "      <td>280</td>\n",
       "      <td>11</td>\n",
       "      <td>11</td>\n",
       "      <td>24</td>\n",
       "      <td>46</td>\n",
       "      <td>AUS</td>\n",
       "      <td>1.859335e+10</td>\n",
       "      <td>10276477.0</td>\n",
       "      <td>Italy</td>\n",
       "    </tr>\n",
       "    <tr>\n",
       "      <th>2</th>\n",
       "      <td>1960</td>\n",
       "      <td>Roma</td>\n",
       "      <td>Austria</td>\n",
       "      <td>198</td>\n",
       "      <td>0</td>\n",
       "      <td>1</td>\n",
       "      <td>2</td>\n",
       "      <td>3</td>\n",
       "      <td>AUT</td>\n",
       "      <td>6.592694e+09</td>\n",
       "      <td>7047539.0</td>\n",
       "      <td>Italy</td>\n",
       "    </tr>\n",
       "    <tr>\n",
       "      <th>3</th>\n",
       "      <td>1960</td>\n",
       "      <td>Roma</td>\n",
       "      <td>Belgium</td>\n",
       "      <td>150</td>\n",
       "      <td>2</td>\n",
       "      <td>0</td>\n",
       "      <td>2</td>\n",
       "      <td>4</td>\n",
       "      <td>BEL</td>\n",
       "      <td>1.165872e+10</td>\n",
       "      <td>9153489.0</td>\n",
       "      <td>Italy</td>\n",
       "    </tr>\n",
       "    <tr>\n",
       "      <th>4</th>\n",
       "      <td>1960</td>\n",
       "      <td>Roma</td>\n",
       "      <td>Bulgaria</td>\n",
       "      <td>183</td>\n",
       "      <td>3</td>\n",
       "      <td>1</td>\n",
       "      <td>3</td>\n",
       "      <td>7</td>\n",
       "      <td>BGR</td>\n",
       "      <td>NaN</td>\n",
       "      <td>7867374.0</td>\n",
       "      <td>Italy</td>\n",
       "    </tr>\n",
       "  </tbody>\n",
       "</table>\n",
       "</div>"
      ],
      "text/plain": [
       "   Year  City     region  Total Participants  Bronze  Gold  Silver  \\\n",
       "0  1960  Roma  Argentina                 116       1     0       3   \n",
       "1  1960  Roma  Australia                 280      11    11      24   \n",
       "2  1960  Roma    Austria                 198       0     1       2   \n",
       "3  1960  Roma    Belgium                 150       2     0       2   \n",
       "4  1960  Roma   Bulgaria                 183       3     1       3   \n",
       "\n",
       "   Total Medal Country Code           GDP  Population Country_Host  \n",
       "0            4          ARG           NaN  20619075.0        Italy  \n",
       "1           46          AUS  1.859335e+10  10276477.0        Italy  \n",
       "2            3          AUT  6.592694e+09   7047539.0        Italy  \n",
       "3            4          BEL  1.165872e+10   9153489.0        Italy  \n",
       "4            7          BGR           NaN   7867374.0        Italy  "
      ]
     },
     "execution_count": 29,
     "metadata": {},
     "output_type": "execute_result"
    }
   ],
   "source": [
    "#Lets sort the dataset by year and Country\n",
    "olympics_complete = olympics_complete.sort_values(by = [\"Year\", \"Country Code\"])\n",
    "olympics_complete = olympics_complete.reset_index(drop = True)\n",
    "olympics_complete.head()\n",
    "                                                                                                                                                               "
   ]
  },
  {
   "cell_type": "code",
   "execution_count": 30,
   "metadata": {},
   "outputs": [
    {
     "data": {
      "text/html": [
       "<div>\n",
       "<style scoped>\n",
       "    .dataframe tbody tr th:only-of-type {\n",
       "        vertical-align: middle;\n",
       "    }\n",
       "\n",
       "    .dataframe tbody tr th {\n",
       "        vertical-align: top;\n",
       "    }\n",
       "\n",
       "    .dataframe thead th {\n",
       "        text-align: right;\n",
       "    }\n",
       "</style>\n",
       "<table border=\"1\" class=\"dataframe\">\n",
       "  <thead>\n",
       "    <tr style=\"text-align: right;\">\n",
       "      <th></th>\n",
       "      <th>Year</th>\n",
       "      <th>City</th>\n",
       "      <th>region</th>\n",
       "      <th>Total Participants</th>\n",
       "      <th>Bronze</th>\n",
       "      <th>Gold</th>\n",
       "      <th>Silver</th>\n",
       "      <th>Total Medal</th>\n",
       "      <th>Country Code</th>\n",
       "      <th>GDP</th>\n",
       "      <th>Population</th>\n",
       "      <th>Country_Host</th>\n",
       "      <th>Host</th>\n",
       "    </tr>\n",
       "  </thead>\n",
       "  <tbody>\n",
       "    <tr>\n",
       "      <th>0</th>\n",
       "      <td>1960</td>\n",
       "      <td>Roma</td>\n",
       "      <td>Argentina</td>\n",
       "      <td>116</td>\n",
       "      <td>1</td>\n",
       "      <td>0</td>\n",
       "      <td>3</td>\n",
       "      <td>4</td>\n",
       "      <td>ARG</td>\n",
       "      <td>NaN</td>\n",
       "      <td>20619075.0</td>\n",
       "      <td>Italy</td>\n",
       "      <td>0.0</td>\n",
       "    </tr>\n",
       "    <tr>\n",
       "      <th>1</th>\n",
       "      <td>1960</td>\n",
       "      <td>Roma</td>\n",
       "      <td>Australia</td>\n",
       "      <td>280</td>\n",
       "      <td>11</td>\n",
       "      <td>11</td>\n",
       "      <td>24</td>\n",
       "      <td>46</td>\n",
       "      <td>AUS</td>\n",
       "      <td>1.859335e+10</td>\n",
       "      <td>10276477.0</td>\n",
       "      <td>Italy</td>\n",
       "      <td>0.0</td>\n",
       "    </tr>\n",
       "    <tr>\n",
       "      <th>2</th>\n",
       "      <td>1960</td>\n",
       "      <td>Roma</td>\n",
       "      <td>Austria</td>\n",
       "      <td>198</td>\n",
       "      <td>0</td>\n",
       "      <td>1</td>\n",
       "      <td>2</td>\n",
       "      <td>3</td>\n",
       "      <td>AUT</td>\n",
       "      <td>6.592694e+09</td>\n",
       "      <td>7047539.0</td>\n",
       "      <td>Italy</td>\n",
       "      <td>0.0</td>\n",
       "    </tr>\n",
       "    <tr>\n",
       "      <th>3</th>\n",
       "      <td>1960</td>\n",
       "      <td>Roma</td>\n",
       "      <td>Belgium</td>\n",
       "      <td>150</td>\n",
       "      <td>2</td>\n",
       "      <td>0</td>\n",
       "      <td>2</td>\n",
       "      <td>4</td>\n",
       "      <td>BEL</td>\n",
       "      <td>1.165872e+10</td>\n",
       "      <td>9153489.0</td>\n",
       "      <td>Italy</td>\n",
       "      <td>0.0</td>\n",
       "    </tr>\n",
       "    <tr>\n",
       "      <th>4</th>\n",
       "      <td>1960</td>\n",
       "      <td>Roma</td>\n",
       "      <td>Bulgaria</td>\n",
       "      <td>183</td>\n",
       "      <td>3</td>\n",
       "      <td>1</td>\n",
       "      <td>3</td>\n",
       "      <td>7</td>\n",
       "      <td>BGR</td>\n",
       "      <td>NaN</td>\n",
       "      <td>7867374.0</td>\n",
       "      <td>Italy</td>\n",
       "      <td>0.0</td>\n",
       "    </tr>\n",
       "  </tbody>\n",
       "</table>\n",
       "</div>"
      ],
      "text/plain": [
       "   Year  City     region  Total Participants  Bronze  Gold  Silver  \\\n",
       "0  1960  Roma  Argentina                 116       1     0       3   \n",
       "1  1960  Roma  Australia                 280      11    11      24   \n",
       "2  1960  Roma    Austria                 198       0     1       2   \n",
       "3  1960  Roma    Belgium                 150       2     0       2   \n",
       "4  1960  Roma   Bulgaria                 183       3     1       3   \n",
       "\n",
       "   Total Medal Country Code           GDP  Population Country_Host  Host  \n",
       "0            4          ARG           NaN  20619075.0        Italy   0.0  \n",
       "1           46          AUS  1.859335e+10  10276477.0        Italy   0.0  \n",
       "2            3          AUT  6.592694e+09   7047539.0        Italy   0.0  \n",
       "3            4          BEL  1.165872e+10   9153489.0        Italy   0.0  \n",
       "4            7          BGR           NaN   7867374.0        Italy   0.0  "
      ]
     },
     "execution_count": 30,
     "metadata": {},
     "output_type": "execute_result"
    }
   ],
   "source": [
    "## lets put Host value as 1 if the region is same as host country or else 0\n",
    "olympics_complete.loc[olympics_complete['region'] == olympics_complete['Country_Host'], 'Host'] = 1 \n",
    "olympics_complete.loc[olympics_complete['region'] != olympics_complete['Country_Host'], 'Host'] = 0\n",
    "olympics_complete.head()\n"
   ]
  },
  {
   "cell_type": "markdown",
   "metadata": {},
   "source": [
    "LETS CLEAN THE DATA LITTLE MORE BEFORE WE DO THE SPLITTING"
   ]
  },
  {
   "cell_type": "code",
   "execution_count": 31,
   "metadata": {},
   "outputs": [
    {
     "data": {
      "text/html": [
       "<div>\n",
       "<style scoped>\n",
       "    .dataframe tbody tr th:only-of-type {\n",
       "        vertical-align: middle;\n",
       "    }\n",
       "\n",
       "    .dataframe tbody tr th {\n",
       "        vertical-align: top;\n",
       "    }\n",
       "\n",
       "    .dataframe thead th {\n",
       "        text-align: right;\n",
       "    }\n",
       "</style>\n",
       "<table border=\"1\" class=\"dataframe\">\n",
       "  <thead>\n",
       "    <tr style=\"text-align: right;\">\n",
       "      <th></th>\n",
       "      <th>Year</th>\n",
       "      <th>Total Participants</th>\n",
       "      <th>Total Medal</th>\n",
       "      <th>Country Code</th>\n",
       "      <th>GDP</th>\n",
       "      <th>Population</th>\n",
       "      <th>Host</th>\n",
       "    </tr>\n",
       "  </thead>\n",
       "  <tbody>\n",
       "    <tr>\n",
       "      <th>0</th>\n",
       "      <td>1960</td>\n",
       "      <td>116</td>\n",
       "      <td>4</td>\n",
       "      <td>ARG</td>\n",
       "      <td>NaN</td>\n",
       "      <td>20619075.0</td>\n",
       "      <td>0.0</td>\n",
       "    </tr>\n",
       "    <tr>\n",
       "      <th>1</th>\n",
       "      <td>1960</td>\n",
       "      <td>280</td>\n",
       "      <td>46</td>\n",
       "      <td>AUS</td>\n",
       "      <td>1.859335e+10</td>\n",
       "      <td>10276477.0</td>\n",
       "      <td>0.0</td>\n",
       "    </tr>\n",
       "    <tr>\n",
       "      <th>2</th>\n",
       "      <td>1960</td>\n",
       "      <td>198</td>\n",
       "      <td>3</td>\n",
       "      <td>AUT</td>\n",
       "      <td>6.592694e+09</td>\n",
       "      <td>7047539.0</td>\n",
       "      <td>0.0</td>\n",
       "    </tr>\n",
       "    <tr>\n",
       "      <th>3</th>\n",
       "      <td>1960</td>\n",
       "      <td>150</td>\n",
       "      <td>4</td>\n",
       "      <td>BEL</td>\n",
       "      <td>1.165872e+10</td>\n",
       "      <td>9153489.0</td>\n",
       "      <td>0.0</td>\n",
       "    </tr>\n",
       "    <tr>\n",
       "      <th>4</th>\n",
       "      <td>1960</td>\n",
       "      <td>183</td>\n",
       "      <td>7</td>\n",
       "      <td>BGR</td>\n",
       "      <td>NaN</td>\n",
       "      <td>7867374.0</td>\n",
       "      <td>0.0</td>\n",
       "    </tr>\n",
       "  </tbody>\n",
       "</table>\n",
       "</div>"
      ],
      "text/plain": [
       "   Year  Total Participants  Total Medal Country Code           GDP  \\\n",
       "0  1960                 116            4          ARG           NaN   \n",
       "1  1960                 280           46          AUS  1.859335e+10   \n",
       "2  1960                 198            3          AUT  6.592694e+09   \n",
       "3  1960                 150            4          BEL  1.165872e+10   \n",
       "4  1960                 183            7          BGR           NaN   \n",
       "\n",
       "   Population  Host  \n",
       "0  20619075.0   0.0  \n",
       "1  10276477.0   0.0  \n",
       "2   7047539.0   0.0  \n",
       "3   9153489.0   0.0  \n",
       "4   7867374.0   0.0  "
      ]
     },
     "execution_count": 31,
     "metadata": {},
     "output_type": "execute_result"
    }
   ],
   "source": [
    "olympics_complete = olympics_complete[[\"Year\",\"Total Participants\",\"Total Medal\",\"Country Code\",\"GDP\",\"Population\",\"Host\"]]\n",
    "olympics_complete.head()"
   ]
  },
  {
   "cell_type": "code",
   "execution_count": 32,
   "metadata": {},
   "outputs": [
    {
     "data": {
      "text/html": [
       "<div>\n",
       "<style scoped>\n",
       "    .dataframe tbody tr th:only-of-type {\n",
       "        vertical-align: middle;\n",
       "    }\n",
       "\n",
       "    .dataframe tbody tr th {\n",
       "        vertical-align: top;\n",
       "    }\n",
       "\n",
       "    .dataframe thead th {\n",
       "        text-align: right;\n",
       "    }\n",
       "</style>\n",
       "<table border=\"1\" class=\"dataframe\">\n",
       "  <thead>\n",
       "    <tr style=\"text-align: right;\">\n",
       "      <th></th>\n",
       "      <th>Total Participants</th>\n",
       "      <th>Total Medal</th>\n",
       "      <th>GDP</th>\n",
       "      <th>Population</th>\n",
       "      <th>Host</th>\n",
       "    </tr>\n",
       "  </thead>\n",
       "  <tbody>\n",
       "    <tr>\n",
       "      <th>count</th>\n",
       "      <td>908.000000</td>\n",
       "      <td>908.000000</td>\n",
       "      <td>8.050000e+02</td>\n",
       "      <td>8.860000e+02</td>\n",
       "      <td>908.000000</td>\n",
       "    </tr>\n",
       "    <tr>\n",
       "      <th>mean</th>\n",
       "      <td>161.973568</td>\n",
       "      <td>25.931718</td>\n",
       "      <td>4.761656e+11</td>\n",
       "      <td>6.192672e+07</td>\n",
       "      <td>0.017621</td>\n",
       "    </tr>\n",
       "    <tr>\n",
       "      <th>std</th>\n",
       "      <td>163.238705</td>\n",
       "      <td>47.402122</td>\n",
       "      <td>1.496767e+12</td>\n",
       "      <td>1.786465e+08</td>\n",
       "      <td>0.131642</td>\n",
       "    </tr>\n",
       "    <tr>\n",
       "      <th>min</th>\n",
       "      <td>3.000000</td>\n",
       "      <td>1.000000</td>\n",
       "      <td>2.195836e+08</td>\n",
       "      <td>5.320000e+04</td>\n",
       "      <td>0.000000</td>\n",
       "    </tr>\n",
       "    <tr>\n",
       "      <th>25%</th>\n",
       "      <td>44.000000</td>\n",
       "      <td>2.000000</td>\n",
       "      <td>1.633081e+10</td>\n",
       "      <td>5.710584e+06</td>\n",
       "      <td>0.000000</td>\n",
       "    </tr>\n",
       "    <tr>\n",
       "      <th>50%</th>\n",
       "      <td>97.500000</td>\n",
       "      <td>7.000000</td>\n",
       "      <td>7.014084e+10</td>\n",
       "      <td>1.526690e+07</td>\n",
       "      <td>0.000000</td>\n",
       "    </tr>\n",
       "    <tr>\n",
       "      <th>75%</th>\n",
       "      <td>232.250000</td>\n",
       "      <td>26.000000</td>\n",
       "      <td>2.965360e+11</td>\n",
       "      <td>5.084286e+07</td>\n",
       "      <td>0.000000</td>\n",
       "    </tr>\n",
       "    <tr>\n",
       "      <th>max</th>\n",
       "      <td>839.000000</td>\n",
       "      <td>442.000000</td>\n",
       "      <td>1.862450e+13</td>\n",
       "      <td>1.378665e+09</td>\n",
       "      <td>1.000000</td>\n",
       "    </tr>\n",
       "  </tbody>\n",
       "</table>\n",
       "</div>"
      ],
      "text/plain": [
       "       Total Participants  Total Medal           GDP    Population        Host\n",
       "count          908.000000   908.000000  8.050000e+02  8.860000e+02  908.000000\n",
       "mean           161.973568    25.931718  4.761656e+11  6.192672e+07    0.017621\n",
       "std            163.238705    47.402122  1.496767e+12  1.786465e+08    0.131642\n",
       "min              3.000000     1.000000  2.195836e+08  5.320000e+04    0.000000\n",
       "25%             44.000000     2.000000  1.633081e+10  5.710584e+06    0.000000\n",
       "50%             97.500000     7.000000  7.014084e+10  1.526690e+07    0.000000\n",
       "75%            232.250000    26.000000  2.965360e+11  5.084286e+07    0.000000\n",
       "max            839.000000   442.000000  1.862450e+13  1.378665e+09    1.000000"
      ]
     },
     "execution_count": 32,
     "metadata": {},
     "output_type": "execute_result"
    }
   ],
   "source": [
    "# Descriptive Statistics\n",
    "olympics_complete.describe()\n",
    "olympics_complete.iloc[:,1:].describe()"
   ]
  },
  {
   "cell_type": "code",
   "execution_count": 33,
   "metadata": {},
   "outputs": [
    {
     "name": "stdout",
     "output_type": "stream",
     "text": [
      "<class 'pandas.core.frame.DataFrame'>\n",
      "RangeIndex: 908 entries, 0 to 907\n",
      "Data columns (total 7 columns):\n",
      " #   Column              Non-Null Count  Dtype  \n",
      "---  ------              --------------  -----  \n",
      " 0   Year                908 non-null    int64  \n",
      " 1   Total Participants  908 non-null    int64  \n",
      " 2   Total Medal         908 non-null    int64  \n",
      " 3   Country Code        895 non-null    object \n",
      " 4   GDP                 805 non-null    float64\n",
      " 5   Population          886 non-null    float64\n",
      " 6   Host                908 non-null    float64\n",
      "dtypes: float64(3), int64(3), object(1)\n",
      "memory usage: 49.8+ KB\n"
     ]
    }
   ],
   "source": [
    "olympics_complete.info()"
   ]
  },
  {
   "cell_type": "code",
   "execution_count": 34,
   "metadata": {},
   "outputs": [
    {
     "data": {
      "image/png": "[encoded data removed]",
      "text/plain": [
       "<Figure size 432x288 with 1 Axes>"
      ]
     },
     "metadata": {
      "needs_background": "light"
     },
     "output_type": "display_data"
    }
   ],
   "source": [
    "# lets check if the data meets the requirement of Linear Regression\n",
    "sm.qqplot(olympics_complete['Total Participants'],line=\"q\")\n",
    "py.show()"
   ]
  },
  {
   "cell_type": "code",
   "execution_count": 35,
   "metadata": {},
   "outputs": [
    {
     "data": {
      "image/png": "[encoded data removed]",
      "text/plain": [
       "<Figure size 432x288 with 1 Axes>"
      ]
     },
     "metadata": {
      "needs_background": "light"
     },
     "output_type": "display_data"
    }
   ],
   "source": [
    "sm.qqplot(olympics_complete['GDP'],line=\"q\")\n",
    "py.show()"
   ]
  },
  {
   "cell_type": "code",
   "execution_count": 36,
   "metadata": {},
   "outputs": [
    {
     "data": {
      "image/png": "[encoded data removed]",
      "text/plain": [
       "<Figure size 432x288 with 1 Axes>"
      ]
     },
     "metadata": {
      "needs_background": "light"
     },
     "output_type": "display_data"
    }
   ],
   "source": [
    "sm.qqplot(olympics_complete['Population'],line=\"q\")\n",
    "py.show()"
   ]
  },
  {
   "cell_type": "code",
   "execution_count": 37,
   "metadata": {},
   "outputs": [
    {
     "data": {
      "image/png": "[encoded data removed]",
      "text/plain": [
       "<Figure size 432x288 with 1 Axes>"
      ]
     },
     "metadata": {
      "needs_background": "light"
     },
     "output_type": "display_data"
    }
   ],
   "source": [
    "sm.qqplot(olympics_complete['Total Medal'],line=\"q\")\n",
    "py.show()"
   ]
  },
  {
   "cell_type": "code",
   "execution_count": 38,
   "metadata": {},
   "outputs": [
    {
     "data": {
      "text/plain": [
       "0         (2.0, 7.0]\n",
       "1      (26.0, 442.0]\n",
       "2         (2.0, 7.0]\n",
       "3         (2.0, 7.0]\n",
       "4         (2.0, 7.0]\n",
       "           ...      \n",
       "903     (0.999, 2.0]\n",
       "904     (0.999, 2.0]\n",
       "905      (7.0, 26.0]\n",
       "906     (0.999, 2.0]\n",
       "907       (2.0, 7.0]\n",
       "Name: Total Medal, Length: 908, dtype: category\n",
       "Categories (4, interval[float64]): [(0.999, 2.0] < (2.0, 7.0] < (7.0, 26.0] < (26.0, 442.0]]"
      ]
     },
     "execution_count": 38,
     "metadata": {},
     "output_type": "execute_result"
    }
   ],
   "source": [
    "olympics_complete['Total Medal'].describe()\n",
    "pd.qcut(olympics_complete['Total Medal'], q=4)"
   ]
  },
  {
   "cell_type": "code",
   "execution_count": 39,
   "metadata": {},
   "outputs": [
    {
     "data": {
      "text/plain": [
       "0    261\n",
       "3    225\n",
       "2    219\n",
       "1    203\n",
       "Name: Medal category, dtype: int64"
      ]
     },
     "execution_count": 39,
     "metadata": {},
     "output_type": "execute_result"
    }
   ],
   "source": [
    "## Binning the orignial dataset into 4 categorical values:\n",
    "olympics_complete['Medal category']  = pd.qcut(olympics_complete['Total Medal'], q=4,labels=[\"0\", \"1\", \"2\",\"3\"])\n",
    "\n",
    "#LabelEncoder can be used to normalize labels. \n",
    "#It can also be used to transform non-numerical labels (as long as they are hashable and comparable) to numerical labels.\n",
    "#list(labelencoder.inverse_transform(olympics_complete['Medal category']))\n",
    "labelencoder = LabelEncoder()\n",
    "olympics_complete['Medal category'] = labelencoder.fit_transform(olympics_complete['Medal category'])  \n",
    "olympics_complete['Medal category'].value_counts()"
   ]
  },
  {
   "cell_type": "code",
   "execution_count": 40,
   "metadata": {},
   "outputs": [
    {
     "data": {
      "image/png": "[encoded data removed]",
      "text/plain": [
       "<Figure size 432x288 with 1 Axes>"
      ]
     },
     "metadata": {
      "needs_background": "light"
     },
     "output_type": "display_data"
    }
   ],
   "source": [
    "g = sns.countplot(olympics_complete['Medal category'])\n",
    "g.set_xticklabels(['0','1','2','3'])\n",
    "plt.show()"
   ]
  },
  {
   "cell_type": "code",
   "execution_count": 41,
   "metadata": {},
   "outputs": [
    {
     "name": "stdout",
     "output_type": "stream",
     "text": [
      "<class 'pandas.core.frame.DataFrame'>\n",
      "RangeIndex: 908 entries, 0 to 907\n",
      "Data columns (total 8 columns):\n",
      " #   Column              Non-Null Count  Dtype  \n",
      "---  ------              --------------  -----  \n",
      " 0   Year                908 non-null    int64  \n",
      " 1   Total Participants  908 non-null    int64  \n",
      " 2   Total Medal         908 non-null    int64  \n",
      " 3   Country Code        895 non-null    object \n",
      " 4   GDP                 805 non-null    float64\n",
      " 5   Population          886 non-null    float64\n",
      " 6   Host                908 non-null    float64\n",
      " 7   Medal category      908 non-null    int64  \n",
      "dtypes: float64(3), int64(4), object(1)\n",
      "memory usage: 56.9+ KB\n"
     ]
    }
   ],
   "source": [
    "olympics_complete.info()"
   ]
  },
  {
   "cell_type": "code",
   "execution_count": 42,
   "metadata": {},
   "outputs": [
    {
     "data": {
      "text/html": [
       "<div>\n",
       "<style scoped>\n",
       "    .dataframe tbody tr th:only-of-type {\n",
       "        vertical-align: middle;\n",
       "    }\n",
       "\n",
       "    .dataframe tbody tr th {\n",
       "        vertical-align: top;\n",
       "    }\n",
       "\n",
       "    .dataframe thead th {\n",
       "        text-align: right;\n",
       "    }\n",
       "</style>\n",
       "<table border=\"1\" class=\"dataframe\">\n",
       "  <thead>\n",
       "    <tr style=\"text-align: right;\">\n",
       "      <th></th>\n",
       "      <th>Year</th>\n",
       "      <th>Total Participants</th>\n",
       "      <th>Total Medal</th>\n",
       "      <th>Country Code</th>\n",
       "      <th>GDP</th>\n",
       "      <th>Population</th>\n",
       "      <th>Host</th>\n",
       "      <th>Medal category</th>\n",
       "    </tr>\n",
       "  </thead>\n",
       "  <tbody>\n",
       "    <tr>\n",
       "      <th>0</th>\n",
       "      <td>1960</td>\n",
       "      <td>116</td>\n",
       "      <td>4</td>\n",
       "      <td>ARG</td>\n",
       "      <td>NaN</td>\n",
       "      <td>20619075.0</td>\n",
       "      <td>0.0</td>\n",
       "      <td>1</td>\n",
       "    </tr>\n",
       "    <tr>\n",
       "      <th>1</th>\n",
       "      <td>1960</td>\n",
       "      <td>280</td>\n",
       "      <td>46</td>\n",
       "      <td>AUS</td>\n",
       "      <td>1.859335e+10</td>\n",
       "      <td>10276477.0</td>\n",
       "      <td>0.0</td>\n",
       "      <td>3</td>\n",
       "    </tr>\n",
       "    <tr>\n",
       "      <th>2</th>\n",
       "      <td>1960</td>\n",
       "      <td>198</td>\n",
       "      <td>3</td>\n",
       "      <td>AUT</td>\n",
       "      <td>6.592694e+09</td>\n",
       "      <td>7047539.0</td>\n",
       "      <td>0.0</td>\n",
       "      <td>1</td>\n",
       "    </tr>\n",
       "    <tr>\n",
       "      <th>3</th>\n",
       "      <td>1960</td>\n",
       "      <td>150</td>\n",
       "      <td>4</td>\n",
       "      <td>BEL</td>\n",
       "      <td>1.165872e+10</td>\n",
       "      <td>9153489.0</td>\n",
       "      <td>0.0</td>\n",
       "      <td>1</td>\n",
       "    </tr>\n",
       "    <tr>\n",
       "      <th>4</th>\n",
       "      <td>1960</td>\n",
       "      <td>183</td>\n",
       "      <td>7</td>\n",
       "      <td>BGR</td>\n",
       "      <td>NaN</td>\n",
       "      <td>7867374.0</td>\n",
       "      <td>0.0</td>\n",
       "      <td>1</td>\n",
       "    </tr>\n",
       "  </tbody>\n",
       "</table>\n",
       "</div>"
      ],
      "text/plain": [
       "   Year  Total Participants  Total Medal Country Code           GDP  \\\n",
       "0  1960                 116            4          ARG           NaN   \n",
       "1  1960                 280           46          AUS  1.859335e+10   \n",
       "2  1960                 198            3          AUT  6.592694e+09   \n",
       "3  1960                 150            4          BEL  1.165872e+10   \n",
       "4  1960                 183            7          BGR           NaN   \n",
       "\n",
       "   Population  Host  Medal category  \n",
       "0  20619075.0   0.0               1  \n",
       "1  10276477.0   0.0               3  \n",
       "2   7047539.0   0.0               1  \n",
       "3   9153489.0   0.0               1  \n",
       "4   7867374.0   0.0               1  "
      ]
     },
     "execution_count": 42,
     "metadata": {},
     "output_type": "execute_result"
    }
   ],
   "source": [
    "olympics_complete = olympics_complete.sort_values(by = [\"Year\", \"Country Code\"])\n",
    "olympics_complete = olympics_complete.reset_index(drop = True)\n",
    "olympics_complete.head()"
   ]
  },
  {
   "cell_type": "markdown",
   "metadata": {},
   "source": [
    "DATASET IS NOW READY. LETS SPLIT THE DATA INTO TRAINING AND TEST SET"
   ]
  },
  {
   "cell_type": "code",
   "execution_count": 43,
   "metadata": {},
   "outputs": [],
   "source": [
    "data_train = olympics_complete[olympics_complete.Year<2012].reset_index(drop = True)\n",
    "data_test = olympics_complete[olympics_complete.Year>=2012].reset_index(drop = True)"
   ]
  },
  {
   "cell_type": "code",
   "execution_count": 45,
   "metadata": {},
   "outputs": [],
   "source": [
    "data_train = data_train.sort_values(by = [\"Year\", \"Country Code\"])\n",
    "data_train = data_train.reset_index(drop = True)\n",
    "data_test = data_test.sort_values(by = [\"Year\", \"Country Code\"])\n",
    "data_test = data_test.reset_index(drop = True)"
   ]
  },
  {
   "cell_type": "code",
   "execution_count": 46,
   "metadata": {},
   "outputs": [
    {
     "name": "stdout",
     "output_type": "stream",
     "text": [
      "<class 'pandas.core.frame.DataFrame'>\n",
      "RangeIndex: 171 entries, 0 to 170\n",
      "Data columns (total 8 columns):\n",
      " #   Column              Non-Null Count  Dtype  \n",
      "---  ------              --------------  -----  \n",
      " 0   Year                171 non-null    int64  \n",
      " 1   Total Participants  171 non-null    int64  \n",
      " 2   Total Medal         171 non-null    int64  \n",
      " 3   Country Code        168 non-null    object \n",
      " 4   GDP                 163 non-null    float64\n",
      " 5   Population          168 non-null    float64\n",
      " 6   Host                171 non-null    float64\n",
      " 7   Medal category      171 non-null    int64  \n",
      "dtypes: float64(3), int64(4), object(1)\n",
      "memory usage: 10.8+ KB\n",
      "<class 'pandas.core.frame.DataFrame'>\n",
      "RangeIndex: 737 entries, 0 to 736\n",
      "Data columns (total 8 columns):\n",
      " #   Column              Non-Null Count  Dtype  \n",
      "---  ------              --------------  -----  \n",
      " 0   Year                737 non-null    int64  \n",
      " 1   Total Participants  737 non-null    int64  \n",
      " 2   Total Medal         737 non-null    int64  \n",
      " 3   Country Code        727 non-null    object \n",
      " 4   GDP                 642 non-null    float64\n",
      " 5   Population          718 non-null    float64\n",
      " 6   Host                737 non-null    float64\n",
      " 7   Medal category      737 non-null    int64  \n",
      "dtypes: float64(3), int64(4), object(1)\n",
      "memory usage: 46.2+ KB\n",
      "test data percentage: 19.000%\n",
      "train data percentage: 81.000%\n"
     ]
    }
   ],
   "source": [
    "data_test.info()\n",
    "data_train.info()\n",
    "print(\"test data percentage: %.3f%%\" % (round(171/908* 100.0)))\n",
    "print(\"train data percentage: %.3f%%\" % (round(737/908 * 100.0)))"
   ]
  },
  {
   "cell_type": "code",
   "execution_count": 47,
   "metadata": {},
   "outputs": [
    {
     "name": "stdout",
     "output_type": "stream",
     "text": [
      "GDP           7.461905\n",
      "Population    5.993467\n",
      "dtype: float64\n"
     ]
    }
   ],
   "source": [
    "print(data_train[['GDP','Population']].skew())"
   ]
  },
  {
   "cell_type": "code",
   "execution_count": 48,
   "metadata": {},
   "outputs": [
    {
     "data": {
      "image/png": "[encoded data removed]",
      "text/plain": [
       "<Figure size 432x288 with 1 Axes>"
      ]
     },
     "metadata": {
      "needs_background": "light"
     },
     "output_type": "display_data"
    }
   ],
   "source": [
    "## box Plot\n",
    "import seaborn as sns\n",
    "ax = sns.boxplot(data=data_train.iloc[:,4:6],orient=\"v\", palette=\"Set2\")"
   ]
  },
  {
   "cell_type": "markdown",
   "metadata": {},
   "source": [
    "DATA IMPUTATION : GDP AND POPULATION"
   ]
  },
  {
   "cell_type": "code",
   "execution_count": 49,
   "metadata": {},
   "outputs": [
    {
     "name": "stdout",
     "output_type": "stream",
     "text": [
      "<class 'pandas.core.frame.DataFrame'>\n",
      "RangeIndex: 737 entries, 0 to 736\n",
      "Data columns (total 8 columns):\n",
      " #   Column              Non-Null Count  Dtype  \n",
      "---  ------              --------------  -----  \n",
      " 0   Year                737 non-null    int64  \n",
      " 1   Total Participants  737 non-null    int64  \n",
      " 2   Total Medal         737 non-null    int64  \n",
      " 3   Country Code        727 non-null    object \n",
      " 4   GDP                 737 non-null    float64\n",
      " 5   Population          737 non-null    float64\n",
      " 6   Host                737 non-null    float64\n",
      " 7   Medal category      737 non-null    int64  \n",
      "dtypes: float64(3), int64(4), object(1)\n",
      "memory usage: 46.2+ KB\n"
     ]
    }
   ],
   "source": [
    "#Fill in the NaN values for GDP and Population Size, with the median values of the entire column (as we find the data highly skewed)\n",
    "import numpy as np\n",
    "imp_col = ['GDP','Population']\n",
    "for col in imp_col:\n",
    "    data_train.loc[:,(col)] = data_train.loc[:,(col)].fillna((data_train.loc[:,(col)].median()))\n",
    "\n",
    " #data_train.loc[:,(target)]\n",
    "data_train.info()"
   ]
  },
  {
   "cell_type": "markdown",
   "metadata": {},
   "source": [
    "GDP PER CAPITA: Creating a new column called GDP per capita by diving GDP with Population as Its not GDP alone but GDP per capita decides how much resources a country has and its a good predictor value than GDP alone"
   ]
  },
  {
   "cell_type": "code",
   "execution_count": 50,
   "metadata": {},
   "outputs": [
    {
     "data": {
      "text/html": [
       "<div>\n",
       "<style scoped>\n",
       "    .dataframe tbody tr th:only-of-type {\n",
       "        vertical-align: middle;\n",
       "    }\n",
       "\n",
       "    .dataframe tbody tr th {\n",
       "        vertical-align: top;\n",
       "    }\n",
       "\n",
       "    .dataframe thead th {\n",
       "        text-align: right;\n",
       "    }\n",
       "</style>\n",
       "<table border=\"1\" class=\"dataframe\">\n",
       "  <thead>\n",
       "    <tr style=\"text-align: right;\">\n",
       "      <th></th>\n",
       "      <th>Year</th>\n",
       "      <th>Total Participants</th>\n",
       "      <th>Total Medal</th>\n",
       "      <th>Country Code</th>\n",
       "      <th>GDP</th>\n",
       "      <th>Population</th>\n",
       "      <th>Host</th>\n",
       "      <th>Medal category</th>\n",
       "      <th>GDP Per Capita</th>\n",
       "    </tr>\n",
       "  </thead>\n",
       "  <tbody>\n",
       "    <tr>\n",
       "      <th>0</th>\n",
       "      <td>1960</td>\n",
       "      <td>116</td>\n",
       "      <td>4</td>\n",
       "      <td>ARG</td>\n",
       "      <td>5.565836e+10</td>\n",
       "      <td>20619075.0</td>\n",
       "      <td>0.0</td>\n",
       "      <td>1</td>\n",
       "      <td>2699.362658</td>\n",
       "    </tr>\n",
       "    <tr>\n",
       "      <th>1</th>\n",
       "      <td>1960</td>\n",
       "      <td>280</td>\n",
       "      <td>46</td>\n",
       "      <td>AUS</td>\n",
       "      <td>1.859335e+10</td>\n",
       "      <td>10276477.0</td>\n",
       "      <td>0.0</td>\n",
       "      <td>3</td>\n",
       "      <td>1809.311452</td>\n",
       "    </tr>\n",
       "    <tr>\n",
       "      <th>2</th>\n",
       "      <td>1960</td>\n",
       "      <td>198</td>\n",
       "      <td>3</td>\n",
       "      <td>AUT</td>\n",
       "      <td>6.592694e+09</td>\n",
       "      <td>7047539.0</td>\n",
       "      <td>0.0</td>\n",
       "      <td>1</td>\n",
       "      <td>935.460427</td>\n",
       "    </tr>\n",
       "    <tr>\n",
       "      <th>3</th>\n",
       "      <td>1960</td>\n",
       "      <td>150</td>\n",
       "      <td>4</td>\n",
       "      <td>BEL</td>\n",
       "      <td>1.165872e+10</td>\n",
       "      <td>9153489.0</td>\n",
       "      <td>0.0</td>\n",
       "      <td>1</td>\n",
       "      <td>1273.691659</td>\n",
       "    </tr>\n",
       "    <tr>\n",
       "      <th>4</th>\n",
       "      <td>1960</td>\n",
       "      <td>183</td>\n",
       "      <td>7</td>\n",
       "      <td>BGR</td>\n",
       "      <td>5.565836e+10</td>\n",
       "      <td>7867374.0</td>\n",
       "      <td>0.0</td>\n",
       "      <td>1</td>\n",
       "      <td>7074.579282</td>\n",
       "    </tr>\n",
       "  </tbody>\n",
       "</table>\n",
       "</div>"
      ],
      "text/plain": [
       "   Year  Total Participants  Total Medal Country Code           GDP  \\\n",
       "0  1960                 116            4          ARG  5.565836e+10   \n",
       "1  1960                 280           46          AUS  1.859335e+10   \n",
       "2  1960                 198            3          AUT  6.592694e+09   \n",
       "3  1960                 150            4          BEL  1.165872e+10   \n",
       "4  1960                 183            7          BGR  5.565836e+10   \n",
       "\n",
       "   Population  Host  Medal category  GDP Per Capita  \n",
       "0  20619075.0   0.0               1     2699.362658  \n",
       "1  10276477.0   0.0               3     1809.311452  \n",
       "2   7047539.0   0.0               1      935.460427  \n",
       "3   9153489.0   0.0               1     1273.691659  \n",
       "4   7867374.0   0.0               1     7074.579282  "
      ]
     },
     "execution_count": 50,
     "metadata": {},
     "output_type": "execute_result"
    }
   ],
   "source": [
    "data_train['GDP Per Capita'] = data_train['GDP']/data_train['Population']\n",
    "data_train.head()"
   ]
  },
  {
   "cell_type": "code",
   "execution_count": 51,
   "metadata": {},
   "outputs": [
    {
     "data": {
      "text/plain": [
       "<matplotlib.axes._subplots.AxesSubplot at 0x7ff38693fb50>"
      ]
     },
     "execution_count": 51,
     "metadata": {},
     "output_type": "execute_result"
    },
    {
     "data": {
      "image/png": "[encoded data removed]",
      "text/plain": [
       "<Figure size 432x288 with 2 Axes>"
      ]
     },
     "metadata": {
      "needs_background": "light"
     },
     "output_type": "display_data"
    }
   ],
   "source": [
    "cmap = sns.diverging_palette(20,10, as_cmap=True)\n",
    "sns.heatmap(data_train[[\"Year\",\"Total Participants\",\"GDP\",\"Population\",\"Host\",\"GDP Per Capita\",'Medal category']].corr(), vmax=1, center=0, cmap=cmap,\n",
    "            square=True, linewidths=.5, cbar_kws={\"shrink\":.5})"
   ]
  },
  {
   "cell_type": "markdown",
   "metadata": {},
   "source": [
    "Correlation between Response and the Predictors:\n",
    "GDP and Total Participants impacts the target variable positively and could be a good predictor to determine Medal Category."
   ]
  },
  {
   "cell_type": "code",
   "execution_count": 52,
   "metadata": {},
   "outputs": [
    {
     "name": "stdout",
     "output_type": "stream",
     "text": [
      "     Year  Total Participants           GDP  Population  Host  GDP Per Capita\n",
      "0    1960                 116  5.565836e+10  20619075.0   0.0     2699.362658\n",
      "1    1960                 280  1.859335e+10  10276477.0   0.0     1809.311452\n",
      "2    1960                 198  6.592694e+09   7047539.0   0.0      935.460427\n",
      "3    1960                 150  1.165872e+10   9153489.0   0.0     1273.691659\n",
      "4    1960                 183  5.565836e+10   7867374.0   0.0     7074.579282\n",
      "..    ...                 ...           ...         ...   ...             ...\n",
      "732  2008                 126  3.159530e+11  28141701.0   0.0    11227.217573\n",
      "733  2008                  18  9.913030e+10  85118700.0   0.0     1164.612525\n",
      "734  2008                 179  2.871000e+11  49557573.3   0.0     5793.261875\n",
      "735  2008                  16  4.415703e+09  13558469.0   0.0      325.678570\n",
      "736  2008                  92  5.565836e+10  15403885.0   0.0     3613.267763\n",
      "\n",
      "[737 rows x 6 columns] 0      1\n",
      "1      3\n",
      "2      1\n",
      "3      1\n",
      "4      1\n",
      "      ..\n",
      "732    0\n",
      "733    0\n",
      "734    0\n",
      "735    1\n",
      "736    1\n",
      "Name: Medal category, Length: 737, dtype: int64\n"
     ]
    }
   ],
   "source": [
    "predictors = [\"Year\",\"Total Participants\",\"GDP\",\"Population\",\"Host\",\"GDP Per Capita\"]\n",
    "X_train = data_train.loc[:,(predictors)].reset_index(drop = True)\n",
    "Y_train=data_train['Medal category']\n",
    "print (X_train,Y_train)"
   ]
  },
  {
   "cell_type": "code",
   "execution_count": 53,
   "metadata": {},
   "outputs": [
    {
     "data": {
      "image/png": "[encoded data removed]",
      "text/plain": [
       "<Figure size 432x288 with 1 Axes>"
      ]
     },
     "metadata": {
      "needs_background": "light"
     },
     "output_type": "display_data"
    }
   ],
   "source": [
    "# visualize the target variable\n",
    "g = sns.countplot(Y_train)\n",
    "g.set_xticklabels(['0','1','2','3','4'])\n",
    "plt.show()"
   ]
  },
  {
   "cell_type": "code",
   "execution_count": 54,
   "metadata": {},
   "outputs": [
    {
     "data": {
      "text/plain": [
       "<matplotlib.axes._subplots.AxesSubplot at 0x7ff38648dd90>"
      ]
     },
     "execution_count": 54,
     "metadata": {},
     "output_type": "execute_result"
    },
    {
     "data": {
      "image/png": "[encoded data removed]",
      "text/plain": [
       "<Figure size 432x288 with 2 Axes>"
      ]
     },
     "metadata": {
      "needs_background": "light"
     },
     "output_type": "display_data"
    }
   ],
   "source": [
    "cmap = sns.diverging_palette(20,10, as_cmap=True)\n",
    "sns.heatmap(X_train[[\"Year\",\"Total Participants\",\"GDP\",\"Population\",\"Host\",\"GDP Per Capita\"]].corr(), vmax=1, center=0, cmap=cmap,\n",
    "            square=True, linewidths=.5, cbar_kws={\"shrink\":.5})"
   ]
  },
  {
   "cell_type": "code",
   "execution_count": 55,
   "metadata": {},
   "outputs": [
    {
     "name": "stdout",
     "output_type": "stream",
     "text": [
      "Statistics=0.092, p=0.000\n"
     ]
    }
   ],
   "source": [
    "#Shapiro-Wilk Test\n",
    "stat,p = shapiro(data_train[[\"Year\",\"Total Participants\",\"GDP\",\"Population\",\"Host\",\"GDP Per Capita\"]])\n",
    "print('Statistics=%.3f, p=%.3f' % (stat,p))\n",
    "\n",
    "###OBSERVATION: DATA DISTRIBUTION IS NOT NORMAL"
   ]
  },
  {
   "cell_type": "code",
   "execution_count": 56,
   "metadata": {},
   "outputs": [
    {
     "name": "stdout",
     "output_type": "stream",
     "text": [
      "     Year  Total Participants           GDP  Population  Host  GDP Per Capita\n",
      "0    1960                 116  5.565836e+10  20619075.0   0.0     2699.362658\n",
      "1    1960                 280  1.859335e+10  10276477.0   0.0     1809.311452\n",
      "2    1960                 198  6.592694e+09   7047539.0   0.0      935.460427\n",
      "3    1960                 150  1.165872e+10   9153489.0   0.0     1273.691659\n",
      "4    1960                 183  5.565836e+10   7867374.0   0.0     7074.579282\n",
      "..    ...                 ...           ...         ...   ...             ...\n",
      "732  2008                 126  3.159530e+11  28141701.0   0.0    11227.217573\n",
      "733  2008                  18  9.913030e+10  85118700.0   0.0     1164.612525\n",
      "734  2008                 179  2.871000e+11  49557573.3   0.0     5793.261875\n",
      "735  2008                  16  4.415703e+09  13558469.0   0.0      325.678570\n",
      "736  2008                  92  5.565836e+10  15403885.0   0.0     3613.267763\n",
      "\n",
      "[737 rows x 6 columns] 0      1\n",
      "1      3\n",
      "2      1\n",
      "3      1\n",
      "4      1\n",
      "      ..\n",
      "732    0\n",
      "733    0\n",
      "734    0\n",
      "735    1\n",
      "736    1\n",
      "Name: Medal category, Length: 737, dtype: int64\n"
     ]
    }
   ],
   "source": [
    "predictors = [\"Year\",\"Total Participants\",\"GDP\",\"Population\",\"Host\",\"GDP Per Capita\"]\n",
    "X_train = data_train.loc[:,(predictors)].reset_index(drop = True)\n",
    "Y_train=data_train['Medal category']\n",
    "print (X_train,Y_train)"
   ]
  },
  {
   "cell_type": "code",
   "execution_count": 57,
   "metadata": {},
   "outputs": [
    {
     "name": "stdout",
     "output_type": "stream",
     "text": [
      "4 selected features\n",
      "['Total Participants', 'GDP', 'Population', 'GDP Per Capita']\n"
     ]
    }
   ],
   "source": [
    "embeded_rf_selector = SelectFromModel(RandomForestClassifier(n_estimators=200),max_features=4,threshold=-np.inf)\n",
    "embeded_rf_selector.fit(X_train,Y_train)\n",
    "embeded_rf_support = embeded_rf_selector.get_support()\n",
    "embeded_rf_feature = X_train.loc[:,embeded_rf_support].columns.tolist()\n",
    "print(str(len(embeded_rf_feature)), 'selected features')\n",
    "print(embeded_rf_feature)"
   ]
  },
  {
   "cell_type": "markdown",
   "metadata": {},
   "source": [
    "#Random Forests and decision trees, in general, give preference to features with high cardinality."
   ]
  },
  {
   "cell_type": "markdown",
   "metadata": {},
   "source": [
    "Tried with different no. of estimators  (20,25,30,35,40) still the same selected features "
   ]
  },
  {
   "cell_type": "code",
   "execution_count": 58,
   "metadata": {},
   "outputs": [
    {
     "name": "stdout",
     "output_type": "stream",
     "text": [
      "Fitting estimator with 6 features.\n",
      "[17:06:06] WARNING: ../src/learner.cc:1095: Starting in XGBoost 1.3.0, the default evaluation metric used with the objective 'multi:softprob' was changed from 'merror' to 'mlogloss'. Explicitly set eval_metric if you'd like to restore the old behavior.\n",
      "[17:09:40] WARNING: ../src/learner.cc:1095: Starting in XGBoost 1.3.0, the default evaluation metric used with the objective 'multi:softprob' was changed from 'merror' to 'mlogloss'. Explicitly set eval_metric if you'd like to restore the old behavior.\n",
      "4 selected features\n",
      "['Total Participants', 'GDP', 'Population', 'GDP Per Capita']\n"
     ]
    }
   ],
   "source": [
    "##Feature Selection: Recursive Feature Elimination\n",
    "#X_norm = MinMaxScaler().fit_transform(X_train)\n",
    "rfe_selector = RFE(estimator=XGBClassifier(use_label_encoder=False), n_features_to_select=4, step=10, verbose=5)\n",
    "rfe_selector.fit(X_train, Y_train)\n",
    "rfe_support = rfe_selector.get_support()\n",
    "rfe_feature = X_train.loc[:,rfe_support].columns.tolist()\n",
    "print(str(len(rfe_feature)), 'selected features')\n",
    "print(rfe_feature)\n"
   ]
  },
  {
   "cell_type": "code",
   "execution_count": 59,
   "metadata": {},
   "outputs": [
    {
     "name": "stdout",
     "output_type": "stream",
     "text": [
      "[17:09:41] WARNING: ../src/learner.cc:1095: Starting in XGBoost 1.3.0, the default evaluation metric used with the objective 'multi:softprob' was changed from 'merror' to 'mlogloss'. Explicitly set eval_metric if you'd like to restore the old behavior.\n"
     ]
    },
    {
     "name": "stderr",
     "output_type": "stream",
     "text": [
      "/opt/conda/lib/python3.7/site-packages/xgboost/sklearn.py:1146: UserWarning: The use of label encoder in XGBClassifier is deprecated and will be removed in a future release. To remove this warning, do the following: 1) Pass option use_label_encoder=False when constructing XGBClassifier object; and 2) Encode your labels (y) as integers starting with 0, i.e. 0, 1, 2, ..., [num_class - 1].\n",
      "  warnings.warn(label_encoder_deprecation_msg, UserWarning)\n"
     ]
    },
    {
     "data": {
      "image/png": "[encoded data removed]",
      "text/plain": [
       "<Figure size 432x288 with 1 Axes>"
      ]
     },
     "metadata": {
      "needs_background": "light"
     },
     "output_type": "display_data"
    }
   ],
   "source": [
    "import matplotlib.pyplot as plt\n",
    "from xgboost import plot_importance\n",
    "model = XGBClassifier()\n",
    "model.fit(X_train, Y_train)\n",
    "# plot feature importance\n",
    "plot_importance(model)\n",
    "plt.show()"
   ]
  },
  {
   "cell_type": "code",
   "execution_count": 60,
   "metadata": {},
   "outputs": [
    {
     "data": {
      "image/png": "[encoded data removed]",
      "text/plain": [
       "<Figure size 432x288 with 1 Axes>"
      ]
     },
     "metadata": {
      "needs_background": "light"
     },
     "output_type": "display_data"
    }
   ],
   "source": [
    "# visualize the target variable\n",
    "g = sns.countplot(Y_train)\n",
    "g.set_xticklabels(['0','1','2','3','4'])\n",
    "plt.show()"
   ]
  },
  {
   "cell_type": "markdown",
   "metadata": {},
   "source": [
    "PREPARING TEST DATA: Before we Predict lets prepare the Test data first, as I do not want to make any assumptional changes or imputaion, lets drop all the rows in test data which is empty."
   ]
  },
  {
   "cell_type": "code",
   "execution_count": 61,
   "metadata": {},
   "outputs": [
    {
     "name": "stdout",
     "output_type": "stream",
     "text": [
      "<class 'pandas.core.frame.DataFrame'>\n",
      "Int64Index: 163 entries, 0 to 168\n",
      "Data columns (total 8 columns):\n",
      " #   Column              Non-Null Count  Dtype  \n",
      "---  ------              --------------  -----  \n",
      " 0   Year                163 non-null    int64  \n",
      " 1   Total Participants  163 non-null    int64  \n",
      " 2   Total Medal         163 non-null    int64  \n",
      " 3   Country Code        163 non-null    object \n",
      " 4   GDP                 163 non-null    float64\n",
      " 5   Population          163 non-null    float64\n",
      " 6   Host                163 non-null    float64\n",
      " 7   Medal category      163 non-null    int64  \n",
      "dtypes: float64(3), int64(4), object(1)\n",
      "memory usage: 11.5+ KB\n"
     ]
    },
    {
     "data": {
      "text/html": [
       "<div>\n",
       "<style scoped>\n",
       "    .dataframe tbody tr th:only-of-type {\n",
       "        vertical-align: middle;\n",
       "    }\n",
       "\n",
       "    .dataframe tbody tr th {\n",
       "        vertical-align: top;\n",
       "    }\n",
       "\n",
       "    .dataframe thead th {\n",
       "        text-align: right;\n",
       "    }\n",
       "</style>\n",
       "<table border=\"1\" class=\"dataframe\">\n",
       "  <thead>\n",
       "    <tr style=\"text-align: right;\">\n",
       "      <th></th>\n",
       "      <th>Year</th>\n",
       "      <th>Total Participants</th>\n",
       "      <th>Total Medal</th>\n",
       "      <th>Country Code</th>\n",
       "      <th>GDP</th>\n",
       "      <th>Population</th>\n",
       "      <th>Host</th>\n",
       "      <th>Medal category</th>\n",
       "      <th>GDP Per Capita</th>\n",
       "    </tr>\n",
       "  </thead>\n",
       "  <tbody>\n",
       "    <tr>\n",
       "      <th>0</th>\n",
       "      <td>2012</td>\n",
       "      <td>6</td>\n",
       "      <td>1</td>\n",
       "      <td>AFG</td>\n",
       "      <td>2.053654e+10</td>\n",
       "      <td>30696958.0</td>\n",
       "      <td>0.0</td>\n",
       "      <td>0</td>\n",
       "      <td>669.009051</td>\n",
       "    </tr>\n",
       "    <tr>\n",
       "      <th>60</th>\n",
       "      <td>2012</td>\n",
       "      <td>256</td>\n",
       "      <td>12</td>\n",
       "      <td>POL</td>\n",
       "      <td>5.002840e+11</td>\n",
       "      <td>38063164.0</td>\n",
       "      <td>0.0</td>\n",
       "      <td>2</td>\n",
       "      <td>13143.521122</td>\n",
       "    </tr>\n",
       "    <tr>\n",
       "      <th>59</th>\n",
       "      <td>2012</td>\n",
       "      <td>204</td>\n",
       "      <td>27</td>\n",
       "      <td>NZL</td>\n",
       "      <td>1.761930e+11</td>\n",
       "      <td>4408100.0</td>\n",
       "      <td>0.0</td>\n",
       "      <td>3</td>\n",
       "      <td>39970.281981</td>\n",
       "    </tr>\n",
       "    <tr>\n",
       "      <th>58</th>\n",
       "      <td>2012</td>\n",
       "      <td>69</td>\n",
       "      <td>17</td>\n",
       "      <td>NOR</td>\n",
       "      <td>5.102290e+11</td>\n",
       "      <td>5018573.0</td>\n",
       "      <td>0.0</td>\n",
       "      <td>2</td>\n",
       "      <td>101668.143514</td>\n",
       "    </tr>\n",
       "    <tr>\n",
       "      <th>57</th>\n",
       "      <td>2012</td>\n",
       "      <td>222</td>\n",
       "      <td>69</td>\n",
       "      <td>NLD</td>\n",
       "      <td>8.289470e+11</td>\n",
       "      <td>16754962.0</td>\n",
       "      <td>0.0</td>\n",
       "      <td>3</td>\n",
       "      <td>49474.716803</td>\n",
       "    </tr>\n",
       "    <tr>\n",
       "      <th>56</th>\n",
       "      <td>2012</td>\n",
       "      <td>38</td>\n",
       "      <td>2</td>\n",
       "      <td>MYS</td>\n",
       "      <td>3.144430e+11</td>\n",
       "      <td>29170456.0</td>\n",
       "      <td>0.0</td>\n",
       "      <td>0</td>\n",
       "      <td>10779.502384</td>\n",
       "    </tr>\n",
       "    <tr>\n",
       "      <th>55</th>\n",
       "      <td>2012</td>\n",
       "      <td>32</td>\n",
       "      <td>5</td>\n",
       "      <td>MNG</td>\n",
       "      <td>1.229277e+10</td>\n",
       "      <td>2814226.0</td>\n",
       "      <td>0.0</td>\n",
       "      <td>1</td>\n",
       "      <td>4368.082247</td>\n",
       "    </tr>\n",
       "    <tr>\n",
       "      <th>54</th>\n",
       "      <td>2012</td>\n",
       "      <td>34</td>\n",
       "      <td>14</td>\n",
       "      <td>MNE</td>\n",
       "      <td>4.087725e+09</td>\n",
       "      <td>620601.0</td>\n",
       "      <td>0.0</td>\n",
       "      <td>2</td>\n",
       "      <td>6586.719209</td>\n",
       "    </tr>\n",
       "    <tr>\n",
       "      <th>53</th>\n",
       "      <td>2012</td>\n",
       "      <td>119</td>\n",
       "      <td>24</td>\n",
       "      <td>MEX</td>\n",
       "      <td>1.186600e+12</td>\n",
       "      <td>120828307.0</td>\n",
       "      <td>0.0</td>\n",
       "      <td>2</td>\n",
       "      <td>9820.546439</td>\n",
       "    </tr>\n",
       "    <tr>\n",
       "      <th>52</th>\n",
       "      <td>2012</td>\n",
       "      <td>20</td>\n",
       "      <td>2</td>\n",
       "      <td>MDA</td>\n",
       "      <td>7.284687e+09</td>\n",
       "      <td>3559519.0</td>\n",
       "      <td>0.0</td>\n",
       "      <td>0</td>\n",
       "      <td>2046.536787</td>\n",
       "    </tr>\n",
       "  </tbody>\n",
       "</table>\n",
       "</div>"
      ],
      "text/plain": [
       "    Year  Total Participants  Total Medal Country Code           GDP  \\\n",
       "0   2012                   6            1          AFG  2.053654e+10   \n",
       "60  2012                 256           12          POL  5.002840e+11   \n",
       "59  2012                 204           27          NZL  1.761930e+11   \n",
       "58  2012                  69           17          NOR  5.102290e+11   \n",
       "57  2012                 222           69          NLD  8.289470e+11   \n",
       "56  2012                  38            2          MYS  3.144430e+11   \n",
       "55  2012                  32            5          MNG  1.229277e+10   \n",
       "54  2012                  34           14          MNE  4.087725e+09   \n",
       "53  2012                 119           24          MEX  1.186600e+12   \n",
       "52  2012                  20            2          MDA  7.284687e+09   \n",
       "\n",
       "     Population  Host  Medal category  GDP Per Capita  \n",
       "0    30696958.0   0.0               0      669.009051  \n",
       "60   38063164.0   0.0               2    13143.521122  \n",
       "59    4408100.0   0.0               3    39970.281981  \n",
       "58    5018573.0   0.0               2   101668.143514  \n",
       "57   16754962.0   0.0               3    49474.716803  \n",
       "56   29170456.0   0.0               0    10779.502384  \n",
       "55    2814226.0   0.0               1     4368.082247  \n",
       "54     620601.0   0.0               2     6586.719209  \n",
       "53  120828307.0   0.0               2     9820.546439  \n",
       "52    3559519.0   0.0               0     2046.536787  "
      ]
     },
     "execution_count": 61,
     "metadata": {},
     "output_type": "execute_result"
    }
   ],
   "source": [
    "data_test = data_test.dropna()\n",
    "data_test.info()\n",
    "#create a new cloumn called GDP per Capita\n",
    "data_test['GDP Per Capita'] = data_test['GDP']/data_test['Population']\n",
    "data_test = data_test.sort_values(by = [\"Year\"])\n",
    "data_test.head(10)\n"
   ]
  },
  {
   "cell_type": "code",
   "execution_count": 62,
   "metadata": {},
   "outputs": [
    {
     "name": "stdout",
     "output_type": "stream",
     "text": [
      "     Year  Total Participants           GDP  Population  GDP Per Capita\n",
      "0    2012                   6  2.053654e+10  30696958.0      669.009051\n",
      "1    2012                 256  5.002840e+11  38063164.0    13143.521122\n",
      "2    2012                 204  1.761930e+11   4408100.0    39970.281981\n",
      "3    2012                  69  5.102290e+11   5018573.0   101668.143514\n",
      "4    2012                 222  8.289470e+11  16754962.0    49474.716803\n",
      "..    ...                 ...           ...         ...             ...\n",
      "158  2016                  74  1.590490e+11  40606052.0     3916.879188\n",
      "159  2016                  30  7.158355e+10  10648791.0     6722.223536\n",
      "160  2016                 143  3.069000e+11   5731118.0    53549.761146\n",
      "161  2016                  93  3.048190e+11   4773095.0    63861.917687\n",
      "162  2016                 155  2.954560e+11  55908865.0     5284.600215\n",
      "\n",
      "[163 rows x 5 columns] 0      0\n",
      "60     2\n",
      "59     3\n",
      "58     2\n",
      "57     3\n",
      "      ..\n",
      "108    0\n",
      "107    0\n",
      "106    3\n",
      "124    1\n",
      "168    2\n",
      "Name: Medal category, Length: 163, dtype: int64\n"
     ]
    }
   ],
   "source": [
    "predictors = [\"Year\",\"Total Participants\",\"GDP\",\"Population\",\"GDP Per Capita\"]\n",
    "X_test = data_test.loc[:,(predictors)].reset_index(drop = True)\n",
    "Y_test = data_test['Medal category']\n",
    "print (X_test,Y_test)"
   ]
  },
  {
   "cell_type": "markdown",
   "metadata": {},
   "source": [
    "Lets build and train the Model\n",
    "1)RandomForest Classifier"
   ]
  },
  {
   "cell_type": "code",
   "execution_count": 63,
   "metadata": {},
   "outputs": [
    {
     "name": "stdout",
     "output_type": "stream",
     "text": [
      "Accuracy_train: 100.00%\n",
      "Accuracy_pred: 60.12%\n",
      "0.04395008087158203 seconds\n",
      "RandomForestClassifier(random_state=42)\n",
      "Parameters currently in use:\n",
      "\n",
      "{'bootstrap': True,\n",
      " 'ccp_alpha': 0.0,\n",
      " 'class_weight': None,\n",
      " 'criterion': 'gini',\n",
      " 'max_depth': None,\n",
      " 'max_features': 'auto',\n",
      " 'max_leaf_nodes': None,\n",
      " 'max_samples': None,\n",
      " 'min_impurity_decrease': 0.0,\n",
      " 'min_impurity_split': None,\n",
      " 'min_samples_leaf': 1,\n",
      " 'min_samples_split': 2,\n",
      " 'min_weight_fraction_leaf': 0.0,\n",
      " 'n_estimators': 100,\n",
      " 'n_jobs': None,\n",
      " 'oob_score': False,\n",
      " 'random_state': 42,\n",
      " 'verbose': 0,\n",
      " 'warm_start': False}\n"
     ]
    }
   ],
   "source": [
    "# Create Random Forest Classifier object\n",
    "clf = RandomForestClassifier(random_state=42)\n",
    "clf.fit(X_train[[\"Total Participants\",\"GDP\",\"Population\",\"GDP Per Capita\",\"Year\"]],Y_train)\n",
    "\n",
    "start = time.time()\n",
    "# evaluate on the train dataset\n",
    "clf_train = clf.predict(X_train[[\"Total Participants\",\"GDP\",\"Population\",\"GDP Per Capita\",\"Year\"]])\n",
    "train_acc = accuracy_score(Y_train, clf_train)\n",
    "print(\"Accuracy_train: %.2f%%\" % (train_acc * 100.0))\n",
    "\n",
    "# evaluate on the test dataset\n",
    "clf_pred = clf.predict(X_test[[\"Total Participants\",\"GDP\",\"Population\",\"GDP Per Capita\",\"Year\"]]) \n",
    "pred_acc = accuracy_score(Y_test, clf_pred)\n",
    "print(\"Accuracy_pred: %.2f%%\" % (pred_acc * 100.0))\n",
    "end = time.time()\n",
    "print(end - start, \"seconds\")\n",
    "print(clf)\n",
    "from pprint import pprint\n",
    "# Look at parameters used by our current classifier\n",
    "print('Parameters currently in use:\\n')\n",
    "pprint(clf.get_params())"
   ]
  },
  {
   "cell_type": "markdown",
   "metadata": {},
   "source": [
    "We see that our model overfits. The trees perfectly predicts all of the train data, however, it fails to generalize the findings for new data"
   ]
  },
  {
   "cell_type": "code",
   "execution_count": 64,
   "metadata": {},
   "outputs": [
    {
     "name": "stdout",
     "output_type": "stream",
     "text": [
      "[1960 1964 1968 1972 1976 1980 1984 1988 1992 1996 2000 2004 2008]\n",
      "accuracy of the test predictions using GRIDSEARCH CLF: 57.668711656441715\n",
      "accuracy of the train predictions using GRIDSEARCH CLF: 67.57123473541384\n",
      "0.051995038986206055 seconds\n",
      "{'cv': <generator object TimeSeriesSplit.split at 0x7ff38688b950>,\n",
      " 'error_score': nan,\n",
      " 'estimator': RandomForestClassifier(random_state=42),\n",
      " 'estimator__bootstrap': True,\n",
      " 'estimator__ccp_alpha': 0.0,\n",
      " 'estimator__class_weight': None,\n",
      " 'estimator__criterion': 'gini',\n",
      " 'estimator__max_depth': None,\n",
      " 'estimator__max_features': 'auto',\n",
      " 'estimator__max_leaf_nodes': None,\n",
      " 'estimator__max_samples': None,\n",
      " 'estimator__min_impurity_decrease': 0.0,\n",
      " 'estimator__min_impurity_split': None,\n",
      " 'estimator__min_samples_leaf': 1,\n",
      " 'estimator__min_samples_split': 2,\n",
      " 'estimator__min_weight_fraction_leaf': 0.0,\n",
      " 'estimator__n_estimators': 100,\n",
      " 'estimator__n_jobs': None,\n",
      " 'estimator__oob_score': False,\n",
      " 'estimator__random_state': 42,\n",
      " 'estimator__verbose': 0,\n",
      " 'estimator__warm_start': False,\n",
      " 'n_jobs': None,\n",
      " 'param_grid': {'max_depth': range(2, 60, 2),\n",
      "                'n_estimators': range(100, 300, 10)},\n",
      " 'pre_dispatch': '2*n_jobs',\n",
      " 'refit': True,\n",
      " 'return_train_score': False,\n",
      " 'scoring': None,\n",
      " 'verbose': 0}\n"
     ]
    }
   ],
   "source": [
    "year_list  = X_train.sort_values(by = [\"Year\"])\n",
    "year_list = year_list['Year'].unique()\n",
    "#year_list = year_list.sort()\n",
    "print(year_list)\n",
    "\n",
    "\n",
    "clf1 = RandomForestClassifier(random_state=42)\n",
    "\n",
    "param_grid = {\n",
    "                 'n_estimators':range(100,300,10),\n",
    "                 'max_depth': range(2,60,2)\n",
    "             }\n",
    "\n",
    "tscv=TimeSeriesSplit(n_splits=5,max_train_size=None,test_size=2).split(year_list)\n",
    "grid_clf = GridSearchCV(clf1, param_grid, cv=tscv)\n",
    "grid_clf.fit(X_train[[\"Total Participants\",\"GDP\",\"Population\",\"GDP Per Capita\",\"Year\"]],Y_train)\n",
    "\n",
    "start = time.time()\n",
    "y_predictions = grid_clf.predict(X_test[[\"Total Participants\",\"GDP\",\"Population\",\"GDP Per Capita\",\"Year\"]])\n",
    "y_train_p=grid_clf.predict(X_train[[\"Total Participants\",\"GDP\",\"Population\",\"GDP Per Capita\",\"Year\"]])\n",
    "print(\"accuracy of the test predictions using GRIDSEARCH CLF:\", metrics.accuracy_score(Y_test, y_predictions) *100)\n",
    "print(\"accuracy of the train predictions using GRIDSEARCH CLF:\", metrics.accuracy_score(Y_train, y_train_p)*100)\n",
    "end = time.time()\n",
    "print(end - start, \"seconds\")\n",
    "pprint(grid_clf.get_params())"
   ]
  },
  {
   "cell_type": "markdown",
   "metadata": {},
   "source": [
    "https://stackoverflow.com/questions/31324218/scikit-learn-how-to-obtain-true-positive-true-negative-false-positive-and-fal"
   ]
  },
  {
   "cell_type": "code",
   "execution_count": 65,
   "metadata": {},
   "outputs": [
    {
     "name": "stdout",
     "output_type": "stream",
     "text": [
      "{'max_depth': 4, 'n_estimators': 160}\n"
     ]
    }
   ],
   "source": [
    "print(grid_clf.best_params_)"
   ]
  },
  {
   "cell_type": "code",
   "execution_count": 66,
   "metadata": {},
   "outputs": [
    {
     "name": "stdout",
     "output_type": "stream",
     "text": [
      "Accuracy_train: 67.57%\n",
      "Accuracy_pred: 57.67%\n",
      "0.05279970169067383 seconds\n"
     ]
    }
   ],
   "source": [
    "# Create Random Forest Classifier object\n",
    "start = time.time()\n",
    "\n",
    "# evaluate on the train dataset\n",
    "grid_clf_train = grid_clf.predict(X_train[[\"Total Participants\",\"GDP\",\"Population\",\"GDP Per Capita\",\"Year\"]])\n",
    "train_acc = accuracy_score(Y_train, grid_clf_train)\n",
    "print(\"Accuracy_train: %.2f%%\" % (train_acc * 100.0))\n",
    "\n",
    "# evaluate on the test dataset\n",
    "grid_clf_pred = grid_clf.predict(X_test[[\"Total Participants\",\"GDP\",\"Population\",\"GDP Per Capita\",'Year']]) \n",
    "pred_acc = accuracy_score(Y_test, grid_clf_pred)\n",
    "print(\"Accuracy_pred: %.2f%%\" % (pred_acc * 100.0))\n",
    "end = time.time()\n",
    "print(end - start, \"seconds\")\n",
    "RF_time = end - start"
   ]
  },
  {
   "cell_type": "code",
   "execution_count": 67,
   "metadata": {},
   "outputs": [
    {
     "name": "stdout",
     "output_type": "stream",
     "text": [
      "=== Confusion Matrix ===\n",
      "[[29 18  0  0]\n",
      " [ 8 27  0  0]\n",
      " [ 5 26 10  6]\n",
      " [ 0  1  5 28]]\n",
      "\n",
      "\n",
      "=== Classification Report ===\n",
      "              precision    recall  f1-score   support\n",
      "\n",
      "           0       0.69      0.62      0.65        47\n",
      "           1       0.38      0.77      0.50        35\n",
      "           2       0.67      0.21      0.32        47\n",
      "           3       0.82      0.82      0.82        34\n",
      "\n",
      "    accuracy                           0.58       163\n",
      "   macro avg       0.64      0.61      0.58       163\n",
      "weighted avg       0.64      0.58      0.56       163\n",
      "\n",
      "\n",
      "\n",
      "=== All Train AUC Scores ===\n",
      "67.57123473541384\n",
      "\n",
      "\n",
      "=== All Test AUC Scores ===\n",
      "57.668711656441715\n"
     ]
    }
   ],
   "source": [
    "print(\"=== Confusion Matrix ===\")\n",
    "print(confusion_matrix(Y_test,grid_clf_pred))\n",
    "print('\\n')\n",
    "print(\"=== Classification Report ===\")\n",
    "print(classification_report(Y_test, grid_clf_pred))\n",
    "print('\\n')\n",
    "print(\"=== All Train AUC Scores ===\")\n",
    "print(metrics.accuracy_score(Y_train,  grid_clf_train)*100)\n",
    "print('\\n')\n",
    "print(\"=== All Test AUC Scores ===\")\n",
    "print(metrics.accuracy_score(Y_test, grid_clf_pred)*100)"
   ]
  },
  {
   "cell_type": "code",
   "execution_count": 68,
   "metadata": {},
   "outputs": [
    {
     "data": {
      "text/plain": [
       "array([[29, 18,  0,  0],\n",
       "       [ 8, 27,  0,  0],\n",
       "       [ 5, 26, 10,  6],\n",
       "       [ 0,  1,  5, 28]])"
      ]
     },
     "execution_count": 68,
     "metadata": {},
     "output_type": "execute_result"
    }
   ],
   "source": [
    "CM1 = confusion_matrix(Y_test, grid_clf_pred)\n",
    "CM1"
   ]
  },
  {
   "cell_type": "code",
   "execution_count": 69,
   "metadata": {},
   "outputs": [
    {
     "data": {
      "text/plain": [
       "array([29, 27, 10, 28])"
      ]
     },
     "execution_count": 69,
     "metadata": {},
     "output_type": "execute_result"
    }
   ],
   "source": [
    "TruePositive = np.diag(CM1)\n",
    "TruePositive"
   ]
  },
  {
   "cell_type": "code",
   "execution_count": 70,
   "metadata": {},
   "outputs": [
    {
     "data": {
      "text/plain": [
       "[13, 45, 5, 6]"
      ]
     },
     "execution_count": 70,
     "metadata": {},
     "output_type": "execute_result"
    }
   ],
   "source": [
    "#The False Positives are the sum of the respective columns, minus the diagonal element:(Type 1 error)\n",
    "num_classes=4\n",
    "FalsePositive = []\n",
    "for i in range(num_classes):\n",
    "    FalsePositive.append(sum(CM1[:,i]) - CM1[i,i])\n",
    "FalsePositive"
   ]
  },
  {
   "cell_type": "code",
   "execution_count": 71,
   "metadata": {},
   "outputs": [
    {
     "data": {
      "text/plain": [
       "[18, 8, 37, 6]"
      ]
     },
     "execution_count": 71,
     "metadata": {},
     "output_type": "execute_result"
    }
   ],
   "source": [
    "# False Negatives are the sum of the respective rows, minus the diagonal element:\n",
    "FalseNegative = []\n",
    "for i in range(num_classes):\n",
    "    FalseNegative.append(sum(CM1[i,:]) - CM1[i,i])\n",
    "FalseNegative"
   ]
  },
  {
   "cell_type": "code",
   "execution_count": 72,
   "metadata": {},
   "outputs": [
    {
     "data": {
      "text/plain": [
       "[103, 83, 111, 123]"
      ]
     },
     "execution_count": 72,
     "metadata": {},
     "output_type": "execute_result"
    }
   ],
   "source": [
    "#rue Negative means, with respect to, say class 0: it means all the samples that have been correctly identified as not being 0.\n",
    "#So, essentially what we should do is remove the corresponding row & column from the confusion matrix, and then sum up all the remaining elements:\n",
    "TrueNegative = []\n",
    "for i in range(num_classes):\n",
    "    temp = np.delete(CM1, i, 0)   # delete ith row\n",
    "    temp = np.delete(temp, i, 1)  # delete ith column\n",
    "    TrueNegative.append(sum(sum(temp)))\n",
    "TrueNegative"
   ]
  },
  {
   "cell_type": "code",
   "execution_count": 73,
   "metadata": {},
   "outputs": [
    {
     "name": "stdout",
     "output_type": "stream",
     "text": [
      "=== Random Forest ===\n",
      "=== True Positive ===\n",
      "[29 27 10 28]\n",
      "=== False Positive ===\n",
      "[13, 45, 5, 6]\n",
      "=== False Negative ===\n",
      "[18, 8, 37, 6]\n",
      "=== True Negative ===\n",
      "[103, 83, 111, 123]\n"
     ]
    }
   ],
   "source": [
    "print(\"=== Random Forest ===\")\n",
    "print(\"=== True Positive ===\")\n",
    "print(TruePositive)\n",
    "print(\"=== False Positive ===\")\n",
    "print(FalsePositive)\n",
    "print(\"=== False Negative ===\")\n",
    "print(FalseNegative)\n",
    "print(\"=== True Negative ===\")\n",
    "print(TrueNegative)"
   ]
  },
  {
   "cell_type": "markdown",
   "metadata": {},
   "source": [
    "#Analysis\n",
    "total 0 = 47,  29 got rightly predicted as 0 and 13 got predicted as false positive (0) and 18 got predicted as false negative(1) and 103 are True Negatives\n",
    "total 1 = 35,  27 got rightly predicted as 1 and 45 got predicted as false positive (1) and 8 got predicted as false negative(0) and 83 are True Negatives\n",
    "total 2 = 47,  10 got rightly predicted as 2 and 5  got predicted as false positive (2) and 37 got predicted as false negative(5(0),26(1),6(3)) and 111 are True Negatives\n",
    "total 3 = 34,  28 got rightly predicted as 3 and 6  got predicted as false positive (3) and 6 got predicted as false negative(1(1),5(2)) and 123 are True Negatives"
   ]
  },
  {
   "cell_type": "markdown",
   "metadata": {},
   "source": [
    "XGBoost Classifier:"
   ]
  },
  {
   "cell_type": "code",
   "execution_count": 74,
   "metadata": {},
   "outputs": [
    {
     "name": "stderr",
     "output_type": "stream",
     "text": [
      "/opt/conda/lib/python3.7/site-packages/xgboost/sklearn.py:1146: UserWarning: The use of label encoder in XGBClassifier is deprecated and will be removed in a future release. To remove this warning, do the following: 1) Pass option use_label_encoder=False when constructing XGBClassifier object; and 2) Encode your labels (y) as integers starting with 0, i.e. 0, 1, 2, ..., [num_class - 1].\n",
      "  warnings.warn(label_encoder_deprecation_msg, UserWarning)\n"
     ]
    },
    {
     "name": "stdout",
     "output_type": "stream",
     "text": [
      "[17:31:23] WARNING: ../src/learner.cc:1095: Starting in XGBoost 1.3.0, the default evaluation metric used with the objective 'multi:softprob' was changed from 'merror' to 'mlogloss'. Explicitly set eval_metric if you'd like to restore the old behavior.\n",
      "XGBClassifier(base_score=0.5, booster='gbtree', colsample_bylevel=1,\n",
      "              colsample_bynode=1, colsample_bytree=1, gamma=0, gpu_id=-1,\n",
      "              importance_type='gain', interaction_constraints='',\n",
      "              learning_rate=0.300000012, max_delta_step=0, max_depth=6,\n",
      "              min_child_weight=1, missing=nan, monotone_constraints='()',\n",
      "              n_estimators=100, n_jobs=8, num_parallel_tree=1,\n",
      "              objective='multi:softprob', random_state=42, reg_alpha=0,\n",
      "              reg_lambda=1, scale_pos_weight=None, subsample=1,\n",
      "              tree_method='exact', validate_parameters=1, verbosity=None)\n",
      "Accuracy_train: 100.00%\n",
      "Accuracy_pred: 61.35%\n",
      "0.11133980751037598 seconds\n"
     ]
    }
   ],
   "source": [
    "model = XGBClassifier(random_state=42)\n",
    "# fit model on training data\n",
    "model.fit(X_train[['Total Participants', 'GDP', 'Population', 'GDP Per Capita','Year']],Y_train)\n",
    "print(model)\n",
    "\n",
    "start = time.time()\n",
    "#evaluating on training data\n",
    "XG_train = model.predict(X_train[['Total Participants', 'GDP', 'Population', 'GDP Per Capita','Year']])\n",
    "train_accuracy = accuracy_score(Y_train, XG_train)\n",
    "print(\"Accuracy_train: %.2f%%\" % (train_accuracy * 100.0))\n",
    "\n",
    "#evaluating on test data\n",
    "XG_pred = model.predict(X_test[['Total Participants', 'GDP', 'Population', 'GDP Per Capita','Year']])\n",
    "pred_accuracy = accuracy_score(Y_test, XG_pred)\n",
    "print(\"Accuracy_pred: %.2f%%\" % (pred_accuracy * 100.0))\n",
    "end = time.time()\n",
    "print(end - start, \"seconds\")\n",
    "XGB_time = end - start\n"
   ]
  },
  {
   "cell_type": "markdown",
   "metadata": {},
   "source": [
    "XGBoost hyperparameter tuning with GridSearchCV: Tune max_depth and min_child_weight with gamma value"
   ]
  },
  {
   "cell_type": "code",
   "execution_count": 75,
   "metadata": {},
   "outputs": [
    {
     "name": "stdout",
     "output_type": "stream",
     "text": [
      "[1960 1964 1968 1972 1976 1980 1984 1988 1992 1996 2000 2004 2008]\n",
      "accuracy of the test predictions using GRIDSEARCH CLF: 0.6257668711656442\n",
      "accuracy of the train predictions using GRIDSEARCH CLF: 0.6295793758480326\n",
      "0.01102900505065918 seconds\n"
     ]
    },
    {
     "data": {
      "text/plain": [
       "{'gamma': 1, 'learning_rate': 0.3, 'max_depth': 10, 'min_child_weight': 3}"
      ]
     },
     "execution_count": 75,
     "metadata": {},
     "output_type": "execute_result"
    }
   ],
   "source": [
    "year_list  = X_train.sort_values(by = [\"Year\"])\n",
    "year_list_1 = year_list['Year'].unique()\n",
    "#year_list = year_list.sort()\n",
    "print(year_list_1)\n",
    "\n",
    "\n",
    "\n",
    "XGBoost1 = XGBClassifier(use_label_encoder =False,eval_metric='merror',random_state=42)\n",
    "\n",
    "param_grid = {\n",
    "                'max_depth':range(2,20,2),\n",
    "                'min_child_weight':range(1,6,2),\n",
    "                'gamma': range(1,5,1),\n",
    "                'learning_rate':[0.1, 0.2, 0.3]\n",
    "             }\n",
    "\n",
    "tscv2=TimeSeriesSplit(n_splits=7,max_train_size=None).split(year_list)\n",
    "grid_xgb = GridSearchCV(XGBoost1, param_grid, cv=tscv2,scoring='f1_weighted', verbose = 0)\n",
    "grid_xgb.fit(X_train[['Total Participants', 'GDP', 'Population', 'GDP Per Capita','Year']],Y_train,)\n",
    "\n",
    "start = time.time()\n",
    "y_predictions_xgb = grid_xgb.predict(X_test[['Total Participants', 'GDP', 'Population', 'GDP Per Capita','Year']])\n",
    "y_train_xgb=grid_xgb.predict(X_train[['Total Participants','GDP','GDP Per Capita','Population','Year']])\n",
    "print(\"accuracy of the test predictions using GRIDSEARCH CLF:\", metrics.accuracy_score(Y_test, y_predictions_xgb))\n",
    "print(\"accuracy of the train predictions using GRIDSEARCH CLF:\", metrics.accuracy_score(Y_train, y_train_xgb))\n",
    "end = time.time()\n",
    "print(end - start, \"seconds\")\n",
    "XGB1_time = end - start\n",
    "#pprint(grid_xgb.get_params())\n",
    "grid_xgb.best_params_"
   ]
  },
  {
   "cell_type": "code",
   "execution_count": 76,
   "metadata": {},
   "outputs": [
    {
     "name": "stdout",
     "output_type": "stream",
     "text": [
      "accuracy of the test predictions using GRIDSEARCH CLF: 0.6257668711656442\n",
      "accuracy of the train predictions using GRIDSEARCH CLF: 0.6295793758480326\n",
      "0.011612176895141602 seconds\n"
     ]
    }
   ],
   "source": [
    "start = time.time()\n",
    "XG_pred_1 = grid_xgb.predict(X_test[['Total Participants', 'GDP', 'Population', 'GDP Per Capita','Year']])\n",
    "XG_train_1=grid_xgb.predict(X_train[['Total Participants','GDP','GDP Per Capita','Population','Year']])\n",
    "print(\"accuracy of the test predictions using GRIDSEARCH CLF:\", metrics.accuracy_score(Y_test, XG_pred_1))\n",
    "print(\"accuracy of the train predictions using GRIDSEARCH CLF:\", metrics.accuracy_score(Y_train, XG_train_1))\n",
    "end = time.time()\n",
    "print(end - start, \"seconds\")\n",
    "XGB1_time = end - start"
   ]
  },
  {
   "cell_type": "code",
   "execution_count": 77,
   "metadata": {},
   "outputs": [
    {
     "name": "stdout",
     "output_type": "stream",
     "text": [
      "=== Confusion Matrix ===\n",
      "[[32 14  1  0]\n",
      " [ 5 29  1  0]\n",
      " [ 6 21 13  7]\n",
      " [ 0  2  4 28]]\n",
      "\n",
      "\n"
     ]
    }
   ],
   "source": [
    "print(\"=== Confusion Matrix ===\")\n",
    "print(confusion_matrix(Y_test,y_predictions_xgb))\n",
    "print('\\n')"
   ]
  },
  {
   "cell_type": "code",
   "execution_count": 78,
   "metadata": {},
   "outputs": [
    {
     "name": "stdout",
     "output_type": "stream",
     "text": [
      "=== Confusion Matrix ===\n",
      "[[32 14  1  0]\n",
      " [ 5 29  1  0]\n",
      " [ 6 21 13  7]\n",
      " [ 0  2  4 28]]\n",
      "\n",
      "\n",
      "=== Classification Report ===\n",
      "              precision    recall  f1-score   support\n",
      "\n",
      "           0       0.74      0.68      0.71        47\n",
      "           1       0.44      0.83      0.57        35\n",
      "           2       0.68      0.28      0.39        47\n",
      "           3       0.80      0.82      0.81        34\n",
      "\n",
      "    accuracy                           0.63       163\n",
      "   macro avg       0.67      0.65      0.62       163\n",
      "weighted avg       0.67      0.63      0.61       163\n",
      "\n",
      "\n",
      "\n",
      "=== All Train AUC Scores ===\n",
      "62.95793758480326\n",
      "\n",
      "\n",
      "=== All Test AUC Scores ===\n",
      "62.57668711656442\n"
     ]
    }
   ],
   "source": [
    "print(\"=== Confusion Matrix ===\")\n",
    "print(confusion_matrix(Y_test,XG_pred_1))\n",
    "print('\\n')\n",
    "print(\"=== Classification Report ===\")\n",
    "print(classification_report(Y_test, XG_pred_1))\n",
    "print('\\n')\n",
    "print(\"=== All Train AUC Scores ===\")\n",
    "print(metrics.accuracy_score(Y_train,  XG_train_1)*100)\n",
    "print('\\n')\n",
    "print(\"=== All Test AUC Scores ===\")\n",
    "print(metrics.accuracy_score(Y_test, XG_pred_1)*100)"
   ]
  },
  {
   "cell_type": "code",
   "execution_count": 79,
   "metadata": {},
   "outputs": [
    {
     "data": {
      "text/plain": [
       "array([[32, 14,  1,  0],\n",
       "       [ 5, 29,  1,  0],\n",
       "       [ 6, 21, 13,  7],\n",
       "       [ 0,  2,  4, 28]])"
      ]
     },
     "execution_count": 79,
     "metadata": {},
     "output_type": "execute_result"
    }
   ],
   "source": [
    "CM2 = confusion_matrix(Y_test,XG_pred_1)\n",
    "CM2"
   ]
  },
  {
   "cell_type": "code",
   "execution_count": 80,
   "metadata": {},
   "outputs": [
    {
     "data": {
      "text/plain": [
       "array([32, 29, 13, 28])"
      ]
     },
     "execution_count": 80,
     "metadata": {},
     "output_type": "execute_result"
    }
   ],
   "source": [
    "TruePositive2 = np.diag(CM2)\n",
    "TruePositive2"
   ]
  },
  {
   "cell_type": "code",
   "execution_count": 81,
   "metadata": {},
   "outputs": [
    {
     "data": {
      "text/plain": [
       "2    47\n",
       "0    47\n",
       "1    35\n",
       "3    34\n",
       "Name: Medal category, dtype: int64"
      ]
     },
     "execution_count": 81,
     "metadata": {},
     "output_type": "execute_result"
    }
   ],
   "source": [
    "Y_test.value_counts()"
   ]
  },
  {
   "cell_type": "code",
   "execution_count": 82,
   "metadata": {},
   "outputs": [
    {
     "data": {
      "text/plain": [
       "[11, 37, 6, 7]"
      ]
     },
     "execution_count": 82,
     "metadata": {},
     "output_type": "execute_result"
    }
   ],
   "source": [
    "#The False Positives are the sum of the respective columns, minus the diagonal element:(Type 1 error)\n",
    "num_classes=4\n",
    "FalsePositive2 = []\n",
    "for i in range(num_classes):\n",
    "    FalsePositive2.append(sum(CM2[:,i]) - CM2[i,i])\n",
    "FalsePositive2"
   ]
  },
  {
   "cell_type": "markdown",
   "metadata": {},
   "source": [
    "total 0 = 47,  29 got rightly predicted as 0 and 18 got false predicted as 0\n",
    "total 1 = 35,  27 got rightly predicted as 1 and  8 got false predicted as 1\n",
    "total 2 = 47,  10 got rightly predicted as 2 and 37 got false predicted as 2\n",
    "total 3 = 34,  28 got rightly predicted as 3 and  6 got false predicted as 3"
   ]
  },
  {
   "cell_type": "code",
   "execution_count": 83,
   "metadata": {},
   "outputs": [
    {
     "data": {
      "text/plain": [
       "[15, 6, 34, 6]"
      ]
     },
     "execution_count": 83,
     "metadata": {},
     "output_type": "execute_result"
    }
   ],
   "source": [
    "# False Negatives are the sum of the respective rows, minus the diagonal element:\n",
    "FalseNegative2 = []\n",
    "for i in range(num_classes):\n",
    "    FalseNegative2.append(sum(CM2[i,:]) - CM2[i,i])\n",
    "FalseNegative2"
   ]
  },
  {
   "cell_type": "code",
   "execution_count": 84,
   "metadata": {},
   "outputs": [
    {
     "data": {
      "text/plain": [
       "[123, 123, 123, 123]"
      ]
     },
     "execution_count": 84,
     "metadata": {},
     "output_type": "execute_result"
    }
   ],
   "source": [
    "#rue Negative means, with respect to, say class 0: it means all the samples that have been correctly identified as not being 0.\n",
    "#So, essentially what we should do is remove the corresponding row & column from the confusion matrix, and then sum up all the remaining elements:\n",
    "TrueNegative2 = []\n",
    "for i in range(num_classes):\n",
    "    temp1 = np.delete(CM2, i, 0)   # delete ith row\n",
    "    temp1 = np.delete(temp1, i, 1)  # delete ith column\n",
    "    TrueNegative2.append(sum(sum(temp)))\n",
    "TrueNegative2"
   ]
  },
  {
   "cell_type": "code",
   "execution_count": 85,
   "metadata": {},
   "outputs": [
    {
     "name": "stdout",
     "output_type": "stream",
     "text": [
      "=== XGBOOST ===\n",
      "=== True Positive ===\n",
      "[32 29 13 28]\n",
      "=== False Positive ===\n",
      "[11, 37, 6, 7]\n",
      "=== False Negative ===\n",
      "[15, 6, 34, 6]\n",
      "=== True Negative ===\n",
      "[123, 123, 123, 123]\n"
     ]
    }
   ],
   "source": [
    "print(\"=== XGBOOST ===\")\n",
    "print(\"=== True Positive ===\")\n",
    "print(TruePositive2)\n",
    "print(\"=== False Positive ===\")\n",
    "print(FalsePositive2)\n",
    "print(\"=== False Negative ===\")\n",
    "print(FalseNegative2)\n",
    "print(\"=== True Negative ===\")\n",
    "print(TrueNegative2)"
   ]
  },
  {
   "cell_type": "markdown",
   "metadata": {},
   "source": [
    "total 0 = 47,  32 got rightly predicted as 0 and 11 got predicted as false positive (0) and 15 got predicted as false negative(14(1),1(2)) and 123 are True Negatives\n",
    "total 1 = 35,  29 got rightly predicted as 1 and 37 got predicted as false positive (1) and 6 got predicted as false negative(5(0),1(2)) and 123 are True Negatives\n",
    "total 2 = 47,  13 got rightly predicted as 2 and 6  got predicted as false positive (2) and 34 got predicted as false negative(6(0),21(1),7(3)) and 123 are True Negatives\n",
    "total 3 = 34,  28 got rightly predicted as 3 and 7  got predicted as false positive (3) and 6 got predicted as false negative(2(1),4(2)) and 123 are True Negatives"
   ]
  },
  {
   "cell_type": "code",
   "execution_count": 86,
   "metadata": {},
   "outputs": [
    {
     "name": "stdout",
     "output_type": "stream",
     "text": [
      "=== RF Classification Report ===\n",
      "              precision    recall  f1-score   support\n",
      "\n",
      "           0       0.69      0.62      0.65        47\n",
      "           1       0.38      0.77      0.50        35\n",
      "           2       0.67      0.21      0.32        47\n",
      "           3       0.82      0.82      0.82        34\n",
      "\n",
      "    accuracy                           0.58       163\n",
      "   macro avg       0.64      0.61      0.58       163\n",
      "weighted avg       0.64      0.58      0.56       163\n",
      "\n",
      "\n",
      "\n",
      "=== XGboost Classification Report ===\n",
      "              precision    recall  f1-score   support\n",
      "\n",
      "           0       0.74      0.68      0.71        47\n",
      "           1       0.44      0.83      0.57        35\n",
      "           2       0.68      0.28      0.39        47\n",
      "           3       0.80      0.82      0.81        34\n",
      "\n",
      "    accuracy                           0.63       163\n",
      "   macro avg       0.67      0.65      0.62       163\n",
      "weighted avg       0.67      0.63      0.61       163\n",
      "\n"
     ]
    }
   ],
   "source": [
    "print(\"=== RF Classification Report ===\")\n",
    "print(classification_report(Y_test, grid_clf_pred))\n",
    "print('\\n')\n",
    "print(\"=== XGboost Classification Report ===\")\n",
    "print(classification_report(Y_test, XG_pred_1))"
   ]
  },
  {
   "cell_type": "code",
   "execution_count": 87,
   "metadata": {},
   "outputs": [
    {
     "name": "stdout",
     "output_type": "stream",
     "text": [
      "Execution_time_RF: 0.05\n",
      "Execution_time_XG: 0.01\n"
     ]
    }
   ],
   "source": [
    "print( \"Execution_time_RF: %0.2f\" % RF_time)\n",
    "print( \"Execution_time_XG: %0.2f\" % XGB1_time)"
   ]
  },
  {
   "cell_type": "code",
   "execution_count": 88,
   "metadata": {},
   "outputs": [
    {
     "name": "stdout",
     "output_type": "stream",
     "text": [
      "MCC_RF: 0.47\n",
      "MCC_XG: 0.53\n"
     ]
    }
   ],
   "source": [
    "#calculating Matthews correlation coefficient\n",
    "\n",
    "print( \"MCC_RF: %0.2f\" % matthews_corrcoef(Y_test,grid_clf_pred))\n",
    "print( \"MCC_XG: %0.2f\" % matthews_corrcoef(Y_test,XG_pred_1))"
   ]
  },
  {
   "cell_type": "code",
   "execution_count": 89,
   "metadata": {},
   "outputs": [
    {
     "name": "stdout",
     "output_type": "stream",
     "text": [
      "Hamming_Loss_RF: 0.42\n",
      "Hamming_loss_XGB: 0.37\n"
     ]
    }
   ],
   "source": [
    "#calculating Hamming Loss\n",
    "print( \"Hamming_Loss_RF: %0.2f\" % sklearn.metrics.hamming_loss(Y_test,grid_clf_pred))\n",
    "print( \"Hamming_loss_XGB: %0.2f\" % sklearn.metrics.hamming_loss(Y_test,XG_pred_1))"
   ]
  },
  {
   "cell_type": "code",
   "execution_count": 90,
   "metadata": {},
   "outputs": [
    {
     "name": "stdout",
     "output_type": "stream",
     "text": [
      "    Models  Accuracy_score  F1_Score_micro  F1_Score_macro  Hamming_Loss  \\\n",
      "0       RF        0.576687        0.576687        0.575617      0.423313   \n",
      "1  XGBoost        0.625767        0.625767        0.622726      0.374233   \n",
      "\n",
      "   Execution_time  \n",
      "0        0.052800  \n",
      "1        0.011612  \n"
     ]
    }
   ],
   "source": [
    "data = [['RF', accuracy_score(Y_test, grid_clf_pred),metrics.f1_score(Y_test, grid_clf_pred,average ='micro'),metrics.f1_score(Y_test, grid_clf_pred,average ='macro'),sklearn.metrics.hamming_loss(Y_test,grid_clf_pred),RF_time],['XGBoost',metrics.accuracy_score(Y_test,XG_pred_1),metrics.f1_score(Y_test, XG_pred_1, average ='micro'), metrics.f1_score(Y_test, XG_pred_1, average='macro'),sklearn.metrics.hamming_loss(Y_test,XG_pred_1),XGB1_time]]\n",
    "df = pd.DataFrame(data,columns = ['Models','Accuracy_score','F1_Score_micro','F1_Score_macro','Hamming_Loss','Execution_time'])\n",
    "print(df)"
   ]
  },
  {
   "cell_type": "code",
   "execution_count": 91,
   "metadata": {},
   "outputs": [
    {
     "name": "stdout",
     "output_type": "stream",
     "text": [
      "Statistics=460.000, p=0.456\n",
      "Same distribution (fail to reject H0)\n"
     ]
    }
   ],
   "source": [
    "from scipy.stats import wilcoxon\n",
    "# compare samples\n",
    "stat, p = wilcoxon(grid_clf_pred, XG_pred_1)\n",
    "print('Statistics=%.3f, p=%.3f' % (stat, p))\n",
    "# interpret\n",
    "alpha = 0.05\n",
    "if p > alpha:\n",
    "    print('Same distribution (fail to reject H0)')\n",
    "else:\n",
    "    print('Different distribution (reject H0)')"
   ]
  },
  {
   "cell_type": "markdown",
   "metadata": {},
   "source": [
    "CONCLUSION: Though Xgboost classifier outperforms Random Forest, we don’t find any statistical difference between the two results and the difference between the two are expected to occur by chance."
   ]
  }
 ],
 "metadata": {
  "kernelspec": {
   "display_name": "Python 3",
   "language": "python",
   "name": "python3"
  },
  "language_info": {
   "codemirror_mode": {
    "name": "ipython",
    "version": 3
   },
   "file_extension": ".py",
   "mimetype": "text/x-python",
   "name": "python",
   "nbconvert_exporter": "python",
   "pygments_lexer": "ipython3",
   "version": "3.7.6"
  }
 },
 "nbformat": 4,
 "nbformat_minor": 4
}
