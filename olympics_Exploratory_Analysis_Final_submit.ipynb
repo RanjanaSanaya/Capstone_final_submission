{
 "cells": [
  {
   "cell_type": "markdown",
   "metadata": {},
   "source": [
    "THIS NOTEBOOK IS JUST FOR DATA EXPLORATION PURPOSES\n",
    "1) TO FIND IF WOMEN PARTICIPATION HAS SIGNIFICANTLY INCREASED WITH TIME, \n",
    "2) TO ANALYSE THE PERFORMANCE OF COUNTRIES,\n",
    "3) TO FIND OUT THE BEST ATHELETE BASED ON MEDALS ACHIEVED"
   ]
  },
  {
   "cell_type": "code",
   "execution_count": 1,
   "metadata": {},
   "outputs": [],
   "source": [
    "import pandas as pd\n",
    "import seaborn as sns\n",
    "import numpy as np\n",
    "import matplotlib.pyplot as plt\n",
    "%matplotlib inline"
   ]
  },
  {
   "cell_type": "code",
   "execution_count": 2,
   "metadata": {},
   "outputs": [
    {
     "name": "stdout",
     "output_type": "stream",
     "text": [
      "<class 'pandas.core.frame.DataFrame'>\n",
      "RangeIndex: 271116 entries, 0 to 271115\n",
      "Data columns (total 15 columns):\n",
      " #   Column  Non-Null Count   Dtype  \n",
      "---  ------  --------------   -----  \n",
      " 0   ID      271116 non-null  int64  \n",
      " 1   Name    271116 non-null  object \n",
      " 2   Sex     271116 non-null  object \n",
      " 3   Age     261642 non-null  float64\n",
      " 4   Height  210945 non-null  float64\n",
      " 5   Weight  208241 non-null  float64\n",
      " 6   Team    271116 non-null  object \n",
      " 7   NOC     271116 non-null  object \n",
      " 8   Games   271116 non-null  object \n",
      " 9   Year    271116 non-null  int64  \n",
      " 10  Season  271116 non-null  object \n",
      " 11  City    271116 non-null  object \n",
      " 12  Sport   271116 non-null  object \n",
      " 13  Event   271116 non-null  object \n",
      " 14  Medal   39783 non-null   object \n",
      "dtypes: float64(3), int64(2), object(10)\n",
      "memory usage: 31.0+ MB\n"
     ]
    }
   ],
   "source": [
    "events=pd.read_csv(\"/home/jovyan/athlete_events.csv\")\n",
    "events.info()\n",
    "## we do find variables like Age, Height, Weight have missing values "
   ]
  },
  {
   "cell_type": "code",
   "execution_count": 3,
   "metadata": {},
   "outputs": [
    {
     "name": "stdout",
     "output_type": "stream",
     "text": [
      "<class 'pandas.core.frame.DataFrame'>\n",
      "RangeIndex: 230 entries, 0 to 229\n",
      "Data columns (total 3 columns):\n",
      " #   Column  Non-Null Count  Dtype \n",
      "---  ------  --------------  ----- \n",
      " 0   NOC     230 non-null    object\n",
      " 1   region  227 non-null    object\n",
      " 2   notes   21 non-null     object\n",
      "dtypes: object(3)\n",
      "memory usage: 5.5+ KB\n"
     ]
    }
   ],
   "source": [
    "# lets read the other dataset available\n",
    "regions=pd.read_csv(\"/home/jovyan/noc_regions.csv\")\n",
    "regions.info()\n",
    "#presence of missing values is observed in variable Region"
   ]
  },
  {
   "cell_type": "code",
   "execution_count": 4,
   "metadata": {},
   "outputs": [
    {
     "data": {
      "text/plain": [
       "(271116, 17)"
      ]
     },
     "execution_count": 4,
     "metadata": {},
     "output_type": "execute_result"
    }
   ],
   "source": [
    "# merging both the dataset\n",
    "olympics = pd.merge(events, regions, on=\"NOC\", how=\"left\")\n",
    "olympics.shape"
   ]
  },
  {
   "cell_type": "code",
   "execution_count": 5,
   "metadata": {},
   "outputs": [
    {
     "name": "stdout",
     "output_type": "stream",
     "text": [
      "<class 'pandas.core.frame.DataFrame'>\n",
      "Int64Index: 271116 entries, 0 to 271115\n",
      "Data columns (total 17 columns):\n",
      " #   Column  Non-Null Count   Dtype  \n",
      "---  ------  --------------   -----  \n",
      " 0   ID      271116 non-null  int64  \n",
      " 1   Name    271116 non-null  object \n",
      " 2   Sex     271116 non-null  object \n",
      " 3   Age     261642 non-null  float64\n",
      " 4   Height  210945 non-null  float64\n",
      " 5   Weight  208241 non-null  float64\n",
      " 6   Team    271116 non-null  object \n",
      " 7   NOC     271116 non-null  object \n",
      " 8   Games   271116 non-null  object \n",
      " 9   Year    271116 non-null  int64  \n",
      " 10  Season  271116 non-null  object \n",
      " 11  City    271116 non-null  object \n",
      " 12  Sport   271116 non-null  object \n",
      " 13  Event   271116 non-null  object \n",
      " 14  Medal   39783 non-null   object \n",
      " 15  region  270746 non-null  object \n",
      " 16  notes   5039 non-null    object \n",
      "dtypes: float64(3), int64(2), object(12)\n",
      "memory usage: 37.2+ MB\n"
     ]
    }
   ],
   "source": [
    "olympics.info()"
   ]
  },
  {
   "cell_type": "markdown",
   "metadata": {},
   "source": [
    "Filtering to only contain rows that correspond to Summer Olympics and also excluding year 1906 Intercaleted Games from the data. IN this game medals were distributed but are no longer recognized by the International Olympic Committee."
   ]
  },
  {
   "cell_type": "code",
   "execution_count": 6,
   "metadata": {},
   "outputs": [],
   "source": [
    "Summer_olympics=olympics[(olympics.Season=='Summer') & (olympics.Year!=1906)]"
   ]
  },
  {
   "cell_type": "code",
   "execution_count": 7,
   "metadata": {},
   "outputs": [
    {
     "data": {
      "text/plain": [
       "(220819, 17)"
      ]
     },
     "execution_count": 7,
     "metadata": {},
     "output_type": "execute_result"
    }
   ],
   "source": [
    "Summer_olympics.shape"
   ]
  },
  {
   "cell_type": "code",
   "execution_count": 8,
   "metadata": {},
   "outputs": [
    {
     "data": {
      "text/html": [
       "<div>\n",
       "<style scoped>\n",
       "    .dataframe tbody tr th:only-of-type {\n",
       "        vertical-align: middle;\n",
       "    }\n",
       "\n",
       "    .dataframe tbody tr th {\n",
       "        vertical-align: top;\n",
       "    }\n",
       "\n",
       "    .dataframe thead th {\n",
       "        text-align: right;\n",
       "    }\n",
       "</style>\n",
       "<table border=\"1\" class=\"dataframe\">\n",
       "  <thead>\n",
       "    <tr style=\"text-align: right;\">\n",
       "      <th></th>\n",
       "      <th>Age</th>\n",
       "      <th>Height</th>\n",
       "      <th>Weight</th>\n",
       "      <th>Year</th>\n",
       "    </tr>\n",
       "  </thead>\n",
       "  <tbody>\n",
       "    <tr>\n",
       "      <th>count</th>\n",
       "      <td>212373.000000</td>\n",
       "      <td>170438.000000</td>\n",
       "      <td>168493.000000</td>\n",
       "      <td>220819.000000</td>\n",
       "    </tr>\n",
       "    <tr>\n",
       "      <th>mean</th>\n",
       "      <td>25.667288</td>\n",
       "      <td>175.511494</td>\n",
       "      <td>70.682699</td>\n",
       "      <td>1976.868947</td>\n",
       "    </tr>\n",
       "    <tr>\n",
       "      <th>std</th>\n",
       "      <td>6.692954</td>\n",
       "      <td>10.918801</td>\n",
       "      <td>14.805977</td>\n",
       "      <td>30.427978</td>\n",
       "    </tr>\n",
       "    <tr>\n",
       "      <th>min</th>\n",
       "      <td>10.000000</td>\n",
       "      <td>127.000000</td>\n",
       "      <td>25.000000</td>\n",
       "      <td>1896.000000</td>\n",
       "    </tr>\n",
       "    <tr>\n",
       "      <th>25%</th>\n",
       "      <td>21.000000</td>\n",
       "      <td>168.000000</td>\n",
       "      <td>60.000000</td>\n",
       "      <td>1960.000000</td>\n",
       "    </tr>\n",
       "    <tr>\n",
       "      <th>50%</th>\n",
       "      <td>24.000000</td>\n",
       "      <td>175.000000</td>\n",
       "      <td>70.000000</td>\n",
       "      <td>1984.000000</td>\n",
       "    </tr>\n",
       "    <tr>\n",
       "      <th>75%</th>\n",
       "      <td>28.000000</td>\n",
       "      <td>183.000000</td>\n",
       "      <td>79.000000</td>\n",
       "      <td>2000.000000</td>\n",
       "    </tr>\n",
       "    <tr>\n",
       "      <th>max</th>\n",
       "      <td>97.000000</td>\n",
       "      <td>226.000000</td>\n",
       "      <td>214.000000</td>\n",
       "      <td>2016.000000</td>\n",
       "    </tr>\n",
       "  </tbody>\n",
       "</table>\n",
       "</div>"
      ],
      "text/plain": [
       "                 Age         Height         Weight           Year\n",
       "count  212373.000000  170438.000000  168493.000000  220819.000000\n",
       "mean       25.667288     175.511494      70.682699    1976.868947\n",
       "std         6.692954      10.918801      14.805977      30.427978\n",
       "min        10.000000     127.000000      25.000000    1896.000000\n",
       "25%        21.000000     168.000000      60.000000    1960.000000\n",
       "50%        24.000000     175.000000      70.000000    1984.000000\n",
       "75%        28.000000     183.000000      79.000000    2000.000000\n",
       "max        97.000000     226.000000     214.000000    2016.000000"
      ]
     },
     "execution_count": 8,
     "metadata": {},
     "output_type": "execute_result"
    }
   ],
   "source": [
    "# Descriptive Statistics\n",
    "Summer_olympics.describe()\n",
    "Summer_olympics.iloc[:,1:].describe()"
   ]
  },
  {
   "cell_type": "markdown",
   "metadata": {},
   "source": [
    "Lets Split the data right away before any exploration is done"
   ]
  },
  {
   "cell_type": "code",
   "execution_count": 9,
   "metadata": {},
   "outputs": [],
   "source": [
    "\n",
    "#dropping columns Id,Games and notes\n",
    "Summer_olympics =Summer_olympics.drop(Summer_olympics.columns[[0,8, 16]], axis=1)\n"
   ]
  },
  {
   "cell_type": "code",
   "execution_count": 10,
   "metadata": {},
   "outputs": [
    {
     "name": "stdout",
     "output_type": "stream",
     "text": [
      "<class 'pandas.core.frame.DataFrame'>\n",
      "Int64Index: 220819 entries, 0 to 271110\n",
      "Data columns (total 14 columns):\n",
      " #   Column  Non-Null Count   Dtype  \n",
      "---  ------  --------------   -----  \n",
      " 0   Name    220819 non-null  object \n",
      " 1   Sex     220819 non-null  object \n",
      " 2   Age     212373 non-null  float64\n",
      " 3   Height  170438 non-null  float64\n",
      " 4   Weight  168493 non-null  float64\n",
      " 5   Team    220819 non-null  object \n",
      " 6   NOC     220819 non-null  object \n",
      " 7   Year    220819 non-null  int64  \n",
      " 8   Season  220819 non-null  object \n",
      " 9   City    220819 non-null  object \n",
      " 10  Sport   220819 non-null  object \n",
      " 11  Event   220819 non-null  object \n",
      " 12  Medal   33630 non-null   object \n",
      " 13  region  220819 non-null  object \n",
      "dtypes: float64(3), int64(1), object(10)\n",
      "memory usage: 25.3+ MB\n"
     ]
    }
   ],
   "source": [
    "## filling the NaN values of column 'Region' by taking the values from 'Team' \n",
    "Summer_olympics[\"region\"].fillna(Summer_olympics[\"Team\"], inplace=True)\n",
    "Summer_olympics.info()"
   ]
  },
  {
   "cell_type": "code",
   "execution_count": 11,
   "metadata": {},
   "outputs": [
    {
     "name": "stdout",
     "output_type": "stream",
     "text": [
      "Age       1.775739\n",
      "Height    0.019729\n",
      "Weight    0.847182\n",
      "dtype: float64\n"
     ]
    },
    {
     "data": {
      "text/html": [
       "<div>\n",
       "<style scoped>\n",
       "    .dataframe tbody tr th:only-of-type {\n",
       "        vertical-align: middle;\n",
       "    }\n",
       "\n",
       "    .dataframe tbody tr th {\n",
       "        vertical-align: top;\n",
       "    }\n",
       "\n",
       "    .dataframe thead th {\n",
       "        text-align: right;\n",
       "    }\n",
       "</style>\n",
       "<table border=\"1\" class=\"dataframe\">\n",
       "  <thead>\n",
       "    <tr style=\"text-align: right;\">\n",
       "      <th></th>\n",
       "      <th>Age</th>\n",
       "      <th>Height</th>\n",
       "      <th>Weight</th>\n",
       "    </tr>\n",
       "  </thead>\n",
       "  <tbody>\n",
       "    <tr>\n",
       "      <th>count</th>\n",
       "      <td>212373.000000</td>\n",
       "      <td>170438.000000</td>\n",
       "      <td>168493.000000</td>\n",
       "    </tr>\n",
       "    <tr>\n",
       "      <th>mean</th>\n",
       "      <td>25.667288</td>\n",
       "      <td>175.511494</td>\n",
       "      <td>70.682699</td>\n",
       "    </tr>\n",
       "    <tr>\n",
       "      <th>std</th>\n",
       "      <td>6.692954</td>\n",
       "      <td>10.918801</td>\n",
       "      <td>14.805977</td>\n",
       "    </tr>\n",
       "    <tr>\n",
       "      <th>min</th>\n",
       "      <td>10.000000</td>\n",
       "      <td>127.000000</td>\n",
       "      <td>25.000000</td>\n",
       "    </tr>\n",
       "    <tr>\n",
       "      <th>25%</th>\n",
       "      <td>21.000000</td>\n",
       "      <td>168.000000</td>\n",
       "      <td>60.000000</td>\n",
       "    </tr>\n",
       "    <tr>\n",
       "      <th>50%</th>\n",
       "      <td>24.000000</td>\n",
       "      <td>175.000000</td>\n",
       "      <td>70.000000</td>\n",
       "    </tr>\n",
       "    <tr>\n",
       "      <th>75%</th>\n",
       "      <td>28.000000</td>\n",
       "      <td>183.000000</td>\n",
       "      <td>79.000000</td>\n",
       "    </tr>\n",
       "    <tr>\n",
       "      <th>max</th>\n",
       "      <td>97.000000</td>\n",
       "      <td>226.000000</td>\n",
       "      <td>214.000000</td>\n",
       "    </tr>\n",
       "  </tbody>\n",
       "</table>\n",
       "</div>"
      ],
      "text/plain": [
       "                 Age         Height         Weight\n",
       "count  212373.000000  170438.000000  168493.000000\n",
       "mean       25.667288     175.511494      70.682699\n",
       "std         6.692954      10.918801      14.805977\n",
       "min        10.000000     127.000000      25.000000\n",
       "25%        21.000000     168.000000      60.000000\n",
       "50%        24.000000     175.000000      70.000000\n",
       "75%        28.000000     183.000000      79.000000\n",
       "max        97.000000     226.000000     214.000000"
      ]
     },
     "execution_count": 11,
     "metadata": {},
     "output_type": "execute_result"
    }
   ],
   "source": [
    "## lets identify if there is any outlier before imputing the missing values for Age,Height and Weight.\n",
    "## Identifying the outliers with skewness if any\n",
    "print(Summer_olympics[['Age','Height','Weight']].skew())\n",
    "Summer_olympics[['Age','Height','Weight']].describe()"
   ]
  },
  {
   "cell_type": "code",
   "execution_count": 12,
   "metadata": {},
   "outputs": [
    {
     "data": {
      "image/png": "[encoded data removed]",
      "text/plain": [
       "<Figure size 432x288 with 1 Axes>"
      ]
     },
     "metadata": {
      "needs_background": "light"
     },
     "output_type": "display_data"
    }
   ],
   "source": [
    "#identifying the outlier using Box Plot.\n",
    "import seaborn as sns\n",
    "ax = sns.boxplot(data=Summer_olympics.iloc[:,1:6],orient=\"v\", palette=\"Set2\")\n",
    "#It can be observed in the box plot of Height that there are outliers. But they can be genuine outliers as the height of the basketball players can be extraordinarily high whereas the height of gymnasts can be very low.\n",
    "#It can be observed in the box plot of weight that there are outliers. But they can be genuine outliers as the weight of the weightlifters can be extraordinarily high whereas the weight of gymnasts can be very low.\n",
    "#Hence, even if the outliers are detected, they cannot be replaced with mean or deleted as it might then defeat the whole purpose of using data of Olympians. "
   ]
  },
  {
   "cell_type": "markdown",
   "metadata": {},
   "source": [
    "Imputing the missing values for Age,height and Weight using Median as the data is highly skewed. cite??"
   ]
  },
  {
   "cell_type": "code",
   "execution_count": 13,
   "metadata": {},
   "outputs": [],
   "source": [
    "#imputing the missing values for continuous variables\n",
    "#looking at the box plot, we understnad that the variables are skewed, so will be using median to impute the missing values.\n",
    "import numpy as np\n",
    "imp_col = ['Age','Height','Weight']\n",
    "for col in imp_col:\n",
    "    Summer_olympics[col] = Summer_olympics[col].fillna((Summer_olympics[col].median()))"
   ]
  },
  {
   "cell_type": "markdown",
   "metadata": {},
   "source": [
    "EXPLORATORY ANALYSIS BEGINS"
   ]
  },
  {
   "cell_type": "code",
   "execution_count": 14,
   "metadata": {},
   "outputs": [
    {
     "data": {
      "text/plain": [
       "<matplotlib.axes._subplots.AxesSubplot at 0x7f2af2ec2f10>"
      ]
     },
     "execution_count": 14,
     "metadata": {},
     "output_type": "execute_result"
    },
    {
     "data": {
      "image/png": "[encoded data removed]",
      "text/plain": [
       "<Figure size 432x288 with 1 Axes>"
      ]
     },
     "metadata": {
      "needs_background": "light"
     },
     "output_type": "display_data"
    }
   ],
   "source": [
    "##which country is at Top in medal Counts\n",
    "medal_count=Summer_olympics.groupby('region').count()\n",
    "df = pd.DataFrame(medal_count, columns=['Medal']) \n",
    "Sort = df.sort_values(['Medal'], ascending=False)\n",
    "top_count10 =Sort.head(10)\n",
    "top_count10.plot(kind='bar')\n",
    "\n",
    "#Result = US is at top"
   ]
  },
  {
   "cell_type": "markdown",
   "metadata": {},
   "source": [
    "OBSERVATION: US HOLDS THE MOST NO OF MEDALS FOLLOWED BY RUSSIA AND THEN GERMANY SINCE THE BEGINNING"
   ]
  },
  {
   "cell_type": "code",
   "execution_count": 15,
   "metadata": {},
   "outputs": [
    {
     "data": {
      "text/plain": [
       "<matplotlib.axes._subplots.AxesSubplot at 0x7f2af2e05b10>"
      ]
     },
     "execution_count": 15,
     "metadata": {},
     "output_type": "execute_result"
    },
    {
     "data": {
      "image/png": "[encoded data removed]",
      "text/plain": [
       "<Figure size 432x288 with 1 Axes>"
      ]
     },
     "metadata": {
      "needs_background": "light"
     },
     "output_type": "display_data"
    }
   ],
   "source": [
    "## participation by country\n",
    "participants_count=Summer_olympics.groupby('NOC').count()\n",
    "df1 = pd.DataFrame(participants_count, columns=['Name']) \n",
    "Sort_p = df1.sort_values(['Name'], ascending=False)\n",
    "top_count =Sort_p.head(10)\n",
    "top_count\n",
    "top_count.plot(kind='bar')\n"
   ]
  },
  {
   "cell_type": "markdown",
   "metadata": {},
   "source": [
    "OBSERVATION: more participation = more medal win. USA has maximum participation with max no of medal wins."
   ]
  },
  {
   "cell_type": "code",
   "execution_count": 16,
   "metadata": {},
   "outputs": [
    {
     "data": {
      "text/html": [
       "<div>\n",
       "<style scoped>\n",
       "    .dataframe tbody tr th:only-of-type {\n",
       "        vertical-align: middle;\n",
       "    }\n",
       "\n",
       "    .dataframe tbody tr th {\n",
       "        vertical-align: top;\n",
       "    }\n",
       "\n",
       "    .dataframe thead th {\n",
       "        text-align: right;\n",
       "    }\n",
       "</style>\n",
       "<table border=\"1\" class=\"dataframe\">\n",
       "  <thead>\n",
       "    <tr style=\"text-align: right;\">\n",
       "      <th>Medal</th>\n",
       "      <th>Year</th>\n",
       "      <th>Name</th>\n",
       "      <th>Bronze</th>\n",
       "      <th>Gold</th>\n",
       "      <th>Silver</th>\n",
       "      <th>Total</th>\n",
       "    </tr>\n",
       "  </thead>\n",
       "  <tbody>\n",
       "    <tr>\n",
       "      <th>20950</th>\n",
       "      <td>2000</td>\n",
       "      <td>Aleksey Yuryevich Nemov</td>\n",
       "      <td>3</td>\n",
       "      <td>2</td>\n",
       "      <td>1</td>\n",
       "      <td>6</td>\n",
       "    </tr>\n",
       "    <tr>\n",
       "      <th>23938</th>\n",
       "      <td>2004</td>\n",
       "      <td>Michael Fred Phelps, II</td>\n",
       "      <td>2</td>\n",
       "      <td>6</td>\n",
       "      <td>0</td>\n",
       "      <td>8</td>\n",
       "    </tr>\n",
       "    <tr>\n",
       "      <th>24843</th>\n",
       "      <td>2008</td>\n",
       "      <td>Michael Fred Phelps, II</td>\n",
       "      <td>0</td>\n",
       "      <td>8</td>\n",
       "      <td>0</td>\n",
       "      <td>8</td>\n",
       "    </tr>\n",
       "    <tr>\n",
       "      <th>26466</th>\n",
       "      <td>2012</td>\n",
       "      <td>Michael Fred Phelps, II</td>\n",
       "      <td>0</td>\n",
       "      <td>4</td>\n",
       "      <td>2</td>\n",
       "      <td>6</td>\n",
       "    </tr>\n",
       "    <tr>\n",
       "      <th>28150</th>\n",
       "      <td>2016</td>\n",
       "      <td>Michael Fred Phelps, II</td>\n",
       "      <td>0</td>\n",
       "      <td>5</td>\n",
       "      <td>1</td>\n",
       "      <td>6</td>\n",
       "    </tr>\n",
       "  </tbody>\n",
       "</table>\n",
       "</div>"
      ],
      "text/plain": [
       "Medal  Year                     Name  Bronze  Gold  Silver  Total\n",
       "20950  2000  Aleksey Yuryevich Nemov       3     2       1      6\n",
       "23938  2004  Michael Fred Phelps, II       2     6       0      8\n",
       "24843  2008  Michael Fred Phelps, II       0     8       0      8\n",
       "26466  2012  Michael Fred Phelps, II       0     4       2      6\n",
       "28150  2016  Michael Fred Phelps, II       0     5       1      6"
      ]
     },
     "execution_count": 16,
     "metadata": {},
     "output_type": "execute_result"
    }
   ],
   "source": [
    "#top 10 players with Most number of Medals throughout\n",
    "medal = Summer_olympics.groupby(['Year','Name','Medal']).size().unstack('Medal',fill_value=0)\n",
    "medal['Total'] = medal['Gold'] +medal['Silver'] +medal['Bronze'] \n",
    "medal.reset_index(inplace=True)\n",
    "topplayers=[group.sort_values('Total',ascending=False)[:1] for year,group in medal.groupby('Year')]\n",
    "topplayers\n",
    "top=pd.DataFrame()\n",
    "for i in topplayers:\n",
    "    top = top.append(i)\n",
    "top.tail()\n"
   ]
  },
  {
   "cell_type": "markdown",
   "metadata": {},
   "source": [
    "OBSERVATION: Michael Fred Phelps, II has been the most successful athlete since 2004."
   ]
  },
  {
   "cell_type": "markdown",
   "metadata": {},
   "source": [
    "NOW LETS SEE THE GROWTH OF FEMALE PARTICIPATION OVER THE YEARS"
   ]
  },
  {
   "cell_type": "code",
   "execution_count": 17,
   "metadata": {},
   "outputs": [
    {
     "data": {
      "text/plain": [
       "Year  Sex\n",
       "1896  M       380\n",
       "1900  M      1903\n",
       "      F        33\n",
       "1904  M      1285\n",
       "      F        16\n",
       "1908  M      3054\n",
       "      F        47\n",
       "1912  M      3953\n",
       "      F        87\n",
       "1920  M      4158\n",
       "      F       134\n",
       "1924  M      4989\n",
       "      F       244\n",
       "1928  M      4588\n",
       "      F       404\n",
       "1932  M      2622\n",
       "      F       347\n",
       "1936  M      6038\n",
       "      F       468\n",
       "1948  M      5777\n",
       "      F       628\n",
       "1952  M      6773\n",
       "      F      1497\n",
       "1956  M      4234\n",
       "      F       893\n",
       "1960  M      6684\n",
       "      F      1435\n",
       "1964  M      6354\n",
       "      F      1348\n",
       "1968  M      6811\n",
       "      F      1777\n",
       "1972  M      8111\n",
       "      F      2193\n",
       "1976  M      6469\n",
       "      F      2172\n",
       "1980  M      5435\n",
       "      F      1756\n",
       "1984  M      7007\n",
       "      F      2447\n",
       "1988  M      8494\n",
       "      F      3543\n",
       "1992  M      8853\n",
       "      F      4124\n",
       "1996  M      8772\n",
       "      F      5008\n",
       "2000  M      8390\n",
       "      F      5431\n",
       "2004  M      7897\n",
       "      F      5546\n",
       "2008  M      7786\n",
       "      F      5816\n",
       "2012  M      7105\n",
       "      F      5815\n",
       "2016  M      7465\n",
       "      F      6223\n",
       "Name: Sex, dtype: int64"
      ]
     },
     "execution_count": 17,
     "metadata": {},
     "output_type": "execute_result"
    }
   ],
   "source": [
    "#female participation over the years\n",
    "groupedGender = Summer_olympics.groupby('Year')['Sex'].value_counts()\n",
    "groupedGender"
   ]
  },
  {
   "cell_type": "code",
   "execution_count": 18,
   "metadata": {},
   "outputs": [
    {
     "data": {
      "image/png": "[encoded data removed]",
      "text/plain": [
       "<Figure size 1440x720 with 1 Axes>"
      ]
     },
     "metadata": {
      "needs_background": "light"
     },
     "output_type": "display_data"
    }
   ],
   "source": [
    "#Lets Plot it\n",
    "groupedGender = Summer_olympics.groupby('Year')['Sex'].value_counts()\n",
    "plt.subplots(figsize=(20, 10))\n",
    "groupedGender.loc[:,'M'].plot(marker = 'o',label = 'Male')\n",
    "groupedGender.loc[:,'F'].plot(marker = 'o',label = 'Female')\n",
    "plt.ylabel='Gender Count'\n",
    "plt.legend()\n",
    "plt.title('Increasing Women participation since 1896', fontsize=\"18\")\n",
    "plt.show()"
   ]
  },
  {
   "cell_type": "markdown",
   "metadata": {},
   "source": [
    "OBSERVATION: Female participations has been increasing gradually and closing the gap with men. It has increased from 0 participation in 1896 to 6223 in 2016 compared to 7465 male participation. "
   ]
  },
  {
   "cell_type": "code",
   "execution_count": 19,
   "metadata": {},
   "outputs": [
    {
     "data": {
      "text/html": [
       "<div>\n",
       "<style scoped>\n",
       "    .dataframe tbody tr th:only-of-type {\n",
       "        vertical-align: middle;\n",
       "    }\n",
       "\n",
       "    .dataframe tbody tr th {\n",
       "        vertical-align: top;\n",
       "    }\n",
       "\n",
       "    .dataframe thead th {\n",
       "        text-align: right;\n",
       "    }\n",
       "</style>\n",
       "<table border=\"1\" class=\"dataframe\">\n",
       "  <thead>\n",
       "    <tr style=\"text-align: right;\">\n",
       "      <th>Medal</th>\n",
       "      <th>Year</th>\n",
       "      <th>Bronze</th>\n",
       "      <th>Gold</th>\n",
       "      <th>Silver</th>\n",
       "      <th>Total</th>\n",
       "    </tr>\n",
       "  </thead>\n",
       "  <tbody>\n",
       "    <tr>\n",
       "      <th>0</th>\n",
       "      <td>1900</td>\n",
       "      <td>5</td>\n",
       "      <td>4</td>\n",
       "      <td>4</td>\n",
       "      <td>13</td>\n",
       "    </tr>\n",
       "    <tr>\n",
       "      <th>1</th>\n",
       "      <td>1904</td>\n",
       "      <td>2</td>\n",
       "      <td>6</td>\n",
       "      <td>2</td>\n",
       "      <td>10</td>\n",
       "    </tr>\n",
       "    <tr>\n",
       "      <th>2</th>\n",
       "      <td>1908</td>\n",
       "      <td>5</td>\n",
       "      <td>6</td>\n",
       "      <td>5</td>\n",
       "      <td>16</td>\n",
       "    </tr>\n",
       "    <tr>\n",
       "      <th>3</th>\n",
       "      <td>1912</td>\n",
       "      <td>10</td>\n",
       "      <td>10</td>\n",
       "      <td>10</td>\n",
       "      <td>30</td>\n",
       "    </tr>\n",
       "    <tr>\n",
       "      <th>4</th>\n",
       "      <td>1920</td>\n",
       "      <td>14</td>\n",
       "      <td>15</td>\n",
       "      <td>15</td>\n",
       "      <td>44</td>\n",
       "    </tr>\n",
       "    <tr>\n",
       "      <th>5</th>\n",
       "      <td>1924</td>\n",
       "      <td>15</td>\n",
       "      <td>15</td>\n",
       "      <td>16</td>\n",
       "      <td>46</td>\n",
       "    </tr>\n",
       "    <tr>\n",
       "      <th>6</th>\n",
       "      <td>1928</td>\n",
       "      <td>33</td>\n",
       "      <td>32</td>\n",
       "      <td>32</td>\n",
       "      <td>97</td>\n",
       "    </tr>\n",
       "    <tr>\n",
       "      <th>7</th>\n",
       "      <td>1932</td>\n",
       "      <td>20</td>\n",
       "      <td>20</td>\n",
       "      <td>22</td>\n",
       "      <td>62</td>\n",
       "    </tr>\n",
       "    <tr>\n",
       "      <th>8</th>\n",
       "      <td>1936</td>\n",
       "      <td>30</td>\n",
       "      <td>29</td>\n",
       "      <td>29</td>\n",
       "      <td>88</td>\n",
       "    </tr>\n",
       "    <tr>\n",
       "      <th>9</th>\n",
       "      <td>1948</td>\n",
       "      <td>35</td>\n",
       "      <td>33</td>\n",
       "      <td>33</td>\n",
       "      <td>101</td>\n",
       "    </tr>\n",
       "    <tr>\n",
       "      <th>10</th>\n",
       "      <td>1952</td>\n",
       "      <td>46</td>\n",
       "      <td>47</td>\n",
       "      <td>47</td>\n",
       "      <td>140</td>\n",
       "    </tr>\n",
       "    <tr>\n",
       "      <th>11</th>\n",
       "      <td>1956</td>\n",
       "      <td>49</td>\n",
       "      <td>45</td>\n",
       "      <td>50</td>\n",
       "      <td>144</td>\n",
       "    </tr>\n",
       "    <tr>\n",
       "      <th>12</th>\n",
       "      <td>1960</td>\n",
       "      <td>47</td>\n",
       "      <td>56</td>\n",
       "      <td>53</td>\n",
       "      <td>156</td>\n",
       "    </tr>\n",
       "    <tr>\n",
       "      <th>13</th>\n",
       "      <td>1964</td>\n",
       "      <td>60</td>\n",
       "      <td>71</td>\n",
       "      <td>69</td>\n",
       "      <td>200</td>\n",
       "    </tr>\n",
       "    <tr>\n",
       "      <th>14</th>\n",
       "      <td>1968</td>\n",
       "      <td>70</td>\n",
       "      <td>75</td>\n",
       "      <td>70</td>\n",
       "      <td>215</td>\n",
       "    </tr>\n",
       "    <tr>\n",
       "      <th>15</th>\n",
       "      <td>1972</td>\n",
       "      <td>79</td>\n",
       "      <td>87</td>\n",
       "      <td>84</td>\n",
       "      <td>250</td>\n",
       "    </tr>\n",
       "    <tr>\n",
       "      <th>16</th>\n",
       "      <td>1976</td>\n",
       "      <td>128</td>\n",
       "      <td>131</td>\n",
       "      <td>130</td>\n",
       "      <td>389</td>\n",
       "    </tr>\n",
       "    <tr>\n",
       "      <th>17</th>\n",
       "      <td>1980</td>\n",
       "      <td>144</td>\n",
       "      <td>145</td>\n",
       "      <td>145</td>\n",
       "      <td>434</td>\n",
       "    </tr>\n",
       "    <tr>\n",
       "      <th>18</th>\n",
       "      <td>1984</td>\n",
       "      <td>164</td>\n",
       "      <td>170</td>\n",
       "      <td>160</td>\n",
       "      <td>494</td>\n",
       "    </tr>\n",
       "    <tr>\n",
       "      <th>19</th>\n",
       "      <td>1988</td>\n",
       "      <td>191</td>\n",
       "      <td>178</td>\n",
       "      <td>185</td>\n",
       "      <td>554</td>\n",
       "    </tr>\n",
       "    <tr>\n",
       "      <th>20</th>\n",
       "      <td>1992</td>\n",
       "      <td>205</td>\n",
       "      <td>197</td>\n",
       "      <td>190</td>\n",
       "      <td>592</td>\n",
       "    </tr>\n",
       "    <tr>\n",
       "      <th>21</th>\n",
       "      <td>1996</td>\n",
       "      <td>256</td>\n",
       "      <td>255</td>\n",
       "      <td>253</td>\n",
       "      <td>764</td>\n",
       "    </tr>\n",
       "    <tr>\n",
       "      <th>22</th>\n",
       "      <td>2000</td>\n",
       "      <td>299</td>\n",
       "      <td>288</td>\n",
       "      <td>293</td>\n",
       "      <td>880</td>\n",
       "    </tr>\n",
       "    <tr>\n",
       "      <th>23</th>\n",
       "      <td>2004</td>\n",
       "      <td>301</td>\n",
       "      <td>298</td>\n",
       "      <td>299</td>\n",
       "      <td>898</td>\n",
       "    </tr>\n",
       "    <tr>\n",
       "      <th>24</th>\n",
       "      <td>2008</td>\n",
       "      <td>319</td>\n",
       "      <td>306</td>\n",
       "      <td>307</td>\n",
       "      <td>932</td>\n",
       "    </tr>\n",
       "    <tr>\n",
       "      <th>25</th>\n",
       "      <td>2012</td>\n",
       "      <td>314</td>\n",
       "      <td>301</td>\n",
       "      <td>303</td>\n",
       "      <td>918</td>\n",
       "    </tr>\n",
       "    <tr>\n",
       "      <th>26</th>\n",
       "      <td>2016</td>\n",
       "      <td>331</td>\n",
       "      <td>318</td>\n",
       "      <td>320</td>\n",
       "      <td>969</td>\n",
       "    </tr>\n",
       "  </tbody>\n",
       "</table>\n",
       "</div>"
      ],
      "text/plain": [
       "Medal  Year  Bronze  Gold  Silver  Total\n",
       "0      1900       5     4       4     13\n",
       "1      1904       2     6       2     10\n",
       "2      1908       5     6       5     16\n",
       "3      1912      10    10      10     30\n",
       "4      1920      14    15      15     44\n",
       "5      1924      15    15      16     46\n",
       "6      1928      33    32      32     97\n",
       "7      1932      20    20      22     62\n",
       "8      1936      30    29      29     88\n",
       "9      1948      35    33      33    101\n",
       "10     1952      46    47      47    140\n",
       "11     1956      49    45      50    144\n",
       "12     1960      47    56      53    156\n",
       "13     1964      60    71      69    200\n",
       "14     1968      70    75      70    215\n",
       "15     1972      79    87      84    250\n",
       "16     1976     128   131     130    389\n",
       "17     1980     144   145     145    434\n",
       "18     1984     164   170     160    494\n",
       "19     1988     191   178     185    554\n",
       "20     1992     205   197     190    592\n",
       "21     1996     256   255     253    764\n",
       "22     2000     299   288     293    880\n",
       "23     2004     301   298     299    898\n",
       "24     2008     319   306     307    932\n",
       "25     2012     314   301     303    918\n",
       "26     2016     331   318     320    969"
      ]
     },
     "execution_count": 19,
     "metadata": {},
     "output_type": "execute_result"
    }
   ],
   "source": [
    "#Women medal win over the years\n",
    "WomenInOlympics= Summer_olympics[(Summer_olympics.Sex == 'F')]\n",
    "medal_F = WomenInOlympics.groupby(['Year','Medal']).size().unstack('Medal',fill_value=0)\n",
    "medal_F['Total'] = medal_F['Gold'] +medal_F['Silver'] +medal_F['Bronze']\n",
    "medal_F.reset_index(inplace=True)\n",
    "medal_F"
   ]
  },
  {
   "cell_type": "code",
   "execution_count": 20,
   "metadata": {},
   "outputs": [
    {
     "data": {
      "text/plain": [
       "<seaborn.axisgrid.FacetGrid at 0x7f2af2c46e10>"
      ]
     },
     "execution_count": 20,
     "metadata": {},
     "output_type": "execute_result"
    },
    {
     "data": {
      "text/plain": [
       "<Figure size 1440x720 with 0 Axes>"
      ]
     },
     "metadata": {},
     "output_type": "display_data"
    },
    {
     "data": {
      "image/png": "[encoded data removed]",
      "text/plain": [
       "<Figure size 360x360 with 1 Axes>"
      ]
     },
     "metadata": {},
     "output_type": "display_data"
    }
   ],
   "source": [
    "## lets plot it\n",
    "sns.set(style=\"darkgrid\")\n",
    "plt.figure(figsize=(20, 10))\n",
    "sns.catplot(x=\"Year\",y=\"Total\", data=medal_F, kind='point')"
   ]
  },
  {
   "cell_type": "markdown",
   "metadata": {},
   "source": [
    "OBSERVATION: Women contribution to medal win has been increasing throughly."
   ]
  },
  {
   "cell_type": "code",
   "execution_count": 21,
   "metadata": {},
   "outputs": [
    {
     "name": "stdout",
     "output_type": "stream",
     "text": [
      "      Year  NOC Sex  counts\n",
      "4841  2016  USA   F     291\n",
      "4526  2016  CHN   F     240\n",
      "4471  2016  AUS   F     212\n",
      "4502  2016  BRA   F     207\n",
      "4593  2016  GER   F     194\n",
      "...    ...  ...  ..     ...\n",
      "2     1896  DEN   M       3\n",
      "9     1896  SUI   M       3\n",
      "0     1896  AUS   M       1\n",
      "8     1896  ITA   M       1\n",
      "10    1896  SWE   M       1\n",
      "\n",
      "[4858 rows x 4 columns]       Year  NOC Sex  counts\n",
      "4842  2016  USA   M     264\n",
      "4503  2016  BRA   M     255\n",
      "4579  2016  FRA   M     225\n",
      "4594  2016  GER   M     224\n",
      "4472  2016  AUS   M     208\n",
      "...    ...  ...  ..     ...\n",
      "2     1896  DEN   M       3\n",
      "9     1896  SUI   M       3\n",
      "0     1896  AUS   M       1\n",
      "8     1896  ITA   M       1\n",
      "10    1896  SWE   M       1\n",
      "\n",
      "[4858 rows x 4 columns]\n"
     ]
    }
   ],
   "source": [
    "#Number of women relative to men across countries\n",
    "\n",
    "newdf = Summer_olympics[['NOC','Year','Name','Sex']]\n",
    "newdf = newdf.drop_duplicates()\n",
    "\n",
    "malefemale_count=newdf.groupby(['Year','NOC','Sex'])[\"Sex\"].count().reset_index(name=\"counts\")\n",
    "\n",
    "Sort_F = malefemale_count.sort_values(['Year','Sex','counts'], ascending=(False,True,False))\n",
    "\n",
    "Sort_M = malefemale_count.sort_values(['Year','Sex','counts'], ascending=(False,False,False))\n",
    "print(Sort_F,Sort_M)"
   ]
  },
  {
   "cell_type": "markdown",
   "metadata": {},
   "source": [
    "OBSERVATION: In 2016 U.S. team sent more women than men i.e 291 Female vs 264 Men"
   ]
  },
  {
   "cell_type": "code",
   "execution_count": 22,
   "metadata": {},
   "outputs": [
    {
     "data": {
      "text/plain": [
       "Athletics                38154\n",
       "Gymnastics               26551\n",
       "Swimming                 23117\n",
       "Shooting                 11128\n",
       "Cycling                  10721\n",
       "Fencing                  10574\n",
       "Rowing                   10395\n",
       "Wrestling                 7115\n",
       "Football                  6700\n",
       "Sailing                   6586\n",
       "Equestrianism             6344\n",
       "Canoeing                  6171\n",
       "Boxing                    6047\n",
       "Hockey                    5417\n",
       "Basketball                4536\n",
       "Weightlifting             3915\n",
       "Water Polo                3846\n",
       "Judo                      3801\n",
       "Handball                  3665\n",
       "Art Competitions          3578\n",
       "Volleyball                3404\n",
       "Diving                    2818\n",
       "Tennis                    2814\n",
       "Archery                   2334\n",
       "Table Tennis              1955\n",
       "Modern Pentathlon         1677\n",
       "Badminton                 1457\n",
       "Synchronized Swimming      909\n",
       "Baseball                   894\n",
       "Rhythmic Gymnastics        658\n",
       "Taekwondo                  606\n",
       "Beach Volleyball           564\n",
       "Triathlon                  529\n",
       "Softball                   478\n",
       "Rugby Sevens               299\n",
       "Golf                       247\n",
       "Rugby                      162\n",
       "Trampolining               152\n",
       "Tug-Of-War                 138\n",
       "Polo                        95\n",
       "Lacrosse                    60\n",
       "Ice Hockey                  60\n",
       "Figure Skating              54\n",
       "Cricket                     24\n",
       "Croquet                     19\n",
       "Motorboating                17\n",
       "Racquets                    12\n",
       "Jeu De Paume                11\n",
       "Roque                        4\n",
       "Alpinism                     4\n",
       "Basque Pelota                2\n",
       "Aeronautics                  1\n",
       "Name: Sport, dtype: int64"
      ]
     },
     "execution_count": 22,
     "metadata": {},
     "output_type": "execute_result"
    }
   ],
   "source": [
    "##Different Sports played\n",
    "Summer_olympics[\"Sport\"].value_counts()"
   ]
  },
  {
   "cell_type": "code",
   "execution_count": 23,
   "metadata": {},
   "outputs": [
    {
     "data": {
      "text/plain": [
       "Gold      11302\n",
       "Bronze    11264\n",
       "Silver    11064\n",
       "Name: Medal, dtype: int64"
      ]
     },
     "execution_count": 23,
     "metadata": {},
     "output_type": "execute_result"
    }
   ],
   "source": [
    "#Medal Distribution\n",
    "Summer_olympics.Medal.value_counts()"
   ]
  },
  {
   "cell_type": "markdown",
   "metadata": {},
   "source": [
    "Country with most Gold Medal"
   ]
  },
  {
   "cell_type": "code",
   "execution_count": 24,
   "metadata": {},
   "outputs": [],
   "source": [
    "goldMedals = Summer_olympics[(Summer_olympics.Medal == 'Gold')]"
   ]
  },
  {
   "cell_type": "markdown",
   "metadata": {},
   "source": [
    "Gold      11302\n",
    "Bronze    11264\n",
    "Silver    11064\n",
    "Name: Medal, dtype: int64\n",
    "Country with most Gold Medal"
   ]
  },
  {
   "cell_type": "code",
   "execution_count": 25,
   "metadata": {},
   "outputs": [
    {
     "data": {
      "text/html": [
       "<div>\n",
       "<style scoped>\n",
       "    .dataframe tbody tr th:only-of-type {\n",
       "        vertical-align: middle;\n",
       "    }\n",
       "\n",
       "    .dataframe tbody tr th {\n",
       "        vertical-align: top;\n",
       "    }\n",
       "\n",
       "    .dataframe thead th {\n",
       "        text-align: right;\n",
       "    }\n",
       "</style>\n",
       "<table border=\"1\" class=\"dataframe\">\n",
       "  <thead>\n",
       "    <tr style=\"text-align: right;\">\n",
       "      <th></th>\n",
       "      <th>index</th>\n",
       "      <th>Medal</th>\n",
       "    </tr>\n",
       "  </thead>\n",
       "  <tbody>\n",
       "    <tr>\n",
       "      <th>0</th>\n",
       "      <td>USA</td>\n",
       "      <td>2460</td>\n",
       "    </tr>\n",
       "    <tr>\n",
       "      <th>1</th>\n",
       "      <td>Russia</td>\n",
       "      <td>1220</td>\n",
       "    </tr>\n",
       "    <tr>\n",
       "      <th>2</th>\n",
       "      <td>Germany</td>\n",
       "      <td>1061</td>\n",
       "    </tr>\n",
       "    <tr>\n",
       "      <th>3</th>\n",
       "      <td>UK</td>\n",
       "      <td>627</td>\n",
       "    </tr>\n",
       "    <tr>\n",
       "      <th>4</th>\n",
       "      <td>Italy</td>\n",
       "      <td>497</td>\n",
       "    </tr>\n",
       "    <tr>\n",
       "      <th>5</th>\n",
       "      <td>France</td>\n",
       "      <td>445</td>\n",
       "    </tr>\n",
       "    <tr>\n",
       "      <th>6</th>\n",
       "      <td>Hungary</td>\n",
       "      <td>427</td>\n",
       "    </tr>\n",
       "    <tr>\n",
       "      <th>7</th>\n",
       "      <td>Australia</td>\n",
       "      <td>362</td>\n",
       "    </tr>\n",
       "    <tr>\n",
       "      <th>8</th>\n",
       "      <td>Sweden</td>\n",
       "      <td>352</td>\n",
       "    </tr>\n",
       "    <tr>\n",
       "      <th>9</th>\n",
       "      <td>China</td>\n",
       "      <td>335</td>\n",
       "    </tr>\n",
       "  </tbody>\n",
       "</table>\n",
       "</div>"
      ],
      "text/plain": [
       "       index  Medal\n",
       "0        USA   2460\n",
       "1     Russia   1220\n",
       "2    Germany   1061\n",
       "3         UK    627\n",
       "4      Italy    497\n",
       "5     France    445\n",
       "6    Hungary    427\n",
       "7  Australia    362\n",
       "8     Sweden    352\n",
       "9      China    335"
      ]
     },
     "execution_count": 25,
     "metadata": {},
     "output_type": "execute_result"
    }
   ],
   "source": [
    "goldMedals.region.value_counts().reset_index(name='Medal').head(10)"
   ]
  },
  {
   "cell_type": "markdown",
   "metadata": {},
   "source": [
    "US has most of the Gold Medals with them."
   ]
  },
  {
   "cell_type": "markdown",
   "metadata": {},
   "source": [
    "WE COULD CONCLUDE THAT USA IS LEADING IN ALL THE AREAS\n",
    "1)No. of Total Medals\n",
    "2)Top Athelete\n",
    "3)Maximum Women Participation"
   ]
  }
 ],
 "metadata": {
  "kernelspec": {
   "display_name": "Python 3",
   "language": "python",
   "name": "python3"
  },
  "language_info": {
   "codemirror_mode": {
    "name": "ipython",
    "version": 3
   },
   "file_extension": ".py",
   "mimetype": "text/x-python",
   "name": "python",
   "nbconvert_exporter": "python",
   "pygments_lexer": "ipython3",
   "version": "3.7.6"
  }
 },
 "nbformat": 4,
 "nbformat_minor": 4
}
